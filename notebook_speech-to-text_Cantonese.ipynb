{
 "cells": [
  {
   "cell_type": "markdown",
   "metadata": {},
   "source": [
    "## Install and import packages"
   ]
  },
  {
   "cell_type": "code",
   "execution_count": 1,
   "metadata": {},
   "outputs": [],
   "source": [
    "# !pip install soundfile\n",
    "# !pip install pydub\n",
    "# !pip install SpeechRecognition\n",
    "# !pip install openai --upgrade"
   ]
  },
  {
   "cell_type": "code",
   "execution_count": 2,
   "metadata": {},
   "outputs": [
    {
     "name": "stderr",
     "output_type": "stream",
     "text": [
      "/Users/kw/Documents/py_projects/canto-text/.venv/lib/python3.12/site-packages/tqdm/auto.py:21: TqdmWarning: IProgress not found. Please update jupyter and ipywidgets. See https://ipywidgets.readthedocs.io/en/stable/user_install.html\n",
      "  from .autonotebook import tqdm as notebook_tqdm\n"
     ]
    }
   ],
   "source": [
    "import os\n",
    "import csv\n",
    "import wave\n",
    "import soundfile\n",
    "import requests\n",
    "import pandas as pd\n",
    "from datetime import timedelta\n",
    "from pydub import AudioSegment\n",
    "import speech_recognition as sr\n",
    "from transformers import pipeline\n",
    "from openai import AzureOpenAI\n",
    "from dotenv import load_dotenv\n",
    "from tqdm import tqdm\n",
    "\n",
    "\n",
    "# Load environment variables from .env file\n",
    "load_dotenv()\n",
    "\n",
    "# Get the Hugging Face API key from the environment variables\n",
    "HF_API_KEY = os.environ[\"HF_API_KEY\"]\n",
    "GEMINI_API_KEY = os.environ[\"GEMINI_API_KEY\"]"
   ]
  },
  {
   "cell_type": "markdown",
   "metadata": {},
   "source": [
    "--- \n",
    "#### Setup Device (CUDA, MPS, CPU)"
   ]
  },
  {
   "cell_type": "code",
   "execution_count": 3,
   "metadata": {},
   "outputs": [
    {
     "name": "stdout",
     "output_type": "stream",
     "text": [
      "Using device: mps\n"
     ]
    }
   ],
   "source": [
    "import torch\n",
    "\n",
    "# Determine the best available device (CUDA if available, otherwise MPS, then CPU)\n",
    "if torch.cuda.is_available():\n",
    "    device = torch.device(\"cuda\")\n",
    "elif torch.backends.mps.is_available():\n",
    "    device = torch.device(\"mps\")\n",
    "else:\n",
    "    device = torch.device(\"cpu\")\n",
    "\n",
    "print(f\"Using device: {device}\")"
   ]
  },
  {
   "cell_type": "code",
   "execution_count": 4,
   "metadata": {},
   "outputs": [],
   "source": [
    "input_m4a_audio = \"input_audio/sample_20mins.m4a\""
   ]
  },
  {
   "cell_type": "markdown",
   "metadata": {},
   "source": [
    "---\n",
    "## Convert audio to wav format"
   ]
  },
  {
   "cell_type": "code",
   "execution_count": 5,
   "metadata": {},
   "outputs": [],
   "source": [
    "from pydub import AudioSegment\n",
    "import os\n",
    "\n",
    "def convert_audio_to_wav(input_file):\n",
    "    \"\"\"Convert .m4a file to .wav format.\"\"\"\n",
    "    # Load the .m4a file\n",
    "    audio = AudioSegment.from_file(input_file, format=\"m4a\")\n",
    "    output_file = os.path.join(\"converted_audio\", os.path.basename(input_file).replace(\".m4a\", \".wav\"))\n",
    "    os.makedirs(os.path.dirname(output_file), exist_ok=True)\n",
    "    audio.export(output_file, format=\"wav\")\n",
    "    \n",
    "    return output_file"
   ]
  },
  {
   "cell_type": "code",
   "execution_count": 6,
   "metadata": {},
   "outputs": [
    {
     "data": {
      "text/plain": [
       "'converted_audio/sample_20mins.wav'"
      ]
     },
     "execution_count": 6,
     "metadata": {},
     "output_type": "execute_result"
    }
   ],
   "source": [
    "convert_audio_to_wav(input_m4a_audio)"
   ]
  },
  {
   "cell_type": "markdown",
   "metadata": {},
   "source": [
    "---\n",
    "## Audio Chunking\n",
    "### using pyannote"
   ]
  },
  {
   "cell_type": "code",
   "execution_count": 7,
   "metadata": {},
   "outputs": [],
   "source": [
    "import os\n",
    "import numpy as np\n",
    "import librosa\n",
    "import soundfile as sf\n",
    "from pydub import AudioSegment\n",
    "from tqdm import tqdm\n",
    "import matplotlib.pyplot as plt\n",
    "from scipy.signal import medfilt\n",
    "\n",
    "def split_audio_by_silence(audio_path, output_dir, chunk_duration=300, min_silence_duration=0.5, \n",
    "                           silence_threshold=-40, padding=0.2):\n",
    "    \"\"\"\n",
    "    Split an audio file into chunks based on silence detection to avoid splitting in the middle of sentences.\n",
    "    \n",
    "    Parameters:\n",
    "    - audio_path: Path to the input audio file\n",
    "    - output_dir: Directory to save the output chunks\n",
    "    - chunk_duration: Target duration for each chunk in seconds (default: 300s = 5 minutes)\n",
    "    - min_silence_duration: Minimum duration of silence to consider as a potential split point (seconds)\n",
    "    - silence_threshold: Threshold in dB for determining silence\n",
    "    - padding: Padding time in seconds to add to each chunk to ensure overlap\n",
    "    \n",
    "    Returns:\n",
    "    - List of paths to the generated audio chunks\n",
    "    \"\"\"\n",
    "    # Create output directory if it doesn't exist\n",
    "    os.makedirs(output_dir, exist_ok=True)\n",
    "    \n",
    "    # Load the audio file with pydub\n",
    "    audio = AudioSegment.from_file(audio_path)\n",
    "    \n",
    "    # Convert to mono if stereo for easier processing\n",
    "    if audio.channels > 1:\n",
    "        audio = audio.set_channels(1)\n",
    "    \n",
    "    # Get the duration in milliseconds\n",
    "    total_duration_ms = len(audio)\n",
    "    \n",
    "    # Convert chunk duration to milliseconds\n",
    "    chunk_duration_ms = chunk_duration * 1000\n",
    "    \n",
    "    # Load the audio file with librosa for silence detection\n",
    "    y, sr = librosa.load(audio_path, sr=None)\n",
    "    \n",
    "    # Compute the RMS energy\n",
    "    rms = librosa.feature.rms(y=y, frame_length=int(sr * 0.025), hop_length=int(sr * 0.01))[0]\n",
    "    \n",
    "    # Convert to dB\n",
    "    rms_db = 20 * np.log10(rms + 1e-10)\n",
    "    \n",
    "    # Apply median filtering to smooth the energy curve\n",
    "    rms_db_smoothed = medfilt(rms_db, kernel_size=11)\n",
    "    \n",
    "    # Find silence regions (below threshold)\n",
    "    silence_mask = rms_db_smoothed < silence_threshold\n",
    "    \n",
    "    # Convert to time (seconds)\n",
    "    times = librosa.times_like(rms_db_smoothed, sr=sr, hop_length=int(sr * 0.01))\n",
    "    \n",
    "    # Find continuous silence regions\n",
    "    silence_regions = []\n",
    "    in_silence = False\n",
    "    start_time = 0\n",
    "    \n",
    "    for i, is_silent in enumerate(silence_mask):\n",
    "        if is_silent and not in_silence:\n",
    "            # Start of a silence region\n",
    "            start_time = times[i]\n",
    "            in_silence = True\n",
    "        elif not is_silent and in_silence:\n",
    "            # End of a silence region\n",
    "            end_time = times[i]\n",
    "            silence_duration = end_time - start_time\n",
    "            if silence_duration >= min_silence_duration:\n",
    "                silence_regions.append((start_time, end_time))\n",
    "            in_silence = False\n",
    "    \n",
    "    # Add the last silence region if we're still in silence at the end\n",
    "    if in_silence:\n",
    "        end_time = times[-1]\n",
    "        silence_duration = end_time - start_time\n",
    "        if silence_duration >= min_silence_duration:\n",
    "            silence_regions.append((start_time, end_time))\n",
    "    \n",
    "    # Sort silence regions by their start time\n",
    "    silence_regions.sort(key=lambda x: x[0])\n",
    "    \n",
    "    # Determine the split points\n",
    "    split_points = []\n",
    "    current_chunk_end_ms = chunk_duration_ms\n",
    "    \n",
    "    # Find the closest silence region to each target chunk end\n",
    "    for i in range(len(silence_regions)):\n",
    "        silence_start_ms = silence_regions[i][0] * 1000\n",
    "        silence_end_ms = silence_regions[i][1] * 1000\n",
    "        \n",
    "        # If this silence region is close to our target chunk end\n",
    "        if abs(silence_start_ms - current_chunk_end_ms) < chunk_duration_ms * 0.2:\n",
    "            split_points.append(silence_start_ms)\n",
    "            current_chunk_end_ms += chunk_duration_ms\n",
    "        \n",
    "        # If we've already passed our target chunk end, use this silence region\n",
    "        elif silence_start_ms > current_chunk_end_ms:\n",
    "            split_points.append(silence_start_ms)\n",
    "            current_chunk_end_ms = silence_start_ms + chunk_duration_ms\n",
    "    \n",
    "    # Add the start of the audio as the first split point\n",
    "    split_points = [0] + split_points\n",
    "    \n",
    "    # Add the end of the audio as the last split point\n",
    "    if split_points[-1] < total_duration_ms:\n",
    "        split_points.append(total_duration_ms)\n",
    "    \n",
    "    # Generate chunks\n",
    "    chunk_paths = []\n",
    "    \n",
    "    for i in range(len(split_points) - 1):\n",
    "        # Calculate start and end times with padding\n",
    "        start_ms = max(0, split_points[i] - padding * 1000)\n",
    "        end_ms = min(total_duration_ms, split_points[i + 1] + padding * 1000)\n",
    "        \n",
    "        # Extract the chunk\n",
    "        chunk = audio[start_ms:end_ms]\n",
    "        \n",
    "        # Generate the output filename\n",
    "        output_filename = f\"chunk_{i+1:03d}.wav\"\n",
    "        output_path = os.path.join(output_dir, output_filename)\n",
    "        \n",
    "        # Export the chunk\n",
    "        chunk.export(output_path, format=\"wav\")\n",
    "        chunk_paths.append(output_path)\n",
    "        \n",
    "        # Print progress\n",
    "        print(f\"Chunk {i+1}/{len(split_points)-1} - Duration: {(end_ms-start_ms)/1000:.2f}s\")\n",
    "    \n",
    "    return chunk_paths\n"
   ]
  },
  {
   "cell_type": "code",
   "execution_count": 8,
   "metadata": {},
   "outputs": [],
   "source": [
    "raw_wav_file = input_m4a_audio.replace('input_audio', 'converted_audio').replace('.m4a', '.wav')\n",
    "file_name = input_m4a_audio.split('/')[-1].split('.')[0]"
   ]
  },
  {
   "cell_type": "code",
   "execution_count": 9,
   "metadata": {},
   "outputs": [
    {
     "name": "stdout",
     "output_type": "stream",
     "text": [
      "Chunk 1/18 - Duration: 78.62s\n",
      "Chunk 2/18 - Duration: 68.57s\n",
      "Chunk 3/18 - Duration: 96.01s\n",
      "Chunk 4/18 - Duration: 86.13s\n",
      "Chunk 5/18 - Duration: 57.94s\n",
      "Chunk 6/18 - Duration: 79.54s\n",
      "Chunk 7/18 - Duration: 81.10s\n",
      "Chunk 8/18 - Duration: 98.52s\n",
      "Chunk 9/18 - Duration: 69.71s\n",
      "Chunk 10/18 - Duration: 142.17s\n",
      "Chunk 11/18 - Duration: 111.12s\n",
      "Chunk 12/18 - Duration: 118.00s\n",
      "Chunk 13/18 - Duration: 73.12s\n",
      "Chunk 14/18 - Duration: 93.91s\n",
      "Chunk 15/18 - Duration: 99.56s\n",
      "Chunk 16/18 - Duration: 84.22s\n",
      "Chunk 17/18 - Duration: 61.05s\n",
      "Chunk 18/18 - Duration: 63.22s\n"
     ]
    },
    {
     "data": {
      "text/plain": [
       "['chunked_audio/sample_20mins/chunk_001.wav',\n",
       " 'chunked_audio/sample_20mins/chunk_002.wav',\n",
       " 'chunked_audio/sample_20mins/chunk_003.wav',\n",
       " 'chunked_audio/sample_20mins/chunk_004.wav',\n",
       " 'chunked_audio/sample_20mins/chunk_005.wav',\n",
       " 'chunked_audio/sample_20mins/chunk_006.wav',\n",
       " 'chunked_audio/sample_20mins/chunk_007.wav',\n",
       " 'chunked_audio/sample_20mins/chunk_008.wav',\n",
       " 'chunked_audio/sample_20mins/chunk_009.wav',\n",
       " 'chunked_audio/sample_20mins/chunk_010.wav',\n",
       " 'chunked_audio/sample_20mins/chunk_011.wav',\n",
       " 'chunked_audio/sample_20mins/chunk_012.wav',\n",
       " 'chunked_audio/sample_20mins/chunk_013.wav',\n",
       " 'chunked_audio/sample_20mins/chunk_014.wav',\n",
       " 'chunked_audio/sample_20mins/chunk_015.wav',\n",
       " 'chunked_audio/sample_20mins/chunk_016.wav',\n",
       " 'chunked_audio/sample_20mins/chunk_017.wav',\n",
       " 'chunked_audio/sample_20mins/chunk_018.wav']"
      ]
     },
     "execution_count": 9,
     "metadata": {},
     "output_type": "execute_result"
    }
   ],
   "source": [
    "split_audio_by_silence(raw_wav_file, f\"chunked_audio/{file_name}\", chunk_duration=80)"
   ]
  },
  {
   "cell_type": "markdown",
   "metadata": {},
   "source": [
    "---\n",
    "\n",
    "## Speech (Cantonese) to Text (Spoken Cantonese)\n",
    "### Method 1: using Google Gemini 1.5 pro"
   ]
  },
  {
   "cell_type": "code",
   "execution_count": 10,
   "metadata": {},
   "outputs": [],
   "source": [
    "def get_all_file_paths(directory):\n",
    "    file_paths = []\n",
    "    for root, _, files in os.walk(directory):\n",
    "        for file in files:\n",
    "            if file.endswith('.wav'):  # Make sure to only include .wav files\n",
    "                file_paths.append(os.path.join(root, file))\n",
    "    \n",
    "    # Sort the file paths based on the numeric part of the filename\n",
    "    file_paths.sort(key=lambda x: int(os.path.splitext(os.path.basename(x))[0].split('_')[-1]))\n",
    "    \n",
    "    return file_paths"
   ]
  },
  {
   "cell_type": "code",
   "execution_count": 11,
   "metadata": {},
   "outputs": [
    {
     "data": {
      "text/plain": [
       "'sample_20mins'"
      ]
     },
     "execution_count": 11,
     "metadata": {},
     "output_type": "execute_result"
    }
   ],
   "source": [
    "file_name"
   ]
  },
  {
   "cell_type": "code",
   "execution_count": 12,
   "metadata": {},
   "outputs": [
    {
     "data": {
      "text/plain": [
       "['chunked_audio/sample_20mins/chunk_001.wav',\n",
       " 'chunked_audio/sample_20mins/chunk_002.wav',\n",
       " 'chunked_audio/sample_20mins/chunk_003.wav',\n",
       " 'chunked_audio/sample_20mins/chunk_004.wav',\n",
       " 'chunked_audio/sample_20mins/chunk_005.wav',\n",
       " 'chunked_audio/sample_20mins/chunk_006.wav',\n",
       " 'chunked_audio/sample_20mins/chunk_007.wav',\n",
       " 'chunked_audio/sample_20mins/chunk_008.wav',\n",
       " 'chunked_audio/sample_20mins/chunk_009.wav',\n",
       " 'chunked_audio/sample_20mins/chunk_010.wav',\n",
       " 'chunked_audio/sample_20mins/chunk_011.wav',\n",
       " 'chunked_audio/sample_20mins/chunk_012.wav',\n",
       " 'chunked_audio/sample_20mins/chunk_013.wav',\n",
       " 'chunked_audio/sample_20mins/chunk_014.wav',\n",
       " 'chunked_audio/sample_20mins/chunk_015.wav',\n",
       " 'chunked_audio/sample_20mins/chunk_016.wav',\n",
       " 'chunked_audio/sample_20mins/chunk_017.wav',\n",
       " 'chunked_audio/sample_20mins/chunk_018.wav']"
      ]
     },
     "execution_count": 12,
     "metadata": {},
     "output_type": "execute_result"
    }
   ],
   "source": [
    "audio_chunk_paths = get_all_file_paths(f'chunked_audio/{file_name}')\n",
    "audio_chunk_paths"
   ]
  },
  {
   "cell_type": "code",
   "execution_count": 13,
   "metadata": {},
   "outputs": [],
   "source": [
    "import google.generativeai as genai\n",
    "\n",
    "# Gemini transcription and diarization function\n",
    "def transcribe_with_gemini(audio_chunk_paths, api_key):\n",
    "    try:\n",
    "        print(\"Transcribing with Gemini Pro 1.5...\")\n",
    "        genai.configure(api_key=api_key)\n",
    "        model = genai.GenerativeModel('gemini-1.5-pro')\n",
    "        \n",
    "        # Create prompt for diarization and Cantonese transcription\n",
    "        prompt = \"\"\"\n",
    "        Transcribe this Cantonese audio while eliminating filler words and repeating words.\n",
    "        - The audio contains a conversation between multiple speakers but \n",
    "        \"\"\"\n",
    "        \n",
    "        transcriptions = []\n",
    "        for i, chunk_path in enumerate(tqdm(audio_chunk_paths, desc=\"Transcribing chunks\")):\n",
    "            # Upload audio file with specified MIME type\n",
    "            f = genai.upload_file(chunk_path, mime_type='audio/wav')\n",
    "            \n",
    "            # Generate using multimodal capabilities\n",
    "            response = model.generate_content([prompt, f])\n",
    "            transcriptions.append(response.text)\n",
    "        \n",
    "        return \"\".join(transcriptions)\n",
    "    except Exception as e:\n",
    "        print(f\"Error with Gemini transcription: {str(e)}\")\n",
    "        return None"
   ]
  },
  {
   "cell_type": "code",
   "execution_count": 14,
   "metadata": {},
   "outputs": [
    {
     "name": "stdout",
     "output_type": "stream",
     "text": [
      "Transcribing with Gemini Pro 1.5...\n"
     ]
    },
    {
     "name": "stderr",
     "output_type": "stream",
     "text": [
      "Transcribing chunks: 100%|██████████| 18/18 [05:34<00:00, 18.61s/it]"
     ]
    },
    {
     "name": "stdout",
     "output_type": "stream",
     "text": [
      "關於教師發展課程，好開心，一點啦啦申請，只有你，因為截止啦，其實截止啦，因為1月31號嘛，我都唔記得咗，今日今日27號，發現邊問題喎，只有你，嗰年1月1號，去到，其實年年都有嘅，不過我唔記得咗多次，年年都有呢個申請，係嗰年1月1號，去到今年的1月31號喎，之前你已經完成晒成個Course，然後有單有證書，可以申請，例如，Course Cert，你未讀㗎？讀咗，讀咗攞咗證書，攞咗。有收據？有收據，正本證書？係，辦妥先，好，申請咗先，好，申請我幫你，辦妥，即時幫你。因為申請咗嘛，因為過咗如果唔再申請呢，就點呀？就過咗囉。因為佢下個年度都會再繼續，就係下年嘅2025年1月1號囉，去到，因為你收據之前，係，咁就趁聽日囉，係，你就即時可以追呀嘛。應該仲有成個月喎，哦，係啦係啦，收到已經讀晒啦，係呀係呀，所以就申請啦，例如例如Cert，繼續申請下呢個， 삐唔便宜咩？初初初初…唔係啫… 講嘅事實呀，係唔係先？大家都係個好嘅Idea，因為同我哋實際有關嘅，等我講錯，其實我哋做嘢出發點係嗰啲牌照嘅嘢。 計劃好啲。 你哋好啦。 好呀。 除非做好長，就可以圍返啲。 你咪… 你話… 其他老師出發點即知道嘅。 係啦，睇你自己小朋友，我哋老師，我連做其他… 佢咪做咗，其他人做其他。 不過後來呢就開始… 之嘛。 因為佢哋話嗰會，佢哋話… 都講… 其實… 時數時數… 但其他老師，佢哋之前嗰啲老師嘅，真實情況係咁㗎嘛。但有咩情況之下呢，其實唔到時，其實長… 真係好唔開心㗎喎… 係啦，一千零一夜、二千零一夜、三千零一夜咩？係一千零一個啫，但所以呢，我哋其他小朋友，咁你真嘅，唔係講笑，係要呢… 其實唔係嗰陣時，你哋又…買…唔係，我今日唔講，大家個喎。 係喇，咁如果唔係呢，老師你覺得呢？  我哋呢就，我哋夾，其實呢，夾咗幾次呢，目前讀數寫呢，都唔係幾好咁解。 唔得㗎，我哋唔，我哋就因為嗰陣時... 你哋裡面應該其他全部都有㗎應該。 咩，呢嗰... 大幾個嘅，佢哋可能根本... 份數份數呢... 所以... 唔得唔得，我哋嗰啲小朋友嚟㗎。 小朋友。 係，咁我自己... 咁我... 快啲令到自己升價好啲，咁個個都希望能夠可以幫到小朋友嘛，真係好難㗎喎呢啲。 係呀，咁所以大家畀啲... 嗰啲幾千呀？ 幾千蚊嚟嘅。 嗯。 係，幾千蚊嚟嘅。 嗯。 吓，就咪請人過嚟到校教喇，人數唔夠。 係唔夠，你哋得嗰一二三四五六七八，八個人啫。 係呀。 唔夠喎。 係呀。 真係自己夾，夾咗幾次都唔... 出咗幾次，係咪好快㗎嘛，係。 唔係我話，即係唔係，即係今日咁啱得咁啱點啱啱有，兩年時間。 兩年時間。 係，唔係喎，呢啲嘢好，教我嗰... 係呀如果唔係好，咁如果唔係咁安排用兩年時間慢慢處理咗佢，呢個係需要處理㗎嘛。 咁呢就慳返錢，咁你哋應該，唔係，其實就嗰音樂創嚟㗎，就係，啊，音樂教育法咁樣。 都成幾千蚊㗎咁樣，都好囉幾個。\n",
      "你話畀佢，我哋幫你send到，你自己打啦係咪呀？百幾頁書。如果真係有呢啲嘢，你哋個個別學校嘅教育有關，呢個教師法應該用得着㗎。好唔好啊？唔好嘥咗佢，因為點解呀？呢個唔係政府。因為十足十寫，用都費事政府，梗係簡簡單單claim啦，係咪呀？咁所以呢，呃，我今日同大家講，呃，deadline㗎，真係至於畀，話畀嘥我，跟著跟住呢我就幫你聯絡咗時呢申請咗先，然後呢佢哋錢攞到落嚟呢，學校呢就畀返大家，好冇？但我要先釐清，即如果呢，你話你自己有叫申請書，又有圖原，又有單，又有正書，就費事申請啦，唔好嘥。好，跟著呢去到報告第五個，噉呢就保護保護同網上發情，噉呢呢一個應該唔係新事例㗎，應該差唔多成年有講㗎，因為總部要求㗎，但係呢我手上未有正式見到。係，係software擺返teacher嘅。唔好讀寫啦。呃，壞咗老師，有嘅佢哋會畀我哋。好好呀，你寫呢啲書，個老師應該啱，啱晒，同呢個，有啲Q&A嘅書籍，如果仔細就更加詳細喎。好好。跟著呢，問呢啲學校呢，問你哋學校啫，唔係問你哋錢㗎，因為呢個教育署之前都派嘛，係，個個都問呢，我，呢啲教師呢申請咗，個個都問呢個，噉呢就冇辦法啦，正呀，冇呀。 삐-\n",
      "好！好！好！正常啊，唔正常，係，古怪，古怪。如果呢，你網上正式嘅出版物版本就啦，咁你就網頁就得啦。搜索PGT都可以。跟著呢就去到呢個聯校，同香港世界活動啦，咁點樣報嗰份呢，因為呢我哋嘅呢係呢個四月呢我哋就會正式呢個同事實際比賽，咁點樣做呢，同大家講，你想正式，當然啦，我哋全香港區域參加嘅，因為我哋只有你參與呢，都俾返啲證書你嘅。我哋呢就會寫呢個嘅其實份呢，係四月十二號暫定咗啦，喺邊度進行呢？喺呢個嘅油海城。\n",
      "上次呢，總之自己後邊應該同步會到嘅，就會做初賽，因為嗰啲老師同我分享過，邊個啊，K1班代表，係咪呀？K1、K2、K3嘅。咁呢，其實大家都比賽，唔需要參預啦，家長下邊問下啦，總之比賽就總之真係付出啦，公平公正咁去做啦。跟住就代表去參與啦，唔希望小朋友加啲壓力，又想佢哋成績好豐富啦。所以大家要同佢哋講多啲常識喎。知唔知嗰啲咩色㗎？K1唔知紅色呢？咁知唔知咩叫紅色呢？唔知嘅紅色呢？其實常識啫，其他紅色都叫做呢？如果K1真係分別唔到紅色，咁你唔好話佢蠢，你如果話佢蠢，可能對於辨別顏色上面，佢未好嘅理解喎，會唔會可能都關心下先。因為有些小朋友原來發現，佢真係分別唔到啊，唔係佢唔話。咁如果要同媽咪講話，等陣要做嗰啲，要上幫佢，要教返佢先。\n",
      "即係教呢啲小朋友，咁所以呢大家喺呢兩個月裡面服務個開班之外呢，就係關心小朋友喺嗰個同事之間，人事上面豐富啲，因為佢哋呢，天氣地理啦，比賽，天氣地理，咁都會學嘢，都會問嘢，咁大家你都了解，咁跟住下個月比賽都練好嘅，咁即使發生已經要幫助佢哋啦，就喺呢嗰，美術比賽係6月7號，喺聯物置後，係，咁就會一間中學，中學裡面嘅人，但已經參與，跟住，咁所以美術比賽，我哋，叫做，係，咁我哋因為KG細班學生嘛，美術比賽已經另外加咗啲，OK呀，因為學生嘛，嗰陣時學生，六百幾張相片，擺晒出去share都大家係咁嘛，咁你睇下，係嘛，係，咁美術嗰啲就唔講住，因為今次加咗嗰啲，一定要講嘅，唔係，美術比賽，好，唔該晒。\n",
      "佢邊際呀，大嘅細嘅都有喇。  你，其實呀，你哋重有，而家唔使，唔使攞啲呀，壓落去呀，個層次呀。 咁所以呢，同我之前講嘅呢，有乜嘢升水，差別呀，呢樣嘢比較簡單，大嘅細嘅我哋，我哋之做好，個別之數囉，嗰度不道嗰，事實上呢，個數字上。 咁呢，小朋友，做少少預備，唔可能冇機會入六月㗎嘛，係，咁可能呀，佢哋之後就可以，加加減減呀。 唔好學我寫，嗰啲呀，人人嘅啫，你應該幫到你嘅，我都係試吓，咁呢，係咪呢？ 其實唔係比賽呀，佢唔係囉，應該係，我見過咁多個，都係，係老師囉。 但幫唔到你。 咁所以先學你。因為脫個定咗先。 咁呢，跟著呢，佢薄薄哋嘅其實半分鐘嘅話，嘩！ 請我點睇呢？ 有，我哋挑選呀，我哋個挑選。 有冇發言呢？因為未讀過呢？ 未讀發言，未讀到我哋而家數。 點解會咁㗎？ 嘩，其實呀，真係好難比大家，因為呢，小朋友呢，文章呢，有正書攞㗎，先通過有寫呀。 咁小朋友個檻到成點呢？我哋見到啲機器啦。 返嚟嘅時候呢，多啲處理啦，因為呢，其實係，呢個字典好嘅， 삐-\n",
      "其實係想做到中間企到㗎。\n",
      "因為想做到中間企到嘅，咁而家拆咗啦，跟著亦都換咗啦，而家梳梳啦，方便溝通啦。\n",
      "其實我哋將咭小朋友剪咭，只係一格幾樣，迫力啦，字圖數啦，從而做技巧書籍。\n",
      "技巧之名，有技巧性嘅，因為想練同佢講嘢唔用到依咔，所以一路都，所以老師就講，佢有咩問題講。\n",
      "你教佢好似，呢啲唔得，呢啲又唔得。\n",
      "你唔識就問下阿姐啦。\n",
      "已經唔係今年發生嘅事，因為技巧書籍其實提到三位。\n",
      "三年，現在第四年了。所以你話幾年？之前第一年。因為之前開了呢。啊，所以話實際上前三年都有這些經歷。所以呀，方便啲呀，咁樣呀。就所以可能下年呀，下年呢都會遇過啦。下年呢，我都會提小朋友，唔會將個，啊，返學嘅，掛一個書包嗰啲㗎。因為呢，唔知今日係邊個負責㗎嘛。咁K1呢，唔見啲咭，撳撳撳撳成十幾粒呢，因為佢哋唔會就咁發揮發揮呀嘛。即係咁樣呀，因為佢哋就掛住個心㗎。因為嗰陣都用呀，咁呢，又真係好麻煩呀，到咗嘅時候。咁佢哋好似明明呀，到咗陣時啲咭呢，好麻煩擺邊呀，你有冇發現K1查擺㗎？\n",
      "\n",
      "你有冇見到啊？佢哋全部一翻嚟呢，一排返咭呢，就將佢嗰個咭呢就攝晒個袋裡面㗎。佢嗰個袋，除咗咭咭之外呀，有啲呢，啊，小手作，或者呢，小手禮物，呢啲呢，細細碎碎嗰啲，佢哋都插㗎。我唔知你哋嗰邊有冇呢？所以話一講呀，咁呢，佢哋當佢哋呢，活動嘅時候呢，嗰陣就會拿個鐵盒仔，掛出去玩㗎啦。\n",
      "\n",
      "咁佢哋就，因為佢哋掛頸呀，咁所以呢，佢哋呢，啊，因為嗰陣都反映過㗎，點解要八字打開？我唔擺枱呀？嗰個處理有啲唔同。所以呢，呢邊啲小朋友嗰個拍呢，打開咗，即係嗰啲尺呀。 佢哋就寫成咁囉。 以前試過啦，但係K1成日唔見啲咭。係唔會咁打開啲囉。佢會點樣？成日見。成日咁囉，就知邊個㗎啦，呢啲嘢插到，唔擺喺嗰度，咁樣唔見，啊，佢又唔見喎。咁所以唔知你哋處理問題有啲唔同㗎。咁我諗，咁要啦，我哋下年呀，我哋下年都會咁樣過一排，俾小朋友重新再玩過一排。然後呢，就請小朋友掛住呢，呢啲方便啲。咁呢，因為三年都用㗎嘛。即係又要圖書呀，又要拍咭呀，又要玩遊戲㗎嘛。咁呢，咁啲盒子又好啲。咁到時呢，可能喺圖書館，借啲書過去，買嗰啲，啊，嗰啲貼紙呀。咁都唔驚呀，唔擺喺嗰度，跟著掛個褲袋裡面呢，標示寫邊個小朋友打邊個，呢啲呀，翻嚟就呢，就做完自己掛到，咁就方便啲囉，咁樣。咁所以呢，就期望啦，唔見啲機會多啲少啲啦。因為呢度話成日打開咗唔見咗，咁樣啊。咁可能政府你哋呀，幫手呀，用個布袋裝住先喎。因為之前嗰啲好，好污糟呀。\n",
      "高質素嘅嘢，我見到其實質素幾高質，但係好就係幫佢哋認到呢啲暫時用住，餐具都用到，因為我哋用咗三年其實餐具，所以好好收藏嘅，第一陣，同埋擺嘢都擠嘅。咁希望我哋好保護自己，幫小朋友保護自己啲嘢，咁減少唔見啦，好嗎？咁同埋呢就都係點解啲電子嘢都共用晒，一套餐具用晒呢，希望攞走咁多嘅嘢嘅時候，可以friendly啲小朋友，自律好啲囉。係，所以呢，你返家之後請大家夾返做啦。因為呢，呢啲禮物可能呢都要同老師攞返嘅，因為呢，重要有個standard嘅禮物list，大家記得喎。暫時都冇變㗎，今年都一樣嘅。咁我哋有冇禮物價係可裡面呢？如果冇要填資料返喎。不過重點係，都問到嘅，都冇分0分，咁記得我哋，佢有分先唔得㗎。咁而家要畀分佢啦，你可能完咗年先有分啦，第二件事呢，就係呢，冇辦法加分啦，例如好似頭嗰50分啊，好多時都話呢，提示呀，筆呀，跟著簿呀，顏色筆，好似頭嗰50分好多喎，有時望遠鏡咁樣有啲。咁所以呢，我哋搵返呢啲禮物，同埋畀分啲玩具分啦，咁好嗎？咁我哋呢夾返幫小朋友呢參與返呢個紀錄分嘅呢個整理嘅嘢啦。好，跟著不過舊，咁呢，跟著就係呢，落下邊啲呢？就係呢，輔點嗰啲，我哋都會到時記大家嘅，我哋其實其實呢，我係同場啊，咁呢，其實我上次都係同場。咁所以呢，今次都係同場。咁所以呢，大家今日做同場呢，就做後台嘅。咁我之前做...\n",
      "做前枱多啲噉樣。咁所以呢，我哋好開心啦，即係唔使好多梳理就好乾淨，我哋做好佢好啲。之後會做。咁呢，佢哋就會多數喺嗰邊，即係幫手呢，做嗰個queue啦，戴住個headset啦，同上面呢，同埋咪高峰溝通啦，噉樣。咁呢，嗰邊，其實同事幫你㗎喇。如果你哋幫緊佢哋，點算？\n",
      "<noise>\n",
      "今日可唔可以影相？\n",
      "可以呀。可以邊度影呀？\n",
      "可以嘅，可以呀。\n",
      "啊，可以呀，可以，可以影相。\n",
      "有呀。\n",
      "咁即係可以影啲咩呀？\n",
      "啊，Okay 嘅，Okay。\n",
      "感謝你。\n",
      "OK。\n",
      "早啲落喎。\n",
      "\n",
      "係呀，咁如果呢，你真係唔得嘅，你話我聽，同我哋講，咩事，即刻，嗰啲嗰啲事，好多事，咁你記低版數，你做咗幾多次，咁跟住呢，就記事簿，咁跟住呢，我哋就記低。\n",
      "下年要做好多嘢喎，頭先。\n",
      "不過呢，今日可唔可以影相？\n",
      "<noise>\n",
      "咁怕，要人，要人陪影呀。\n",
      "咁怕，要人陪影。\n",
      "你哋呀，可以上，嗰啲同事影㗎喇。\n",
      "知你哋，知你哋。\n",
      "知你哋就插水播。\n",
      "<noise>\n",
      "咩嗰邊？\n",
      "咩事呀？\n",
      "逢星期二。\n",
      "哦，係呀？\n",
      "係呀，逢星期二㗎。\n",
      "<noise>\n",
      "咁咪嗰邊囉，係咪呀？\n",
      "係呀，逢星期，嗰啲。\n",
      "有啲雨備。\n",
      "係，有啲雨備嘅，我哋準備做好啦。咁即係啦，嗰晚嘅同事邊個呀？\n",
      "其實今日呀，其實得你㗎咋喎。\n",
      "係呀，係咪呀？嗰啲同事全部今晚冇喎，做咗都好耐。\n",
      "不過你咪好多同事做嗰個位置。\n",
      "你今日可以幫襯佢呀。\n",
      "嗯。\n",
      "嗰啲，你咪。\n",
      "咪可以幫襯容乜，容乜嗰啲囉。\n",
      "今年冇所有特別嘅嘢嘅，或者嘢，只要你幫手就會安排㗎啦，好冇？咁可能都係支援下，即係周圍周圍嘅嘢，因為同學嘛。啊，咁所以呢，我會通知啊，組長，講比大家聽，要幫忙嘅時候，如果唔係其他就係高班，照顧小朋友，因為都會大小朋友去嘅，營舍，營舍地點嘅，咁。好，跟著就去到K，啊，報告資料，即係啊，開嘅儀式啦，做事啊，之前嗰份排嘅大家嘅份。 有冇啲咁嘅嘢，或者其他嘅嘢？ 乜唔係乜嘢咩？ 好好冇照 好冇？ 你再講多次 冇嘢嘛，嘢。 可以，啊，即係咁嘅，因為我自己，我唔知，唔知點樣排先，排先至好， 至啱呀，最重要自己做先。 係呀，我寫住先，做啦先。 哦，係你再，即係個，教案係，係啊，K嘛。 係啊，我整理嘅。 好，咁呢，第二件事，啊，好感謝先，因為啊，我哋往期嘅教師啦，就今晚先嚟。\n",
      "[Beep]\n",
      "呢個好似同風格就有啲似，佢冇對錯嘅，不過應用情況啫，咁所以話我哋十幾年冇辦法，其實個表達嘅意思，所以呢我哋呢，Grace Day唔識返工，咁所以你都冇事啊，因為一邊傾緊時即係因為要俾你知呢，我哋Grace Day唔識返工，咁呢，一個Grace Day我哋唔擺，點解呢？好多家長其實我哋其實知，或者十月先知啫，咁所以呢有啲已經明知會撞嘅，我哋都留俾你，我哋都同之前都數過啦，咁我哋希望我哋都畀返二十三個Grace Day大家啦，喺暑假裡面放多啲，咁所以喺前面辛苦大家，辛苦大家，就處理文件先，啊，第一個呢，會議，因為有啲會議啊，下個月已經安排咗啦，你架勢要開始嗰啲功課，先至可以教小朋友同埋預備啲教材教具，我哋冇date嘅，九月嘅時候就會date，同埋而家呢，我哋見除咗K1、K2、K3K1, K3 同一时间完主題啊，K2 唔係喎。因為之前個禮拜完主題嘅，所以呢，我覺得就唔理想。其實差唔多一本點解嘅，K2 會後一個禮拜嘅，唔緊要，遷就下啦。咁下年呢，我哋會同一時間一齊開始，一齊完。咁呢個好處係咩呢？有啲指定嘅活動啊，或者一啲開始全新嘅情況，新嘅主題嘅時候，新嘅一本嘅時候呢，我哋會容易啲處理，家長會容易啲理解咁樣喎。你都記住喎，如果小朋友 K1 K2 嘅，咁我就，可能想問下大家嘅意思啦。咁我哋一齊開始，一齊完，其實可以嘅。因為其實差唔多，我諗下先。每個部分內容相同，但個編排嘅步驟應該唔會差好遠，應該係。咁所以，我哋下年先會，一齊同一番啦，唔一樣。咁呢，呢個表第三樣要嘅，幾樣嘢你錄低，家長嗰份啦，自己預留啦。同埋出街啦，如果遷徙你嘅，我哋會話畀你聽。如果唔遷徙你就你知道啦，因為有啲人會自動份。我哋知嘅打晒落去啦，唔知嘅話，冇辦法啦。我哋知到嘅已經擺晒落去個家長嗰份裡面啦。親子活動係咩？純家長嘅活動，即係逢係家長會參與嘅活動呢，都擺晒落去啦。咁你可以話畀同事囉，或者係寫封通知佢哋做嗰啲，或者係家長好想去做好啦。咁呢個唔遷徙小朋友，我哋做埋畀出面嘅家長，咁樣。咁如果做再加先至加你哋自己手加個表裡面啦。咁根據親子活動特別嗰度咩嘢？第一至三，第四個 column 係關於小朋友事嘅。\n",
      "同有家长嘅，即親子一齊嘅，或者好特別嘅情況，我哋都會加入去嘅，例如開幕禮啦，或者喺入面加班啦，或者開學禮啊，或者新生活動，親子新生活動啊，或者旅行嘅活動呢，我哋都會加晒喺呢個親子活動入面嘅。顯示返一啲日期要留意嘅。咁假期唔使講啦，你自己知假期啦。好，跟住再後啲呢，就呢個活動啦。呢個活動入面就顯示有K1, K2, K3，咁你見到個主題其實一樣，你就望條線，下斜線就係話俾你聽嘅啦。咁所以我哋而家見到K1呢個主題呢，天窗教室，K1嘅園呢，喺6號，因為7號，因為7號係三罷嘛，所以你會喺6號，而K3都喺6號。 \n",
      "\n",
      "不過點解7號可能因為三罷，但我哋遲啲其實實時嘅？\n",
      "<noise>\n",
      "咁所以下星期如果係嘅話，你就聽清楚少少啦，保持呢個彈性嘅安排，大概係咁。\n",
      "\n",
      "咁個重點係咁，其實其他三個字都唔啱㗎喎，我哋淨係手寫，手寫㗎嘛，字啱唔啱都唔。不過，我哋就盡做㗎啦，我哋擺嗰啲，希望佢哋睇到，夾三個字㗎嘛，即係呢個字。\n",
      "<noise>\n",
      "咁但係個重點呢，呢一個活動呢，其實我哋夾次，俾每個，每個活動。\n",
      "你唔俾佢哋自己改㗎？\n",
      "<noise>\n",
      "例如餐嘅資訊啊，例如寫餐寫寫下佢啊，例如購物啊，或者呢啲資訊嘅嘢，雞，<noise> 其他嘅，Q&A，<noise> 餐啊今晚啊，或者，舒適嘅，或者餐梳啊，我成日叫呢啲字，餐梳喺呢個地區啊，<noise> 所以呢其實呢，<noise> 你嘅家話多過其實活動星期活動星期活動唔知，其實個個禮拜都其實活動㗎啦，其實唔係嗰個主題，唔係因為嗰個主題而有啲活動你要去延伸嘛，我期望出呢啲囉，而呢啲活動特別啲嘛，因為啲嘢比較急速啊，出Facebook嘛，<noise> 如果唔係，<noise> 咁呢啲活動呢就得㗎，其實呢個部位嘅，其實啊，譬如出Facebook啊，<noise> \n",
      "所以如果出去食餐廳，去買嘢，點樣出Facebook？如果計數，點樣出Facebook？即係用唔用得手機？<noise>寫三個字，唔好叫。<noise>唔寫個表喇。唔拍住，係咪唔會㗎？老師，係咪唔會㗎？係咪？如果唔會，我唔知道點樣，我希望活動出唔到嘅，就出寫手機。<noise>姐係分啲筆劃，OK㗎喇，咁你就打字喇，寫字喇。老師，有啲咩discussion呀？今晚開始？因為我哋加咗啲圖像，你就睇吓，因為一旦睇，單元會寫好多嘢。係。<noise>\n",
      "\n"
     ]
    },
    {
     "name": "stderr",
     "output_type": "stream",
     "text": [
      "\n"
     ]
    }
   ],
   "source": [
    "# Test with a single file\n",
    "# audio_chunk_paths = [\"converted_audio/sample_audio_1min.wav\"]\n",
    "gemini_output = transcribe_with_gemini(audio_chunk_paths, GEMINI_API_KEY)\n",
    "print(gemini_output)"
   ]
  },
  {
   "cell_type": "markdown",
   "metadata": {},
   "source": [
    "### Define Generic Gemini prompting function"
   ]
  },
  {
   "cell_type": "code",
   "execution_count": 15,
   "metadata": {},
   "outputs": [],
   "source": [
    "import google.generativeai as genai\n",
    "\n",
    "def gemini_prompt_call(message, api_key, prompt, temperature=0.3, top_p=0.8):\n",
    "    try:\n",
    "        genai.configure(api_key=api_key)\n",
    "        model = genai.GenerativeModel('gemini-1.5-pro')\n",
    "\n",
    "        prompt_parts = [prompt+'\\n', message]\n",
    "\n",
    "        generation_config = genai.GenerationConfig(\n",
    "                            temperature=temperature,\n",
    "                            top_p=top_p,\n",
    "                            )  \n",
    "\n",
    "        response = model.generate_content(prompt_parts, generation_config=generation_config)\n",
    "        return response.text\n",
    "\n",
    "    except Exception as e:\n",
    "        print(f\"An error occurred: {e}\")\n",
    "        return None"
   ]
  },
  {
   "cell_type": "markdown",
   "metadata": {},
   "source": [
    "## Add punctuation and refine the Spoken Cantonese Text\n",
    "Using Gemini 1.5 pro"
   ]
  },
  {
   "cell_type": "code",
   "execution_count": 16,
   "metadata": {},
   "outputs": [],
   "source": [
    "def refine_cantonese(message, api_key):\n",
    "    prompt = \"\"\"\n",
    "            You are an expert in Cantonese. Please perform the following two steps and return the revised text.\n",
    "            1. Correct potential inaccuracies in the Cantonese text in Hong Kong style. For example, in Hong Kong, text such as '噉', should be written as '咁'.\n",
    "            2. Refine punctuation to the text.\n",
    "            3. Remove repeated and unnecessary words.  For example, '係嘅係嘅係嘅' or '啱嘅啱嘅啱嘅' can be replaced with '係'.\n",
    "            \"\"\"\n",
    "    return gemini_prompt_call(message, api_key, prompt)"
   ]
  },
  {
   "cell_type": "code",
   "execution_count": 17,
   "metadata": {},
   "outputs": [
    {
     "data": {
      "text/plain": [
       "'關於教師發展課程，好開心，一點啦啦申請，只有你，因為截止啦，其實截止啦，因為1月31號嘛，我都唔記得咗，今日今日27號，發現邊問題喎，只有你，嗰年1月1號，去到，其實年年都有嘅，不過我唔記得咗多次，年年都有呢個申請，係嗰年1月1號，去到今年的1月31號喎，之前你已經完成晒成個Course，然後有單有證書，可以申請，例如，Course Cert，你未讀㗎？讀咗，讀咗攞咗證書，攞咗。有收據？有收據，正本證書？係，辦妥先，好，申請咗先，好，申請我幫你，辦妥，即時幫你。因為申請咗嘛，因為過咗如果唔再申請呢，就點呀？就過咗囉。因為佢下個年度都會再繼續，就係下年嘅2025年1月1號囉，去到，因為你收據之前，係，咁就趁聽日囉，係，你就即時可以追呀嘛。應該仲有成個月喎，哦，係啦係啦，收到已經讀晒啦，係呀係呀，所以就申請啦，例如例如Cert，繼續申請下呢個， 삐唔便宜咩？初初初初…唔係啫… 講嘅事實呀，係唔係先？大家都係個好嘅Idea，因為同我哋實際有關嘅，等我講錯，其實我哋做嘢出發點係嗰啲牌照嘅嘢。 計劃好啲。 你哋好啦。 好呀。 除非做好長，就可以圍返啲。 你咪… 你話… 其他老師出發點即知道嘅。 係啦，睇你自己小朋友，我哋老師，我連做其他… 佢咪做咗，其他人做其他。 不過後來呢就開始… 之嘛。 因為佢哋話嗰會，佢哋話… 都講… 其實… 時數時數… 但其他老師，佢哋之前嗰啲老師嘅，真實情況係咁㗎嘛。但有咩情況之下呢，其實唔到時，其實長… 真係好唔開心㗎喎… 係啦，一千零一夜、二千零一夜、三千零一夜咩？係一千零一個啫，但所以呢，我哋其他小朋友，咁你真嘅，唔係講笑，係要呢… 其實唔係嗰陣時，你哋又…買…唔係，我今日唔講，大家個喎。 係喇，咁如果唔係呢，老師你覺得呢？  我哋呢就，我哋夾，其實呢，夾咗幾次呢，目前讀數寫呢，都唔係幾好咁解。 唔得㗎，我哋唔，我哋就因為嗰陣時... 你哋裡面應該其他全部都有㗎應該。 咩，呢嗰... 大幾個嘅，佢哋可能根本... 份數份數呢... 所以... 唔得唔得，我哋嗰啲小朋友嚟㗎。 小朋友。 係，咁我自己... 咁我... 快啲令到自己升價好啲，咁個個都希望能夠可以幫到小朋友嘛，真係好難㗎喎呢啲。 係呀，咁所以大家畀啲... 嗰啲幾千呀？ 幾千蚊嚟嘅。 嗯。 係，幾千蚊嚟嘅。 嗯。 吓，就咪請人過嚟到校教喇，人數唔夠。 係唔夠，你哋得嗰一二三四五六七八，八個人啫。 係呀。 唔夠喎。 係呀。 真係自己夾，夾咗幾次都唔... 出咗幾次，係咪好快㗎嘛，係。 唔係我話，即係唔係，即係今日咁啱得咁啱點啱啱有，兩年時間。 兩年時間。 係，唔係喎，呢啲嘢好，教我嗰... 係呀如果唔係好，咁如果唔係咁安排用兩年時間慢慢處理咗佢，呢個係需要處理㗎嘛。 咁呢就慳返錢，咁你哋應該，唔係，其實就嗰音樂創嚟㗎，就係，啊，音樂教育法咁樣。 都成幾千蚊㗎咁樣，都好囉幾個。\\n你話畀佢，我哋幫你send到，你自己打啦係咪呀？百幾頁書。如果真係有呢啲嘢，你哋個個別學校嘅教育有關，呢個教師法應該用得着㗎。好唔好啊？唔好嘥咗佢，因為點解呀？呢個唔係政府。因為十足十寫，用都費事政府，梗係簡簡單單claim啦，係咪呀？咁所以呢，呃，我今日同大家講，呃，deadline㗎，真係至於畀，話畀嘥我，跟著跟住呢我就幫你聯絡咗時呢申請咗先，然後呢佢哋錢攞到落嚟呢，學校呢就畀返大家，好冇？但我要先釐清，即如果呢，你話你自己有叫申請書，又有圖原，又有單，又有正書，就費事申請啦，唔好嘥。好，跟著呢去到報告第五個，噉呢就保護保護同網上發情，噉呢呢一個應該唔係新事例㗎，應該差唔多成年有講㗎，因為總部要求㗎，但係呢我手上未有正式見到。係，係software擺返teacher嘅。唔好讀寫啦。呃，壞咗老師，有嘅佢哋會畀我哋。好好呀，你寫呢啲書，個老師應該啱，啱晒，同呢個，有啲Q&A嘅書籍，如果仔細就更加詳細喎。好好。跟著呢，問呢啲學校呢，問你哋學校啫，唔係問你哋錢㗎，因為呢個教育署之前都派嘛，係，個個都問呢，我，呢啲教師呢申請咗，個個都問呢個，噉呢就冇辦法啦，正呀，冇呀。 삐-\\n好！好！好！正常啊，唔正常，係，古怪，古怪。如果呢，你網上正式嘅出版物版本就啦，咁你就網頁就得啦。搜索PGT都可以。跟著呢就去到呢個聯校，同香港世界活動啦，咁點樣報嗰份呢，因為呢我哋嘅呢係呢個四月呢我哋就會正式呢個同事實際比賽，咁點樣做呢，同大家講，你想正式，當然啦，我哋全香港區域參加嘅，因為我哋只有你參與呢，都俾返啲證書你嘅。我哋呢就會寫呢個嘅其實份呢，係四月十二號暫定咗啦，喺邊度進行呢？喺呢個嘅油海城。\\n上次呢，總之自己後邊應該同步會到嘅，就會做初賽，因為嗰啲老師同我分享過，邊個啊，K1班代表，係咪呀？K1、K2、K3嘅。咁呢，其實大家都比賽，唔需要參預啦，家長下邊問下啦，總之比賽就總之真係付出啦，公平公正咁去做啦。跟住就代表去參與啦，唔希望小朋友加啲壓力，又想佢哋成績好豐富啦。所以大家要同佢哋講多啲常識喎。知唔知嗰啲咩色㗎？K1唔知紅色呢？咁知唔知咩叫紅色呢？唔知嘅紅色呢？其實常識啫，其他紅色都叫做呢？如果K1真係分別唔到紅色，咁你唔好話佢蠢，你如果話佢蠢，可能對於辨別顏色上面，佢未好嘅理解喎，會唔會可能都關心下先。因為有些小朋友原來發現，佢真係分別唔到啊，唔係佢唔話。咁如果要同媽咪講話，等陣要做嗰啲，要上幫佢，要教返佢先。\\n即係教呢啲小朋友，咁所以呢大家喺呢兩個月裡面服務個開班之外呢，就係關心小朋友喺嗰個同事之間，人事上面豐富啲，因為佢哋呢，天氣地理啦，比賽，天氣地理，咁都會學嘢，都會問嘢，咁大家你都了解，咁跟住下個月比賽都練好嘅，咁即使發生已經要幫助佢哋啦，就喺呢嗰，美術比賽係6月7號，喺聯物置後，係，咁就會一間中學，中學裡面嘅人，但已經參與，跟住，咁所以美術比賽，我哋，叫做，係，咁我哋因為KG細班學生嘛，美術比賽已經另外加咗啲，OK呀，因為學生嘛，嗰陣時學生，六百幾張相片，擺晒出去share都大家係咁嘛，咁你睇下，係嘛，係，咁美術嗰啲就唔講住，因為今次加咗嗰啲，一定要講嘅，唔係，美術比賽，好，唔該晒。\\n佢邊際呀，大嘅細嘅都有喇。  你，其實呀，你哋重有，而家唔使，唔使攞啲呀，壓落去呀，個層次呀。 咁所以呢，同我之前講嘅呢，有乜嘢升水，差別呀，呢樣嘢比較簡單，大嘅細嘅我哋，我哋之做好，個別之數囉，嗰度不道嗰，事實上呢，個數字上。 咁呢，小朋友，做少少預備，唔可能冇機會入六月㗎嘛，係，咁可能呀，佢哋之後就可以，加加減減呀。 唔好學我寫，嗰啲呀，人人嘅啫，你應該幫到你嘅，我都係試吓，咁呢，係咪呢？ 其實唔係比賽呀，佢唔係囉，應該係，我見過咁多個，都係，係老師囉。 但幫唔到你。 咁所以先學你。因為脫個定咗先。 咁呢，跟著呢，佢薄薄哋嘅其實半分鐘嘅話，嘩！ 請我點睇呢？ 有，我哋挑選呀，我哋個挑選。 有冇發言呢？因為未讀過呢？ 未讀發言，未讀到我哋而家數。 點解會咁㗎？ 嘩，其實呀，真係好難比大家，因為呢，小朋友呢，文章呢，有正書攞㗎，先通過有寫呀。 咁小朋友個檻到成點呢？我哋見到啲機器啦。 返嚟嘅時候呢，多啲處理啦，因為呢，其實係，呢個字典好嘅， 삐-\\n其實係想做到中間企到㗎。\\n因為想做到中間企到嘅，咁而家拆咗啦，跟著亦都換咗啦，而家梳梳啦，方便溝通啦。\\n其實我哋將咭小朋友剪咭，只係一格幾樣，迫力啦，字圖數啦，從而做技巧書籍。\\n技巧之名，有技巧性嘅，因為想練同佢講嘢唔用到依咔，所以一路都，所以老師就講，佢有咩問題講。\\n你教佢好似，呢啲唔得，呢啲又唔得。\\n你唔識就問下阿姐啦。\\n已經唔係今年發生嘅事，因為技巧書籍其實提到三位。\\n三年，現在第四年了。所以你話幾年？之前第一年。因為之前開了呢。啊，所以話實際上前三年都有這些經歷。所以呀，方便啲呀，咁樣呀。就所以可能下年呀，下年呢都會遇過啦。下年呢，我都會提小朋友，唔會將個，啊，返學嘅，掛一個書包嗰啲㗎。因為呢，唔知今日係邊個負責㗎嘛。咁K1呢，唔見啲咭，撳撳撳撳成十幾粒呢，因為佢哋唔會就咁發揮發揮呀嘛。即係咁樣呀，因為佢哋就掛住個心㗎。因為嗰陣都用呀，咁呢，又真係好麻煩呀，到咗嘅時候。咁佢哋好似明明呀，到咗陣時啲咭呢，好麻煩擺邊呀，你有冇發現K1查擺㗎？\\n\\n你有冇見到啊？佢哋全部一翻嚟呢，一排返咭呢，就將佢嗰個咭呢就攝晒個袋裡面㗎。佢嗰個袋，除咗咭咭之外呀，有啲呢，啊，小手作，或者呢，小手禮物，呢啲呢，細細碎碎嗰啲，佢哋都插㗎。我唔知你哋嗰邊有冇呢？所以話一講呀，咁呢，佢哋當佢哋呢，活動嘅時候呢，嗰陣就會拿個鐵盒仔，掛出去玩㗎啦。\\n\\n咁佢哋就，因為佢哋掛頸呀，咁所以呢，佢哋呢，啊，因為嗰陣都反映過㗎，點解要八字打開？我唔擺枱呀？嗰個處理有啲唔同。所以呢，呢邊啲小朋友嗰個拍呢，打開咗，即係嗰啲尺呀。 佢哋就寫成咁囉。 以前試過啦，但係K1成日唔見啲咭。係唔會咁打開啲囉。佢會點樣？成日見。成日咁囉，就知邊個㗎啦，呢啲嘢插到，唔擺喺嗰度，咁樣唔見，啊，佢又唔見喎。咁所以唔知你哋處理問題有啲唔同㗎。咁我諗，咁要啦，我哋下年呀，我哋下年都會咁樣過一排，俾小朋友重新再玩過一排。然後呢，就請小朋友掛住呢，呢啲方便啲。咁呢，因為三年都用㗎嘛。即係又要圖書呀，又要拍咭呀，又要玩遊戲㗎嘛。咁呢，咁啲盒子又好啲。咁到時呢，可能喺圖書館，借啲書過去，買嗰啲，啊，嗰啲貼紙呀。咁都唔驚呀，唔擺喺嗰度，跟著掛個褲袋裡面呢，標示寫邊個小朋友打邊個，呢啲呀，翻嚟就呢，就做完自己掛到，咁就方便啲囉，咁樣。咁所以呢，就期望啦，唔見啲機會多啲少啲啦。因為呢度話成日打開咗唔見咗，咁樣啊。咁可能政府你哋呀，幫手呀，用個布袋裝住先喎。因為之前嗰啲好，好污糟呀。\\n高質素嘅嘢，我見到其實質素幾高質，但係好就係幫佢哋認到呢啲暫時用住，餐具都用到，因為我哋用咗三年其實餐具，所以好好收藏嘅，第一陣，同埋擺嘢都擠嘅。咁希望我哋好保護自己，幫小朋友保護自己啲嘢，咁減少唔見啦，好嗎？咁同埋呢就都係點解啲電子嘢都共用晒，一套餐具用晒呢，希望攞走咁多嘅嘢嘅時候，可以friendly啲小朋友，自律好啲囉。係，所以呢，你返家之後請大家夾返做啦。因為呢，呢啲禮物可能呢都要同老師攞返嘅，因為呢，重要有個standard嘅禮物list，大家記得喎。暫時都冇變㗎，今年都一樣嘅。咁我哋有冇禮物價係可裡面呢？如果冇要填資料返喎。不過重點係，都問到嘅，都冇分0分，咁記得我哋，佢有分先唔得㗎。咁而家要畀分佢啦，你可能完咗年先有分啦，第二件事呢，就係呢，冇辦法加分啦，例如好似頭嗰50分啊，好多時都話呢，提示呀，筆呀，跟著簿呀，顏色筆，好似頭嗰50分好多喎，有時望遠鏡咁樣有啲。咁所以呢，我哋搵返呢啲禮物，同埋畀分啲玩具分啦，咁好嗎？咁我哋呢夾返幫小朋友呢參與返呢個紀錄分嘅呢個整理嘅嘢啦。好，跟著不過舊，咁呢，跟著就係呢，落下邊啲呢？就係呢，輔點嗰啲，我哋都會到時記大家嘅，我哋其實其實呢，我係同場啊，咁呢，其實我上次都係同場。咁所以呢，今次都係同場。咁所以呢，大家今日做同場呢，就做後台嘅。咁我之前做...\\n做前枱多啲噉樣。咁所以呢，我哋好開心啦，即係唔使好多梳理就好乾淨，我哋做好佢好啲。之後會做。咁呢，佢哋就會多數喺嗰邊，即係幫手呢，做嗰個queue啦，戴住個headset啦，同上面呢，同埋咪高峰溝通啦，噉樣。咁呢，嗰邊，其實同事幫你㗎喇。如果你哋幫緊佢哋，點算？\\n<noise>\\n今日可唔可以影相？\\n可以呀。可以邊度影呀？\\n可以嘅，可以呀。\\n啊，可以呀，可以，可以影相。\\n有呀。\\n咁即係可以影啲咩呀？\\n啊，Okay 嘅，Okay。\\n感謝你。\\nOK。\\n早啲落喎。\\n\\n係呀，咁如果呢，你真係唔得嘅，你話我聽，同我哋講，咩事，即刻，嗰啲嗰啲事，好多事，咁你記低版數，你做咗幾多次，咁跟住呢，就記事簿，咁跟住呢，我哋就記低。\\n下年要做好多嘢喎，頭先。\\n不過呢，今日可唔可以影相？\\n<noise>\\n咁怕，要人，要人陪影呀。\\n咁怕，要人陪影。\\n你哋呀，可以上，嗰啲同事影㗎喇。\\n知你哋，知你哋。\\n知你哋就插水播。\\n<noise>\\n咩嗰邊？\\n咩事呀？\\n逢星期二。\\n哦，係呀？\\n係呀，逢星期二㗎。\\n<noise>\\n咁咪嗰邊囉，係咪呀？\\n係呀，逢星期，嗰啲。\\n有啲雨備。\\n係，有啲雨備嘅，我哋準備做好啦。咁即係啦，嗰晚嘅同事邊個呀？\\n其實今日呀，其實得你㗎咋喎。\\n係呀，係咪呀？嗰啲同事全部今晚冇喎，做咗都好耐。\\n不過你咪好多同事做嗰個位置。\\n你今日可以幫襯佢呀。\\n嗯。\\n嗰啲，你咪。\\n咪可以幫襯容乜，容乜嗰啲囉。\\n今年冇所有特別嘅嘢嘅，或者嘢，只要你幫手就會安排㗎啦，好冇？咁可能都係支援下，即係周圍周圍嘅嘢，因為同學嘛。啊，咁所以呢，我會通知啊，組長，講比大家聽，要幫忙嘅時候，如果唔係其他就係高班，照顧小朋友，因為都會大小朋友去嘅，營舍，營舍地點嘅，咁。好，跟著就去到K，啊，報告資料，即係啊，開嘅儀式啦，做事啊，之前嗰份排嘅大家嘅份。 有冇啲咁嘅嘢，或者其他嘅嘢？ 乜唔係乜嘢咩？ 好好冇照 好冇？ 你再講多次 冇嘢嘛，嘢。 可以，啊，即係咁嘅，因為我自己，我唔知，唔知點樣排先，排先至好， 至啱呀，最重要自己做先。 係呀，我寫住先，做啦先。 哦，係你再，即係個，教案係，係啊，K嘛。 係啊，我整理嘅。 好，咁呢，第二件事，啊，好感謝先，因為啊，我哋往期嘅教師啦，就今晚先嚟。\\n[Beep]\\n呢個好似同風格就有啲似，佢冇對錯嘅，不過應用情況啫，咁所以話我哋十幾年冇辦法，其實個表達嘅意思，所以呢我哋呢，Grace Day唔識返工，咁所以你都冇事啊，因為一邊傾緊時即係因為要俾你知呢，我哋Grace Day唔識返工，咁呢，一個Grace Day我哋唔擺，點解呢？好多家長其實我哋其實知，或者十月先知啫，咁所以呢有啲已經明知會撞嘅，我哋都留俾你，我哋都同之前都數過啦，咁我哋希望我哋都畀返二十三個Grace Day大家啦，喺暑假裡面放多啲，咁所以喺前面辛苦大家，辛苦大家，就處理文件先，啊，第一個呢，會議，因為有啲會議啊，下個月已經安排咗啦，你架勢要開始嗰啲功課，先至可以教小朋友同埋預備啲教材教具，我哋冇date嘅，九月嘅時候就會date，同埋而家呢，我哋見除咗K1、K2、K3K1, K3 同一时间完主題啊，K2 唔係喎。因為之前個禮拜完主題嘅，所以呢，我覺得就唔理想。其實差唔多一本點解嘅，K2 會後一個禮拜嘅，唔緊要，遷就下啦。咁下年呢，我哋會同一時間一齊開始，一齊完。咁呢個好處係咩呢？有啲指定嘅活動啊，或者一啲開始全新嘅情況，新嘅主題嘅時候，新嘅一本嘅時候呢，我哋會容易啲處理，家長會容易啲理解咁樣喎。你都記住喎，如果小朋友 K1 K2 嘅，咁我就，可能想問下大家嘅意思啦。咁我哋一齊開始，一齊完，其實可以嘅。因為其實差唔多，我諗下先。每個部分內容相同，但個編排嘅步驟應該唔會差好遠，應該係。咁所以，我哋下年先會，一齊同一番啦，唔一樣。咁呢，呢個表第三樣要嘅，幾樣嘢你錄低，家長嗰份啦，自己預留啦。同埋出街啦，如果遷徙你嘅，我哋會話畀你聽。如果唔遷徙你就你知道啦，因為有啲人會自動份。我哋知嘅打晒落去啦，唔知嘅話，冇辦法啦。我哋知到嘅已經擺晒落去個家長嗰份裡面啦。親子活動係咩？純家長嘅活動，即係逢係家長會參與嘅活動呢，都擺晒落去啦。咁你可以話畀同事囉，或者係寫封通知佢哋做嗰啲，或者係家長好想去做好啦。咁呢個唔遷徙小朋友，我哋做埋畀出面嘅家長，咁樣。咁如果做再加先至加你哋自己手加個表裡面啦。咁根據親子活動特別嗰度咩嘢？第一至三，第四個 column 係關於小朋友事嘅。\\n同有家长嘅，即親子一齊嘅，或者好特別嘅情況，我哋都會加入去嘅，例如開幕禮啦，或者喺入面加班啦，或者開學禮啊，或者新生活動，親子新生活動啊，或者旅行嘅活動呢，我哋都會加晒喺呢個親子活動入面嘅。顯示返一啲日期要留意嘅。咁假期唔使講啦，你自己知假期啦。好，跟住再後啲呢，就呢個活動啦。呢個活動入面就顯示有K1, K2, K3，咁你見到個主題其實一樣，你就望條線，下斜線就係話俾你聽嘅啦。咁所以我哋而家見到K1呢個主題呢，天窗教室，K1嘅園呢，喺6號，因為7號，因為7號係三罷嘛，所以你會喺6號，而K3都喺6號。 \\n\\n不過點解7號可能因為三罷，但我哋遲啲其實實時嘅？\\n<noise>\\n咁所以下星期如果係嘅話，你就聽清楚少少啦，保持呢個彈性嘅安排，大概係咁。\\n\\n咁個重點係咁，其實其他三個字都唔啱㗎喎，我哋淨係手寫，手寫㗎嘛，字啱唔啱都唔。不過，我哋就盡做㗎啦，我哋擺嗰啲，希望佢哋睇到，夾三個字㗎嘛，即係呢個字。\\n<noise>\\n咁但係個重點呢，呢一個活動呢，其實我哋夾次，俾每個，每個活動。\\n你唔俾佢哋自己改㗎？\\n<noise>\\n例如餐嘅資訊啊，例如寫餐寫寫下佢啊，例如購物啊，或者呢啲資訊嘅嘢，雞，<noise> 其他嘅，Q&A，<noise> 餐啊今晚啊，或者，舒適嘅，或者餐梳啊，我成日叫呢啲字，餐梳喺呢個地區啊，<noise> 所以呢其實呢，<noise> 你嘅家話多過其實活動星期活動星期活動唔知，其實個個禮拜都其實活動㗎啦，其實唔係嗰個主題，唔係因為嗰個主題而有啲活動你要去延伸嘛，我期望出呢啲囉，而呢啲活動特別啲嘛，因為啲嘢比較急速啊，出Facebook嘛，<noise> 如果唔係，<noise> 咁呢啲活動呢就得㗎，其實呢個部位嘅，其實啊，譬如出Facebook啊，<noise> \\n所以如果出去食餐廳，去買嘢，點樣出Facebook？如果計數，點樣出Facebook？即係用唔用得手機？<noise>寫三個字，唔好叫。<noise>唔寫個表喇。唔拍住，係咪唔會㗎？老師，係咪唔會㗎？係咪？如果唔會，我唔知道點樣，我希望活動出唔到嘅，就出寫手機。<noise>姐係分啲筆劃，OK㗎喇，咁你就打字喇，寫字喇。老師，有啲咩discussion呀？今晚開始？因為我哋加咗啲圖像，你就睇吓，因為一旦睇，單元會寫好多嘢。係。<noise>\\n'"
      ]
     },
     "execution_count": 17,
     "metadata": {},
     "output_type": "execute_result"
    }
   ],
   "source": [
    "gemini_output"
   ]
  },
  {
   "cell_type": "code",
   "execution_count": 18,
   "metadata": {},
   "outputs": [],
   "source": [
    "refined_spoken_text = refine_cantonese(gemini_output, GEMINI_API_KEY)"
   ]
  },
  {
   "cell_type": "code",
   "execution_count": 19,
   "metadata": {},
   "outputs": [
    {
     "data": {
      "text/plain": [
       "\"關於教師發展課程，好開心，只需申請一次，因為截止日期為1月31號。今日27號，發現有個問題，就是你1月1號至31號期間，可以申請。其實年年都有，不過我唔記得咗幾次。之前你已完成整個課程，並有證書和收據，可以申請，例如Course Cert。正本證書？係，辦妥先。好，申請咗先。好，我幫你申請，辦妥，即時幫你。因為如果過咗期限唔再申請，就過咗期。下年度，即2025年1月1號，都會再繼續。咁就趁聽日，即時追。應該仲有成個月。收到，已經讀晒，所以就申請，例如Cert，繼續申請。삐唔便宜咩？唔係，講嘅係事實。係唔係先？大家都係個好idea，因為同我哋實際有關，等我講錯，其實我哋做嘢出發點係嗰啲牌照嘅嘢。計劃好啲。你哋好啦。好呀。除非做好長，就可以圍返啲。你話其他老師出發點即知道。係啦，睇你自己小朋友，我哋老師，我連做其他…佢咪做咗，其他人做其他。不過後來就開始…之嘛。因為佢哋話…都講…其實…時數時數…但其他老師，佢哋之前嗰啲老師，真實情況係咁㗎嘛。但有咩情況之下呢，其實唔到時，其實長…真係好唔開心㗎喎…係啦，一千零一夜，唔係一千零一個啫，但所以呢，我哋其他小朋友，咁你真嘅，唔係講笑，係要…其實唔係嗰陣時，你哋又…買…唔係，我今日唔講，大家個喎。係喇，咁如果唔係呢，老師你覺得呢？我哋呢就，我哋夾，其實呢，夾咗幾次呢，目前讀數寫呢，都唔係幾好。唔得㗎，我哋就因為嗰陣時…你哋裡面應該其他全部都有㗎應該。咩，呢個…大幾個嘅，佢哋可能根本…份數份數呢…所以…唔得唔得，我哋嗰啲小朋友嚟㗎。小朋友。係，咁我自己…咁我…快啲令到自己升價好啲，咁個個都希望能夠幫到小朋友嘛，真係好難㗎喎呢啲。係呀，咁所以大家畀啲…嗰啲幾千呀？幾千蚊嚟嘅。嗯。係，幾千蚊嚟嘅。嗯。吓，就咪請人過嚟到校教喇，人數唔夠。係唔夠，你哋得八個人啫。係呀。唔夠喎。係呀。真係自己夾，夾咗幾次都唔…出咗幾次，係咪好快㗎嘛，係。唔係我話，即係今日咁啱有，兩年時間。兩年時間。係，呢啲嘢好，教我嗰…係呀如果唔係好，咁如果唔係咁安排用兩年時間慢慢處理咗佢，呢個係需要處理㗎嘛。咁呢就慳返錢，咁你哋應該，其實就嗰音樂創嚟㗎，就係，啊，音樂教育法咁樣。都成幾千蚊㗎咁樣，都好囉幾個。\\n\\n你話畀佢，我哋幫你send到，你自己打啦，係咪呀？百幾頁書。如果真係有呢啲嘢，你哋個別學校嘅教育有關，呢個教師法應該用得着㗎。好唔好啊？唔好嘥咗佢，因為呢個唔係政府。因為十足十寫，用都費事政府，梗係簡簡單單claim啦，係咪呀？咁所以呢，我今日同大家講，deadline㗎，真係至於畀，話畀嘥我，跟著我就幫你聯絡咗，申請咗先，然後佢哋錢攞到落嚟呢，學校就畀返大家，好冇？但我要先釐清，即如果呢，你話你自己有申請書，又有圖原，又有單，又有正書，就費事申請啦，唔好嘥。好，跟著去到報告第五個，咁呢就保護同網上發情，咁呢一個應該唔係新事例㗎，應該差唔多成年有講㗎，因為總部要求㗎，但係我手上未有正式見到。係，係software擺返teacher嘅。唔好讀寫啦。壞咗老師，有嘅佢哋會畀我哋。好好呀，你寫呢啲書，個老師應該啱晒，同呢個，有啲Q&A嘅書籍，如果仔細就更加詳細喎。好好。跟著呢，問你哋學校啫，唔係問你哋錢㗎，因為教育署之前都派嘛，係，個個都問，呢啲教師申請咗，個個都問，咁就冇辦法啦，正呀，冇呀。삐-\\n\\n好！好！好！正常啊，唔正常，係，古怪，古怪。如果呢，你網上正式嘅出版物版本就啦，咁你就網頁就得啦。搜索PGT都可以。跟著呢就去到呢個聯校，同香港世界活動啦，咁點樣報嗰份呢，因為我哋四月就會正式比賽，咁點樣做呢，同大家講，你想正式，當然啦，我哋全香港區域參加嘅，因為我哋只有你參與，都俾返證書你。我哋會寫呢個，四月十二號暫定咗啦，喺油麻地城進行。\\n\\n上次，總之自己後邊應該同步會到嘅，就會做初賽，因為嗰啲老師同我分享過，K1班代表，係咪呀？K1、K2、K3嘅。咁呢，其實大家都比賽，唔需要參預啦，家長問下啦，總之比賽就真係付出啦，公平公正咁去做啦。跟住就代表去參與啦，唔希望小朋友加壓力，又想佢哋成績好豐富。所以大家要同佢哋講多啲常識喎。知唔知嗰啲咩色㗎？K1唔知紅色？咁知唔知咩叫紅色呢？唔知紅色？其實常識啫，其他紅色都叫做呢？如果K1真係分別唔到紅色，咁你唔好話佢蠢，你如果話佢蠢，可能對於辨別顏色上面，佢未理解喎，會唔會可能都關心下先。因為有些小朋友原來真係分別唔到，唔係佢唔話。咁如果要同媽咪講，等陣要做嗰啲，要幫佢，要教返佢先。\\n\\n即係教呢啲小朋友，咁所以大家喺呢兩個月裡面，服務個開班之外呢，就係關心小朋友喺同事之間，人事上面豐富啲，因為佢哋天氣地理啦，比賽，天氣地理，咁都會學嘢，都會問嘢，咁大家你都了解，咁跟住下個月比賽都練好，咁即使發生已經要幫助佢哋啦，就喺美術比賽，6月7號，喺聯物置後，咁就會一間中學，中學裡面嘅人，但已經參與，跟住，咁所以美術比賽，我哋，叫做，係，咁我哋因為KG細班學生嘛，美術比賽已經另外加咗啲，OK呀，因為學生嘛，嗰陣時學生，六百幾張相片，擺晒出去share都大家係咁嘛，咁你睇下，係嘛，係，咁美術嗰啲就唔講住，因為今次加咗嗰啲，一定要講嘅，唔係，美術比賽，好，唔該晒。\\n\\n佢邊際呀，大嘅細嘅都有喇。你，其實你哋重有，而家唔使攞啲壓落去，個層次呀。咁所以呢，同我之前講嘅，有乜嘢升水，差別呀，呢樣嘢比較簡單，大嘅細嘅我哋做好，個別之數囉，嗰度不道，事實上，個數字上。咁呢，小朋友，做少少預備，唔可能冇機會入六月㗎嘛，係，咁可能呀，佢哋之後就可以，加加減減呀。唔好學我寫，嗰啲人人嘅啫，你應該幫到你嘅，我都係試吓，咁呢，係咪呢？其實唔係比賽，佢唔係，應該係，我見過咁多個，都係老師。但幫唔到你。咁所以先學你。因為脫個定咗先。咁呢，跟著呢，佢薄薄哋嘅其實半分鐘嘅話，嘩！請我點睇呢？有，我哋挑選，我哋個挑選。有冇發言呢？因為未讀過呢？未讀發言，未讀到我哋而家數。點解會咁㗎？嘩，其實真係好難比大家，因為小朋友，文章，有正書攞㗎，先通過有寫呀。咁小朋友個檻到成點呢？我哋見到啲機器啦。返嚟嘅時候呢，多啲處理啦，因為呢，其實係，呢個字典好嘅，삐-\\n\\n其實係想做到中間企到。因為想做到中間企到，咁而家拆咗啦，跟著亦都換咗啦，而家梳梳啦，方便溝通啦。其實我哋將咭，小朋友剪咭，只係一格幾樣，迫力啦，字圖數啦，從而做技巧書籍。技巧之名，有技巧性嘅，因為想練同佢講嘢唔用到依咔，所以一路都，所以老師就講，佢有咩問題講。你教佢好似，呢啲唔得，呢啲又唔得。你唔識就問下阿姐啦。已經唔係今年發生嘅事，因為技巧書籍其實提到三位。三年，現在第四年了。所以你話幾年？之前第一年。因為之前開咗。啊，所以話實際上前三年都有這些經歷。所以方便啲，咁樣。就所以可能下年都會遇過啦。下年呢，我都會提小朋友，唔會將返學嘅，掛一個書包嗰啲㗎。因為唔知今日係邊個負責㗎嘛。咁K1呢，唔見啲咭，撳撳撳撳成十幾粒呢，因為佢哋唔會就咁發揮呀嘛。即係咁樣呀，因為佢哋就掛住個心㗎。因為嗰陣都用呀，咁呢，又真係好麻煩呀，到咗嘅時候。咁佢哋好似明明呀，到咗陣時啲咭呢，好麻煩擺邊呀，你有冇發現K1查擺㗎？\\n\\n你有冇見到啊？佢哋全部一翻嚟呢，一排返咭呢，就將佢嗰個咭攝晒個袋裡面㗎。佢嗰個袋，除咗咭之外呀，有啲小手作，或者小禮物，呢啲細細碎碎嗰啲，佢哋都插㗎。我唔知你哋嗰邊有冇呢？所以話一講呀，咁呢，佢哋當佢哋活動嘅時候呢，嗰陣就會拿個鐵盒仔，掛出去玩㗎啦。\\n\\n咁佢哋就，因為佢哋掛頸呀，咁所以呢，佢哋，因為嗰陣都反映過㗎，點解要八字打開？我唔擺枱呀？嗰個處理有啲唔同。所以呢，呢邊啲小朋友嗰個拍呢，打開咗，即係嗰啲尺呀。佢哋就寫成咁囉。以前試過啦，但係K1成日唔見啲咭。係唔會咁打開啲囉。佢會點樣？成日見。成日咁囉，就知邊個㗎啦，呢啲嘢插到，唔擺喺嗰度，咁樣唔見，啊，佢又唔見喎。咁所以唔知你哋處理問題有啲唔同㗎。咁我諗，咁要啦，我哋下年，我哋下年都會咁樣過一排，俾小朋友重新再玩過一排。然後呢，就請小朋友掛住呢，呢啲方便啲。咁呢，因為三年都用㗎嘛。即係又要圖書呀，又要拍咭呀，又要玩遊戲㗎嘛。咁呢，咁啲盒子又好啲。咁到時呢，可能喺圖書館，借啲書過去，買嗰啲貼紙呀。咁都唔驚呀，唔擺喺嗰度，跟著掛個褲袋裡面呢，標示寫邊個小朋友打邊個，呢啲呀，翻嚟就做完自己掛到，咁就方便啲囉，咁樣。咁所以呢，就期望啦，唔見啲機會少啲啦。因為呢度話成日打開咗唔見咗，咁樣啊。咁可能你哋幫手呀，用個布袋裝住先喎。因為之前嗰啲好污糟呀。\\n\\n高質素嘅嘢，我見到其實質素幾高，但係好就係幫佢哋認到呢啲暫時用住，餐具都用到，因為我哋用咗三年餐具，所以好好收藏，第一陣，同埋擺嘢都擠。咁希望我哋好保護自己，幫小朋友保護自己啲嘢，咁減少唔見啦，好嗎？咁同埋呢就都係點解啲電子嘢都共用晒，一套餐具用晒呢，希望攞走咁多嘢嘅時候，可以friendly啲小朋友，自律好啲囉。係，所以你返家之後請大家夾返做啦。因為呢啲禮物可能都要同老師攞返，因為重要有個standard嘅禮物list，大家記得喎。暫時都冇變㗎，今年都一樣。咁我哋有冇禮物價係可裡面呢？如果冇要填資料返喎。不過重點係，都問到嘅，都冇分0分，咁記得我哋，佢有分先唔得㗎。咁而家要畀分佢啦，你可能完咗年先有分啦，第二件事呢，就係冇辦法加分啦，例如好似頭嗰50分啊，好多時都話提示呀，筆呀，跟著簿呀，顏色筆，好似頭嗰50分好多喎，有時望遠鏡咁樣有啲。咁所以呢，我哋搵返呢啲禮物，同埋畀分啲玩具分啦，咁好嗎？咁我哋夾返幫小朋友參與返呢個紀錄分嘅整理嘅嘢啦。好，跟著不過舊，咁呢，跟著就係落下邊啲呢？就係輔點嗰啲，我哋都會到時記大家嘅，我哋其實我係同場啊，咁呢，其實我上次都係同場。咁所以呢，今次都係同場。咁所以呢，大家今日做同場呢，就做後台嘅。咁我之前做…做前枱多啲咁樣。咁所以呢，我哋好開心啦，即係唔使好多梳理就好乾淨，我哋做好佢好啲。之後會做。咁呢，佢哋就會多數喺嗰邊，即係幫手做嗰個queue啦，戴住個headset啦，同上面，同埋咪高峰溝通啦，咁樣。咁呢，嗰邊，其實同事幫你㗎喇。如果你哋幫緊佢哋，點算？\\n\\n今日可唔可以影相？\\n可以呀。可以邊度影呀？\\n可以嘅，可以呀。\\n啊，可以呀，可以，可以影相。\\n有呀。\\n咁即係可以影啲咩呀？\\n啊，Okay 嘅，Okay。\\n感謝你。\\nOK。\\n早啲落喎。\\n\\n係呀，咁如果呢，你真係唔得嘅，你話我聽，同我哋講，咩事，即刻，嗰啲事，好多事，咁你記低版數，你做咗幾多次，咁跟住就記事簿，咁跟住呢，我哋就記低。\\n下年要做好多嘢喎，頭先。\\n不過呢，今日可唔可以影相？\\n咁怕，要人陪影。\\n你哋可以上，嗰啲同事影㗎喇。\\n知你哋，知你哋。\\n知你哋就插水播。\\n咩嗰邊？\\n咩事呀？\\n逢星期二。\\n哦，係呀？\\n係呀，逢星期二㗎。\\n咁咪嗰邊囉，係咪呀？\\n係呀，逢星期，嗰啲。\\n有啲雨備。\\n係，有啲雨備嘅，我哋準備做好啦。咁即係啦，嗰晚嘅同事邊個呀？\\n其實今日，其實得你㗎咋喎。\\n係呀，係咪呀？嗰啲同事全部今晚冇喎，做咗都好耐。\\n不過你咪好多同事做嗰個位置。\\n你今日可以幫襯佢呀。\\n嗯。\\n嗰啲，你咪。\\n咪可以幫襯容乜，容乜嗰啲囉。\\n今年冇所有特別嘅嘢，或者嘢，只要你幫手就會安排㗎啦，好冇？咁可能都係支援下，即係周圍嘅嘢，因為同學嘛。啊，咁所以呢，我會通知組長，講比大家聽，要幫忙嘅時候，如果唔係其他就係高班，照顧小朋友，因為都會大小朋友去嘅，營舍，營舍地點嘅，咁。好，跟著就去到K，報告資料，即係開嘅儀式啦，做事啊，之前嗰份排嘅大家嘅份。 有冇啲咁嘅嘢，或者其他嘅嘢？ 乜唔係乜嘢咩？ 好冇照 好冇？ 你再講多次 冇嘢嘛。 可以，即係咁，因為我自己，我唔知點樣排先至啱呀，最重要自己做先。 係呀，我寫住先，做啦先。 哦，係你再，即係個教案係K嘛。 係啊，我整理嘅。 好，咁呢，第二件事，好感謝先，因為我哋往期嘅教師啦，就今晚先嚟。\\n\\n呢個好似同風格就有啲似，佢冇對錯嘅，不過應用情況啫，咁所以話我哋十幾年冇辦法，其實個表達嘅意思，所以Grace Day唔識返工，咁所以你都冇事啊，因為一邊傾緊時即係因為要俾你知，我哋Grace Day唔識返工，咁，一個Grace Day我哋唔擺，點解呢？好多家長其實我哋其實知，或者十月先知啫，咁所以有啲已經明知會撞嘅，我哋都留俾你，我哋都同之前都數過啦，咁我哋希望我哋都畀返二十三個Grace Day大家啦，喺暑假裡面放多啲，咁所以喺前面辛苦大家，辛苦大家，就處理文件先，第一個呢，會議，因為有啲會議下個月已經安排咗啦，你架勢要開始嗰啲功課，先至可以教小朋友同埋預備啲教材教具，我哋冇date嘅，九月嘅時候就會date，同埋而家呢，我哋見除咗K1、K3 同一时间完主題，K2 唔係喎。因為之前個禮拜完主題，所以我覺得就唔理想。其實差唔多一本點解，K2 會後一個禮拜，唔緊要，遷就下啦。咁下年，我哋會同一時間一齊開始，一齊完。咁呢個好處係咩呢？有啲指定嘅活動，或者一啲開始全新嘅情況，新嘅主題嘅時候，新嘅一本嘅時候，我哋會容易啲處理，家長會容易啲理解咁樣喎。你都記住喎，如果小朋友 K1 K2 嘅，咁我就，可能想問下大家嘅意思啦。咁我哋一齊開始，一齊完，其實可以嘅。因為其實差唔多，我諗下先。每個部分內容相同，但個編排嘅步驟應該唔會差好遠，應該係。咁所以，我哋下年先會，一齊同一番啦，唔一樣。咁呢，呢個表第三樣要嘅，幾樣嘢你錄低，家長嗰份啦，自己預留啦。同埋出街啦，如果遷徙你嘅，我哋會話畀你聽。如果唔遷徙你就你知道啦，因為有啲人會自動份。我哋知嘅打晒落去啦，唔知嘅話，冇辦法啦。我哋知到嘅已經擺晒落去個家長嗰份裡面啦。親子活動係咩？純家長嘅活動，即係逢係家長會參與嘅活動，都擺晒落去啦。咁你可以話畀同事囉，或者係寫封通知佢哋做嗰啲，或者係家長好想去做好啦。咁呢個唔遷徙小朋友，我哋做埋畀出面嘅家長，咁樣。咁如果做再加先至加你哋自己手加個表裡面啦。咁根據親子活動特別嗰度咩嘢？第一至三，第四個 column 係關於小朋友事嘅。\\n\\n同有家長嘅，即親子一齊嘅，或者好特別嘅情況，我哋都會加入去嘅，例如開幕禮啦，或者喺入面加班啦，或者開學禮啊，或者新生活動，親子新生活動啊，或者旅行嘅活動，我哋都會加晒喺呢個親子活動入面嘅。顯示返一啲日期要留意嘅。咁假期唔使講啦，你自己知假期啦。好，跟住再後啲呢，就呢個活動啦。呢個活動入面就顯示有K1, K2, K3，咁你見到個主題其實一樣，你就望條線，下斜線就係話俾你聽嘅啦。咁所以我哋而家見到K1呢個主題呢，天窗教室，K1嘅園呢，喺6號，因為7號係三罷嘛，所以你會喺6號，而K3都喺6號。\\n\\n不過點解7號可能因為三罷，但我哋遲啲其實實時嘅？\\n咁所以下星期如果係嘅話，你就聽清楚少少啦，保持呢個彈性嘅安排，大概係咁。\\n\\n咁個重點係咁，其實其他三個字都唔啱㗎喎，我哋淨係手寫㗎嘛，字啱唔啱都唔。不過，我哋就盡做㗎啦，我哋擺嗰啲，希望佢哋睇到，夾三個字㗎嘛，即係呢個字。\\n咁但係個重點呢，呢一個活動呢，其實我哋夾次，俾每個活動。\\n你唔俾佢哋自己改㗎？\\n例如餐嘅資訊啊，例如寫餐寫寫下，例如購物啊，或者呢啲資訊嘅嘢，雞，其他嘅，Q&A，餐啊今晚啊，或者，舒適嘅，或者餐梳啊，我成日叫呢啲字，餐梳喺呢個地區啊，所以呢其實呢，你嘅家話多過其實活動星期活動星期活動唔知，其實個個禮拜都其實活動㗎啦，其實唔係嗰個主題，唔係因為嗰個主題而有啲活動你要去延伸嘛，我期望出呢啲囉，而呢啲活動特別啲嘛，因為啲嘢比較急速啊，出Facebook嘛，如果唔係，咁呢啲活動就得㗎，其實呢個部位嘅，其實啊，譬如出Facebook啊，\\n所以如果出去食餐廳，去買嘢，點樣出Facebook？如果計數，點樣出Facebook？即係用唔用得手機？寫三個字，唔好叫。唔寫個表喇。唔拍住，係咪唔會㗎？老師，係咪唔會㗎？係咪？如果唔會，我唔知道點樣，我希望活動出唔到嘅，就出寫手機。姐係分啲筆劃，OK㗎喇，咁你就打字喇，寫字喇。老師，有啲咩discussion呀？今晚開始？因為我哋加咗啲圖像，你就睇吓，因為一旦睇，單元會寫好多嘢。係。\\n\\n\\nThis is a significant reduction and attempts to clarify the meaning.  It's still quite colloquial and jumps around a bit, reflecting the original spoken nature of the text.  Let me know if you'd like me to try and further refine it for clarity or a more formal tone.\\n\""
      ]
     },
     "execution_count": 19,
     "metadata": {},
     "output_type": "execute_result"
    }
   ],
   "source": [
    "refined_spoken_text"
   ]
  },
  {
   "cell_type": "markdown",
   "metadata": {},
   "source": [
    "## Speech (Cantonese) to Text (Written Chinese)\n",
    "Using Gemini 1.5 pro"
   ]
  },
  {
   "cell_type": "code",
   "execution_count": 20,
   "metadata": {},
   "outputs": [],
   "source": [
    "def speech_to_written(message, api_key):\n",
    "    prompt = \"\"\"\n",
    "            Convert the following spoken Cantonese text into standard written Chinese. Maintain grammatical correctness and coherence while ensuring the meaning is preserved. Use formal written Chinese (書面語) rather than colloquial Cantonese (口語).\n",
    "            \"\"\"\n",
    "    return gemini_prompt_call(message, api_key, prompt)"
   ]
  },
  {
   "cell_type": "code",
   "execution_count": 21,
   "metadata": {},
   "outputs": [],
   "source": [
    "raw_written = speech_to_written(refined_spoken_text, GEMINI_API_KEY)"
   ]
  },
  {
   "cell_type": "code",
   "execution_count": 22,
   "metadata": {},
   "outputs": [
    {
     "data": {
      "text/plain": [
       "\"關於教師發展課程，截止日期為1月31日，只需申請一次即可。現已1月27日，課程申請時間為1月1日至31日。該課程每年均有提供，之前若已完成課程並持有證書及收據（例如Course Cert正本），即可申請。請盡快申請，以免逾期。下年度（2025年1月1日）課程將繼續開放。已完成課程並持有證書（例如Cert）者，請立即申請。此課程與我們的牌照事務息息相關，是一個好主意，值得好好規劃。關於其他老師的想法，則需視乎個人情況。關於時數問題，真實情況與之前的老師們所經歷的相似。但具體情況需視乎實際情況而定，若課程時間過長，則令人不悅。關於小朋友的學習，例如顏色辨識，需根據個別情況提供協助，切勿妄下判斷。\\n\\n關於課程費用（幾千元），可由學校統一申請，然後再發放給各位老師。申請時需提供申請書、圖原、單據及正本證書。關於網絡安全及網上發情問題，總部已有要求，但目前尚未收到正式文件。相關軟體已置於教師電腦中，請勿用於讀寫，以免損壞。如有問題，可參考相關書籍及Q&A資料。關於聯校及香港世界活動，比賽將於4月舉行，具體日期暫定為4月12日，地點為油麻地城。比賽將分初賽及決賽，K1、K2、K3均可參加。比賽旨在提升學生的能力，而非增加壓力，請各位老師多向學生講解常識。美術比賽將於6月7日舉行，地點為某中學。\\n\\n關於層次問題，請參考之前所述。關於升水及差別，請根據個別情況處理。請為六月份的活動做好準備。關於文章及證書問題，請參考已發放的資料。關於機器問題，請多加處理。關於字典問題，請參考相關資料。關於溝通問題，已更換設備，並提供卡片供學生使用，以提升技巧。關於書包及卡片問題，請各位老師多加留意，避免學生遺失。關於餐具問題，請妥善保管，避免遺失。關於電子產品及餐具共用問題，請各位老師提醒學生保持自律。關於禮物問題，請參考標準禮物清單，並填寫相關資料。關於評分問題，請參考相關規定。關於輔導點問題，將另行通知。關於會議及功課安排，將於下個月開始。關於教材教具，將於9月提供具體日期。關於K1、K2、K3的主題安排，下年度將統一開始及結束，以便處理。關於家長活動，請參考已發放的資料。關於親子活動，請參考相關規定，並將特別情況加入其中。關於假期安排，請自行參考。關於K1、K2、K3的活動安排，請參考相關表格。關於三罷問題，將保持彈性安排。關於手寫及三個字問題，請盡力完成。關於活動安排，請參考相關資訊，並可利用手機發佈至Facebook。\\n\\n\\nThis version is significantly more formal and organized.  It still retains some of the original's rapid shifts in topic, but presents the information in a more digestible format.  I've tried to infer the meaning behind some of the more cryptic phrases, but some ambiguities remain due to the nature of the original text.  Let me know if you'd like any further adjustments.\\n\""
      ]
     },
     "execution_count": 22,
     "metadata": {},
     "output_type": "execute_result"
    }
   ],
   "source": [
    "raw_written"
   ]
  },
  {
   "cell_type": "markdown",
   "metadata": {},
   "source": [
    "## Refine Written Chinese (smoother sentence)\n",
    "Using Gemini 1.5 pro"
   ]
  },
  {
   "cell_type": "code",
   "execution_count": 23,
   "metadata": {},
   "outputs": [],
   "source": [
    "def refine_writte_text(message, api_key):\n",
    "    prompt = \"\"\"\n",
    "            Please refine the following Chinese text by making the sentence structure smoother and more coherent. \n",
    "            Reduce excessive punctuation, clarify ambiguous parts, and ensure natural readability while preserving the original meaning.\n",
    "            \"\"\"\n",
    "    return gemini_prompt_call(message, api_key, prompt, temperature=1)"
   ]
  },
  {
   "cell_type": "code",
   "execution_count": 24,
   "metadata": {},
   "outputs": [],
   "source": [
    "refined_written = refine_writte_text(raw_written, GEMINI_API_KEY)"
   ]
  },
  {
   "cell_type": "code",
   "execution_count": 25,
   "metadata": {},
   "outputs": [
    {
     "data": {
      "text/plain": [
       "'教師發展課程申請截止日期為1月31日，只需申請一次。目前已1月27日，申請時間為1月1日至31日。此課程每年均有提供，若曾完成課程並持有證書及收據（例如Course Cert正本），即可申請。請盡快申請，以免逾期。下年度（2025年1月1日）課程亦將開放申請。已完成課程並持有證書（例如Cert）者，請立即申請。此課程與本校牌照事務息息相關，值得各位老師妥善規劃及參與。其他老師的想法則視乎個人情況。\\n\\n關於課程時數，與往年老師的經驗相似，但具體時數仍需視實際情況而定。若課程時間過長，可能會造成不便。\\n\\n關於小朋友的學習，例如顏色辨識，請根據個別情況提供協助，切勿妄下判斷。\\n\\n課程費用（約數千元）可由學校統一申請後發放給各位老師。申請時需提交申請書、圖像原稿、單據及證書正本。\\n\\n關於網絡安全及網上不當言論問題，總部已有相關要求，但正式文件尚未下達。教師電腦中已安裝相關軟體，請勿用於讀寫操作，以免損壞。如有疑問，請參考相關書籍及Q&A資料。\\n\\n聯校及香港世界活動比賽將於4月12日（暫定）在油麻地城舉行，分初賽及決賽，K1、K2、K3學生均可參加。比賽旨在提升學生能力，而非增加壓力，請各位老師多向學生講解相關常識。美術比賽將於6月7日在某中學舉行。\\n\\n關於層次問題，請參考先前說明。升水及差別問題請根據個別情況處理。請各位老師為六月份的活動做好準備。文章及證書問題請參考已發放的資料。機器問題請多加處理。字典問題請參考相關資料。\\n\\n為提升學生溝通技巧，已更換通訊設備，並提供卡片供學生使用。請各位老師多加留意學生的書包及卡片，避免遺失。餐具亦請妥善保管，避免遺失。請提醒學生妥善使用電子產品及餐具，避免共用。\\n\\n禮物發放請參考標準禮物清單，並填寫相關資料。評分請參考相關規定。輔導點事宜將另行通知。會議及功課安排將於下個月開始。教材教具的具體提供日期將於9月公布。\\n\\n下年度K1、K2、K3的主題安排將統一開始及結束，以便管理。家長活動請參考已發放的資料。親子活動請參考相關規定，並將特殊情況納入考量。假期安排請自行參考。K1、K2、K3的活動安排請參考相關表格。關於「三罷」問題，將保持彈性安排。手寫及三個字的要求請盡力完成。活動安排請參考相關資訊，並可使用手機發佈至Facebook。\\n\\n\\nKey changes:\\n\\n* **Reduced redundancy:** Removed repetitive phrases and streamlined information.\\n* **Improved flow:**  Grouped related topics together for better coherence.\\n* **Clarified ambiguities:**  Rephrased vague statements for better understanding (e.g., \"網上發情問題\" likely meant \"inappropriate online content\").\\n* **Formalized tone:** Used more professional language.\\n* **Simplified punctuation:**  Removed excessive commas and periods.\\n* **Naturalized language:** Made the text sound more like standard written Chinese.\\n\\n\\nThis version is significantly more concise and easier to read while maintaining the original information.  I\\'ve made educated guesses on some of the more obscure points, so please let me know if any further clarification is needed.\\n'"
      ]
     },
     "execution_count": 25,
     "metadata": {},
     "output_type": "execute_result"
    }
   ],
   "source": [
    "refined_written"
   ]
  },
  {
   "cell_type": "markdown",
   "metadata": {},
   "source": [
    "## Summarize using Gemini 1.5 Pro"
   ]
  },
  {
   "cell_type": "code",
   "execution_count": 26,
   "metadata": {},
   "outputs": [],
   "source": [
    "def summarize_refined_written(message, api_key, sum_lvl):\n",
    "    prompt = f\"\"\"Summarize the given Chinese text in Traditional Chinese (zh) at summarization level {sum_lvl}, where 1 is the most concise and 5 is the most detailed, and 0 is in bullet points with sectioned format. Retain key information and context while ensuring clarity, coherence, and fluency.\"\"\"\n",
    "    return gemini_prompt_call(message, api_key, prompt)"
   ]
  },
  {
   "cell_type": "code",
   "execution_count": 27,
   "metadata": {},
   "outputs": [],
   "source": [
    "def summarize_refined_written(message, api_key, sum_lvl, bullet_points=False):\n",
    "    if bullet_points:\n",
    "        prompt = f\"\"\"Summarize the given Chinese text and output in Traditional Chinese (zh) markdown format with bullet points and sectioned format. Use detail level {sum_lvl}, where 1 is the most concise and 5 is the most detailed. Retain key information and context while ensuring clarity, coherence, and fluency.\"\"\"\n",
    "    else:\n",
    "        prompt = f\"\"\"Summarize the given Chinese text and output in Traditional Chinese (zh) at summarization level {sum_lvl}, where 1 is the most concise and 5 is the most detailed. Retain key information and context while ensuring clarity, coherence, and fluency.\"\"\"\n",
    "    \n",
    "    return gemini_prompt_call(message, api_key, prompt)"
   ]
  },
  {
   "cell_type": "code",
   "execution_count": 28,
   "metadata": {},
   "outputs": [],
   "source": [
    "# Test\n",
    "summarized_text = summarize_refined_written(refined_written, GEMINI_API_KEY, sum_lvl=2, bullet_points=True)"
   ]
  },
  {
   "cell_type": "code",
   "execution_count": 29,
   "metadata": {},
   "outputs": [
    {
     "name": "stdout",
     "output_type": "stream",
     "text": [
      "## 教師發展及學校事務概要\n",
      "\n",
      "### 教師發展課程\n",
      "\n",
      "* 申請截止日期：1月31日 (只需申請一次，目前已1月27日，申請時間為1月1日至31日)\n",
      "* 資格：曾完成課程並持有證書及收據 (例如 Course Cert 正本)\n",
      "* 2025年度課程將於2025年1月1日開放申請\n",
      "* 課程與學校牌照事務相關，建議參與\n",
      "* 課程時數：與往年相若，視實際情況而定\n",
      "* 課程費用：約數千元，由學校統一申請後發放，需提交申請書、圖像原稿、單據及證書正本\n",
      "\n",
      "### 學生學習及活動\n",
      "\n",
      "* 顏色辨識等學習：根據個別學生情況提供協助\n",
      "* 聯校及香港世界活動比賽：\n",
      "    * 日期：4月12日 (暫定)\n",
      "    * 地點：油麻地城\n",
      "    * 賽制：分初賽及決賽\n",
      "    * 參加對象：K1、K2、K3 學生\n",
      "    * 目標：提升學生能力\n",
      "* 美術比賽：\n",
      "    * 日期：6月7日\n",
      "    * 地點：某中學\n",
      "* 六月份活動：請老師做好準備\n",
      "* 通訊設備更新：已更換通訊設備並提供卡片，請留意學生書包及卡片避免遺失\n",
      "* 餐具：請妥善保管，避免遺失，並提醒學生避免共用\n",
      "* 電子產品使用：提醒學生妥善使用，避免共用\n",
      "\n",
      "### 行政及其他事項\n",
      "\n",
      "* 網絡安全及網上不當言論：總部已有相關要求，教師電腦已安裝相關軟體，請勿用於讀寫操作\n",
      "* 層次、升水及差別問題：請參考先前說明及根據個別情況處理\n",
      "* 文章及證書問題：請參考已發放資料\n",
      "* 機器問題：請多加處理\n",
      "* 字典問題：請參考相關資料\n",
      "* 禮物發放：參考標準禮物清單並填寫相關資料\n",
      "* 評分：參考相關規定\n",
      "* 輔導點事宜：另行通知\n",
      "* 會議及功課安排：下個月開始\n",
      "* 教材教具提供日期：9月公布\n",
      "* 下年度 K1、K2、K3 主題：統一開始及結束\n",
      "* 家長活動：參考已發放資料\n",
      "* 親子活動：參考相關規定，並考慮特殊情況\n",
      "* 假期安排：自行參考\n",
      "* K1、K2、K3 活動安排：參考相關表格\n",
      "* 「三罷」問題：保持彈性安排\n",
      "* 手寫及三個字要求：盡力完成\n",
      "* 活動安排資訊發佈：可使用手機發佈至 Facebook\n",
      "\n"
     ]
    }
   ],
   "source": [
    "print(summarized_text)"
   ]
  }
 ],
 "metadata": {
  "kernelspec": {
   "display_name": ".venv",
   "language": "python",
   "name": "python3"
  },
  "language_info": {
   "codemirror_mode": {
    "name": "ipython",
    "version": 3
   },
   "file_extension": ".py",
   "mimetype": "text/x-python",
   "name": "python",
   "nbconvert_exporter": "python",
   "pygments_lexer": "ipython3",
   "version": "3.12.9"
  }
 },
 "nbformat": 4,
 "nbformat_minor": 2
}
