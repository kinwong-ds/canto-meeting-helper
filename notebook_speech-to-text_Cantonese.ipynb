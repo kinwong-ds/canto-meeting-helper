{
 "cells": [
  {
   "cell_type": "markdown",
   "metadata": {},
   "source": [
    "## Install and import packages"
   ]
  },
  {
   "cell_type": "code",
   "execution_count": 1,
   "metadata": {},
   "outputs": [],
   "source": [
    "# !pip install soundfile\n",
    "# !pip install pydub\n",
    "# !pip install SpeechRecognition\n",
    "# !pip install openai --upgrade"
   ]
  },
  {
   "cell_type": "code",
   "execution_count": 2,
   "metadata": {},
   "outputs": [
    {
     "name": "stderr",
     "output_type": "stream",
     "text": [
      "/Users/kw/Documents/py_projects/canto-text/.venv/lib/python3.12/site-packages/tqdm/auto.py:21: TqdmWarning: IProgress not found. Please update jupyter and ipywidgets. See https://ipywidgets.readthedocs.io/en/stable/user_install.html\n",
      "  from .autonotebook import tqdm as notebook_tqdm\n"
     ]
    }
   ],
   "source": [
    "import os\n",
    "import csv\n",
    "import wave\n",
    "import soundfile\n",
    "import requests\n",
    "import pandas as pd\n",
    "from datetime import timedelta\n",
    "from pydub import AudioSegment\n",
    "import speech_recognition as sr\n",
    "from transformers import pipeline\n",
    "from openai import AzureOpenAI\n",
    "from dotenv import load_dotenv\n",
    "from tqdm import tqdm\n",
    "\n",
    "\n",
    "# Load environment variables from .env file\n",
    "load_dotenv()\n",
    "\n",
    "# Get the Hugging Face API key from the environment variables\n",
    "HF_API_KEY = os.environ[\"HF_API_KEY\"]\n",
    "GEMINI_API_KEY = os.environ[\"GEMINI_API_KEY\"]"
   ]
  },
  {
   "cell_type": "markdown",
   "metadata": {},
   "source": [
    "--- \n",
    "#### Setup Device (CUDA, MPS, CPU)"
   ]
  },
  {
   "cell_type": "code",
   "execution_count": 3,
   "metadata": {},
   "outputs": [
    {
     "name": "stdout",
     "output_type": "stream",
     "text": [
      "Using device: mps\n"
     ]
    }
   ],
   "source": [
    "import torch\n",
    "\n",
    "# Determine the best available device (CUDA if available, otherwise MPS, then CPU)\n",
    "if torch.cuda.is_available():\n",
    "    device = torch.device(\"cuda\")\n",
    "elif torch.backends.mps.is_available():\n",
    "    device = torch.device(\"mps\")\n",
    "else:\n",
    "    device = torch.device(\"cpu\")\n",
    "\n",
    "print(f\"Using device: {device}\")"
   ]
  },
  {
   "cell_type": "code",
   "execution_count": 4,
   "metadata": {},
   "outputs": [],
   "source": [
    "input_m4a_audio = \"input_audio/1hr_sample.m4a\""
   ]
  },
  {
   "cell_type": "markdown",
   "metadata": {},
   "source": [
    "---\n",
    "## Convert audio to wav format"
   ]
  },
  {
   "cell_type": "code",
   "execution_count": 5,
   "metadata": {},
   "outputs": [],
   "source": [
    "from pydub import AudioSegment\n",
    "import os\n",
    "\n",
    "def convert_audio_to_wav(input_file):\n",
    "    \"\"\"Convert .m4a file to .wav format.\"\"\"\n",
    "    # Load the .m4a file\n",
    "    audio = AudioSegment.from_file(input_file, format=\"m4a\")\n",
    "    output_file = os.path.join(\"converted_audio\", os.path.basename(input_file).replace(\".m4a\", \".wav\"))\n",
    "    os.makedirs(os.path.dirname(output_file), exist_ok=True)\n",
    "    audio.export(output_file, format=\"wav\")\n",
    "    \n",
    "    return output_file"
   ]
  },
  {
   "cell_type": "code",
   "execution_count": 6,
   "metadata": {},
   "outputs": [
    {
     "data": {
      "text/plain": [
       "'converted_audio/1hr_sample.wav'"
      ]
     },
     "execution_count": 6,
     "metadata": {},
     "output_type": "execute_result"
    }
   ],
   "source": [
    "convert_audio_to_wav(input_m4a_audio)"
   ]
  },
  {
   "cell_type": "markdown",
   "metadata": {},
   "source": [
    "---\n",
    "## Audio Chunking\n",
    "### using pyannote"
   ]
  },
  {
   "cell_type": "code",
   "execution_count": 7,
   "metadata": {},
   "outputs": [],
   "source": [
    "import os\n",
    "import numpy as np\n",
    "import librosa\n",
    "import soundfile as sf\n",
    "from pydub import AudioSegment\n",
    "from tqdm import tqdm\n",
    "import matplotlib.pyplot as plt\n",
    "from scipy.signal import medfilt\n",
    "\n",
    "def split_audio_by_silence(audio_path, output_dir, chunk_duration=300, min_silence_duration=0.5, \n",
    "                           silence_threshold=-40, padding=0.2):\n",
    "    \"\"\"\n",
    "    Split an audio file into chunks based on silence detection to avoid splitting in the middle of sentences.\n",
    "    \n",
    "    Parameters:\n",
    "    - audio_path: Path to the input audio file\n",
    "    - output_dir: Directory to save the output chunks\n",
    "    - chunk_duration: Target duration for each chunk in seconds (default: 300s = 5 minutes)\n",
    "    - min_silence_duration: Minimum duration of silence to consider as a potential split point (seconds)\n",
    "    - silence_threshold: Threshold in dB for determining silence\n",
    "    - padding: Padding time in seconds to add to each chunk to ensure overlap\n",
    "    \n",
    "    Returns:\n",
    "    - List of paths to the generated audio chunks\n",
    "    \"\"\"\n",
    "    # Create output directory if it doesn't exist\n",
    "    os.makedirs(output_dir, exist_ok=True)\n",
    "    \n",
    "    # Load the audio file with pydub\n",
    "    audio = AudioSegment.from_file(audio_path)\n",
    "    \n",
    "    # Convert to mono if stereo for easier processing\n",
    "    if audio.channels > 1:\n",
    "        audio = audio.set_channels(1)\n",
    "    \n",
    "    # Get the duration in milliseconds\n",
    "    total_duration_ms = len(audio)\n",
    "    \n",
    "    # Convert chunk duration to milliseconds\n",
    "    chunk_duration_ms = chunk_duration * 1000\n",
    "    \n",
    "    # Load the audio file with librosa for silence detection\n",
    "    y, sr = librosa.load(audio_path, sr=None)\n",
    "    \n",
    "    # Compute the RMS energy\n",
    "    rms = librosa.feature.rms(y=y, frame_length=int(sr * 0.025), hop_length=int(sr * 0.01))[0]\n",
    "    \n",
    "    # Convert to dB\n",
    "    rms_db = 20 * np.log10(rms + 1e-10)\n",
    "    \n",
    "    # Apply median filtering to smooth the energy curve\n",
    "    rms_db_smoothed = medfilt(rms_db, kernel_size=11)\n",
    "    \n",
    "    # Find silence regions (below threshold)\n",
    "    silence_mask = rms_db_smoothed < silence_threshold\n",
    "    \n",
    "    # Convert to time (seconds)\n",
    "    times = librosa.times_like(rms_db_smoothed, sr=sr, hop_length=int(sr * 0.01))\n",
    "    \n",
    "    # Find continuous silence regions\n",
    "    silence_regions = []\n",
    "    in_silence = False\n",
    "    start_time = 0\n",
    "    \n",
    "    for i, is_silent in enumerate(silence_mask):\n",
    "        if is_silent and not in_silence:\n",
    "            # Start of a silence region\n",
    "            start_time = times[i]\n",
    "            in_silence = True\n",
    "        elif not is_silent and in_silence:\n",
    "            # End of a silence region\n",
    "            end_time = times[i]\n",
    "            silence_duration = end_time - start_time\n",
    "            if silence_duration >= min_silence_duration:\n",
    "                silence_regions.append((start_time, end_time))\n",
    "            in_silence = False\n",
    "    \n",
    "    # Add the last silence region if we're still in silence at the end\n",
    "    if in_silence:\n",
    "        end_time = times[-1]\n",
    "        silence_duration = end_time - start_time\n",
    "        if silence_duration >= min_silence_duration:\n",
    "            silence_regions.append((start_time, end_time))\n",
    "    \n",
    "    # Sort silence regions by their start time\n",
    "    silence_regions.sort(key=lambda x: x[0])\n",
    "    \n",
    "    # Determine the split points\n",
    "    split_points = []\n",
    "    current_chunk_end_ms = chunk_duration_ms\n",
    "    \n",
    "    # Find the closest silence region to each target chunk end\n",
    "    for i in range(len(silence_regions)):\n",
    "        silence_start_ms = silence_regions[i][0] * 1000\n",
    "        silence_end_ms = silence_regions[i][1] * 1000\n",
    "        \n",
    "        # If this silence region is close to our target chunk end\n",
    "        if abs(silence_start_ms - current_chunk_end_ms) < chunk_duration_ms * 0.2:\n",
    "            split_points.append(silence_start_ms)\n",
    "            current_chunk_end_ms += chunk_duration_ms\n",
    "        \n",
    "        # If we've already passed our target chunk end, use this silence region\n",
    "        elif silence_start_ms > current_chunk_end_ms:\n",
    "            split_points.append(silence_start_ms)\n",
    "            current_chunk_end_ms = silence_start_ms + chunk_duration_ms\n",
    "    \n",
    "    # Add the start of the audio as the first split point\n",
    "    split_points = [0] + split_points\n",
    "    \n",
    "    # Add the end of the audio as the last split point\n",
    "    if split_points[-1] < total_duration_ms:\n",
    "        split_points.append(total_duration_ms)\n",
    "    \n",
    "    # Generate chunks\n",
    "    chunk_paths = []\n",
    "    \n",
    "    for i in tqdm(range(len(split_points) - 1), desc=\"Splitting audio into chunks\"):\n",
    "        # Calculate start and end times with padding\n",
    "        start_ms = max(0, split_points[i] - padding * 1000)\n",
    "        end_ms = min(total_duration_ms, split_points[i + 1] + padding * 1000)\n",
    "        \n",
    "        # Extract the chunk\n",
    "        chunk = audio[start_ms:end_ms]\n",
    "        \n",
    "        # Generate the output filename\n",
    "        output_filename = f\"chunk_{i+1:03d}.wav\"\n",
    "        output_path = os.path.join(output_dir, output_filename)\n",
    "        \n",
    "        # Export the chunk\n",
    "        chunk.export(output_path, format=\"wav\")\n",
    "        chunk_paths.append(output_path)\n",
    "        \n",
    "        # Print progress\n",
    "        # print(f\"Chunk {i+1}/{len(split_points)-1} - Duration: {(end_ms-start_ms)/1000:.2f}s\")\n",
    "    \n",
    "    # Add a tqdm progress bar for chunk generation\n",
    "    for i in tqdm(range(len(split_points) - 1), desc=\"Generating audio chunks\"):\n",
    "        # Calculate start and end times with padding\n",
    "        start_ms = max(0, split_points[i] - padding * 1000)\n",
    "        end_ms = min(total_duration_ms, split_points[i + 1] + padding * 1000)\n",
    "        \n",
    "        # Extract the chunk\n",
    "        chunk = audio[start_ms:end_ms]\n",
    "        \n",
    "        # Generate the output filename\n",
    "        output_filename = f\"chunk_{i+1:03d}.wav\"\n",
    "        output_path = os.path.join(output_dir, output_filename)\n",
    "        \n",
    "        # Export the chunk\n",
    "        chunk.export(output_path, format=\"wav\")\n",
    "        chunk_paths.append(output_path)\n",
    "        \n",
    "        # Print progress\n",
    "        print(f\"Chunk {i+1}/{len(split_points)-1} - Duration: {(end_ms-start_ms)/1000:.2f}s\")\n",
    "    \n",
    "    return chunk_paths\n"
   ]
  },
  {
   "cell_type": "code",
   "execution_count": 8,
   "metadata": {},
   "outputs": [],
   "source": [
    "raw_wav_file = input_m4a_audio.replace('input_audio', 'converted_audio').replace('.m4a', '.wav')\n",
    "file_name = input_m4a_audio.split('/')[-1].split('.')[0]"
   ]
  },
  {
   "cell_type": "code",
   "execution_count": 9,
   "metadata": {},
   "outputs": [
    {
     "name": "stderr",
     "output_type": "stream",
     "text": [
      "Splitting audio into chunks: 100%|██████████| 59/59 [00:00<00:00, 394.71it/s]\n",
      "Generating audio chunks: 100%|██████████| 59/59 [00:00<00:00, 451.21it/s]\n"
     ]
    },
    {
     "name": "stdout",
     "output_type": "stream",
     "text": [
      "Chunk 1/59 - Duration: 78.61s\n",
      "Chunk 2/59 - Duration: 64.14s\n",
      "Chunk 3/59 - Duration: 48.46s\n",
      "Chunk 4/59 - Duration: 68.48s\n",
      "Chunk 5/59 - Duration: 70.02s\n",
      "Chunk 6/59 - Duration: 57.94s\n",
      "Chunk 7/59 - Duration: 75.59s\n",
      "Chunk 8/59 - Duration: 55.66s\n",
      "Chunk 9/59 - Duration: 86.63s\n",
      "Chunk 10/59 - Duration: 49.84s\n",
      "Chunk 11/59 - Duration: 61.54s\n",
      "Chunk 12/59 - Duration: 142.41s\n",
      "Chunk 13/59 - Duration: 110.91s\n",
      "Chunk 14/59 - Duration: 57.07s\n",
      "Chunk 15/59 - Duration: 61.31s\n",
      "Chunk 16/59 - Duration: 73.12s\n",
      "Chunk 17/59 - Duration: 51.50s\n",
      "Chunk 18/59 - Duration: 55.01s\n",
      "Chunk 19/59 - Duration: 87.36s\n",
      "Chunk 20/59 - Duration: 51.63s\n",
      "Chunk 21/59 - Duration: 60.37s\n",
      "Chunk 22/59 - Duration: 67.12s\n",
      "Chunk 23/59 - Duration: 53.65s\n",
      "Chunk 24/59 - Duration: 66.16s\n",
      "Chunk 25/59 - Duration: 55.94s\n",
      "Chunk 26/59 - Duration: 58.08s\n",
      "Chunk 27/59 - Duration: 63.20s\n",
      "Chunk 28/59 - Duration: 65.99s\n",
      "Chunk 29/59 - Duration: 80.94s\n",
      "Chunk 30/59 - Duration: 116.95s\n",
      "Chunk 31/59 - Duration: 78.14s\n",
      "Chunk 32/59 - Duration: 53.94s\n",
      "Chunk 33/59 - Duration: 72.78s\n",
      "Chunk 34/59 - Duration: 54.71s\n",
      "Chunk 35/59 - Duration: 60.44s\n",
      "Chunk 36/59 - Duration: 65.71s\n",
      "Chunk 37/59 - Duration: 60.22s\n",
      "Chunk 38/59 - Duration: 51.43s\n",
      "Chunk 39/59 - Duration: 52.35s\n",
      "Chunk 40/59 - Duration: 62.32s\n",
      "Chunk 41/59 - Duration: 60.37s\n",
      "Chunk 42/59 - Duration: 63.81s\n",
      "Chunk 43/59 - Duration: 68.34s\n",
      "Chunk 44/59 - Duration: 58.02s\n",
      "Chunk 45/59 - Duration: 68.35s\n",
      "Chunk 46/59 - Duration: 42.81s\n",
      "Chunk 47/59 - Duration: 63.00s\n",
      "Chunk 48/59 - Duration: 70.40s\n",
      "Chunk 49/59 - Duration: 81.27s\n",
      "Chunk 50/59 - Duration: 115.45s\n",
      "Chunk 51/59 - Duration: 124.47s\n",
      "Chunk 52/59 - Duration: 66.36s\n",
      "Chunk 53/59 - Duration: 50.05s\n",
      "Chunk 54/59 - Duration: 85.56s\n",
      "Chunk 55/59 - Duration: 48.49s\n",
      "Chunk 56/59 - Duration: 60.46s\n",
      "Chunk 57/59 - Duration: 62.37s\n",
      "Chunk 58/59 - Duration: 62.08s\n",
      "Chunk 59/59 - Duration: 126.42s\n"
     ]
    }
   ],
   "source": [
    "chunk_paths = split_audio_by_silence(raw_wav_file, f\"chunked_audio/{file_name}\", chunk_duration=60)"
   ]
  },
  {
   "cell_type": "markdown",
   "metadata": {},
   "source": [
    "---\n",
    "\n",
    "## Speech (Cantonese) to Text (Spoken Cantonese)\n",
    "### Method 1: using Google Gemini 1.5 pro"
   ]
  },
  {
   "cell_type": "code",
   "execution_count": 10,
   "metadata": {},
   "outputs": [],
   "source": [
    "def get_all_file_paths(directory):\n",
    "    file_paths = []\n",
    "    for root, _, files in os.walk(directory):\n",
    "        for file in files:\n",
    "            if file.endswith('.wav'):  # Make sure to only include .wav files\n",
    "                file_paths.append(os.path.join(root, file))\n",
    "    \n",
    "    # Sort the file paths based on the numeric part of the filename\n",
    "    file_paths.sort(key=lambda x: int(os.path.splitext(os.path.basename(x))[0].split('_')[-1]))\n",
    "    \n",
    "    return file_paths"
   ]
  },
  {
   "cell_type": "code",
   "execution_count": 11,
   "metadata": {},
   "outputs": [
    {
     "name": "stdout",
     "output_type": "stream",
     "text": [
      "['chunked_audio/1hr_sample/chunk_001.wav', 'chunked_audio/1hr_sample/chunk_002.wav', 'chunked_audio/1hr_sample/chunk_003.wav', 'chunked_audio/1hr_sample/chunk_004.wav', 'chunked_audio/1hr_sample/chunk_005.wav']\n"
     ]
    }
   ],
   "source": [
    "audio_chunk_paths = get_all_file_paths(f'chunked_audio/{file_name}')\n",
    "print(audio_chunk_paths[:5])"
   ]
  },
  {
   "cell_type": "markdown",
   "metadata": {},
   "source": [
    "#### Using Gemini API"
   ]
  },
  {
   "cell_type": "code",
   "execution_count": 12,
   "metadata": {},
   "outputs": [],
   "source": [
    "import google.generativeai as genai\n",
    "\n",
    "# Gemini transcription\n",
    "def transcribe_with_gemini(audio_chunk_paths, api_key):\n",
    "    try:\n",
    "        print(\"Transcribing with Gemini Pro 1.5...\")\n",
    "        genai.configure(api_key=api_key)\n",
    "        model = genai.GenerativeModel('gemini-1.5-pro')\n",
    "        \n",
    "        # Create prompt for diarization and Cantonese transcription\n",
    "        prompt = \"\"\"\n",
    "        Transcribe this Cantonese audio in Hong Kong colloquial speech, removing filler words and repeated phrases. Extract only spoken content and ignore background noise.\n",
    "        \"\"\"\n",
    "        \n",
    "        transcriptions = []\n",
    "        for i, chunk_path in enumerate(tqdm(audio_chunk_paths, desc=\"Transcribing chunks\")):\n",
    "            # Upload audio file with specified MIME type\n",
    "            f = genai.upload_file(chunk_path, mime_type='audio/wav')\n",
    "            \n",
    "            # Generate using multimodal capabilities\n",
    "            response = model.generate_content([prompt, f])\n",
    "            transcriptions.append(response.text)\n",
    "        \n",
    "        return \"\".join(transcriptions)\n",
    "    except Exception as e:\n",
    "        print(f\"Error with Gemini transcription: {str(e)}\")\n",
    "        return None"
   ]
  },
  {
   "cell_type": "code",
   "execution_count": 15,
   "metadata": {},
   "outputs": [
    {
     "data": {
      "text/plain": [
       "['chunked_audio/1hr_sample/chunk_001.wav',\n",
       " 'chunked_audio/1hr_sample/chunk_002.wav',\n",
       " 'chunked_audio/1hr_sample/chunk_003.wav',\n",
       " 'chunked_audio/1hr_sample/chunk_004.wav',\n",
       " 'chunked_audio/1hr_sample/chunk_005.wav',\n",
       " 'chunked_audio/1hr_sample/chunk_006.wav',\n",
       " 'chunked_audio/1hr_sample/chunk_007.wav',\n",
       " 'chunked_audio/1hr_sample/chunk_008.wav',\n",
       " 'chunked_audio/1hr_sample/chunk_009.wav',\n",
       " 'chunked_audio/1hr_sample/chunk_010.wav',\n",
       " 'chunked_audio/1hr_sample/chunk_011.wav',\n",
       " 'chunked_audio/1hr_sample/chunk_012.wav',\n",
       " 'chunked_audio/1hr_sample/chunk_013.wav',\n",
       " 'chunked_audio/1hr_sample/chunk_014.wav',\n",
       " 'chunked_audio/1hr_sample/chunk_015.wav',\n",
       " 'chunked_audio/1hr_sample/chunk_016.wav',\n",
       " 'chunked_audio/1hr_sample/chunk_017.wav',\n",
       " 'chunked_audio/1hr_sample/chunk_018.wav',\n",
       " 'chunked_audio/1hr_sample/chunk_019.wav',\n",
       " 'chunked_audio/1hr_sample/chunk_020.wav',\n",
       " 'chunked_audio/1hr_sample/chunk_021.wav',\n",
       " 'chunked_audio/1hr_sample/chunk_022.wav',\n",
       " 'chunked_audio/1hr_sample/chunk_023.wav',\n",
       " 'chunked_audio/1hr_sample/chunk_024.wav',\n",
       " 'chunked_audio/1hr_sample/chunk_025.wav',\n",
       " 'chunked_audio/1hr_sample/chunk_026.wav',\n",
       " 'chunked_audio/1hr_sample/chunk_027.wav',\n",
       " 'chunked_audio/1hr_sample/chunk_028.wav',\n",
       " 'chunked_audio/1hr_sample/chunk_029.wav',\n",
       " 'chunked_audio/1hr_sample/chunk_030.wav',\n",
       " 'chunked_audio/1hr_sample/chunk_031.wav',\n",
       " 'chunked_audio/1hr_sample/chunk_032.wav',\n",
       " 'chunked_audio/1hr_sample/chunk_033.wav',\n",
       " 'chunked_audio/1hr_sample/chunk_034.wav',\n",
       " 'chunked_audio/1hr_sample/chunk_035.wav',\n",
       " 'chunked_audio/1hr_sample/chunk_036.wav',\n",
       " 'chunked_audio/1hr_sample/chunk_037.wav',\n",
       " 'chunked_audio/1hr_sample/chunk_038.wav',\n",
       " 'chunked_audio/1hr_sample/chunk_039.wav',\n",
       " 'chunked_audio/1hr_sample/chunk_040.wav',\n",
       " 'chunked_audio/1hr_sample/chunk_041.wav',\n",
       " 'chunked_audio/1hr_sample/chunk_042.wav',\n",
       " 'chunked_audio/1hr_sample/chunk_043.wav',\n",
       " 'chunked_audio/1hr_sample/chunk_044.wav',\n",
       " 'chunked_audio/1hr_sample/chunk_045.wav',\n",
       " 'chunked_audio/1hr_sample/chunk_046.wav',\n",
       " 'chunked_audio/1hr_sample/chunk_047.wav',\n",
       " 'chunked_audio/1hr_sample/chunk_048.wav',\n",
       " 'chunked_audio/1hr_sample/chunk_049.wav',\n",
       " 'chunked_audio/1hr_sample/chunk_050.wav',\n",
       " 'chunked_audio/1hr_sample/chunk_051.wav',\n",
       " 'chunked_audio/1hr_sample/chunk_052.wav',\n",
       " 'chunked_audio/1hr_sample/chunk_053.wav',\n",
       " 'chunked_audio/1hr_sample/chunk_054.wav',\n",
       " 'chunked_audio/1hr_sample/chunk_055.wav',\n",
       " 'chunked_audio/1hr_sample/chunk_056.wav',\n",
       " 'chunked_audio/1hr_sample/chunk_057.wav',\n",
       " 'chunked_audio/1hr_sample/chunk_058.wav',\n",
       " 'chunked_audio/1hr_sample/chunk_059.wav']"
      ]
     },
     "execution_count": 15,
     "metadata": {},
     "output_type": "execute_result"
    }
   ],
   "source": [
    "audio_chunk_paths"
   ]
  },
  {
   "cell_type": "code",
   "execution_count": 13,
   "metadata": {},
   "outputs": [
    {
     "name": "stdout",
     "output_type": "stream",
     "text": [
      "Transcribing with Gemini Pro 1.5...\n"
     ]
    },
    {
     "name": "stderr",
     "output_type": "stream",
     "text": [
      "Transcribing chunks: 100%|██████████| 59/59 [19:40<00:00, 20.01s/it]"
     ]
    },
    {
     "name": "stdout",
     "output_type": "stream",
     "text": [
      "我跟著佢哋嗰個表格寫，即係關於上年教師發放嗰陣，好似呢個，一條龍申請，只有呢，你而家deadline，即係今年其實deadline，因為一月三十一號嘛。我都唔記得，咁即係今年27號呢啲文件我喇。只有呢，嗰年嘅一月一號，佢哋假期年都有㗎。不過我再補充多次呀，年年都有呢個申請。係嗰年一月一號，佢哋今年嘅一月三十一號之前你已經完成晒成個course，然後有單有證書，返嚟拎錢。例子，讀，Miss，你未讀啊？讀咗喇。讀咗，攞咗張證書？未攞。有收據？有收據。張證書？係。辦妥先。好，申請咗先。好，申請我可唔可以點樣辦妥，即係發放。因為申請咗嘛，因為過咗如果唔再申請呢，就點啊？就過咗囉。因為佢下個年度會再計，即係下年度2025年一月一號囉，去到，因為你嘅收據係嗰年之前嘅，咁就申請唔到囉。係啦，你而家申請係最尾嘛。因為我下個月就係個deadline囉。哦，係啦係咪呀，但係你收據已經係讀書嗰陣時嘅喇。係呀。咁所以呢，就申請呢個日子先，佢計數先計呢個日子架，呢個日子。\n",
      "廿八幾廿八。咁平嘅咩？係呀。因為我哋做緊特價呀！吓！係呀！我買咗幾次。廿八幾廿八唔係呀，係廿八蚊幾呀！係呀，佢哋本身都唔係好嘅筆記，因為同嗰啲質素有關嘅，但係我哋講錯咗，幾十蚊嗰啲嘢，唔係幾十蚊，係嗰個牌子嗰啲。幾百蚊嗰啲？你好似好叻喎。好呀。除非你做校長，就可以控制到。吓！你咪識嗰啲囉！係呀。其他老師都唔係咁易堅持到呀？係呀，點解？因為你小朋友好似呀老師，我年年都寫啦。係咪做咗又做咗又做，不過後尾老師話唔好再做。做返呢啲自己，因為成本咁貴，都係呀！都係咁話啦！最主要係事實囉！呢啲老師唔係好肯指正學生，真係好難教㗎嘛。當有咩情況之下，你控制唔到學生，真係好難，心煩都唔煩到我哋！係呀，以前呢以前以前舊式嗰啲係，而家呢一個年代呀，所以呢我哋教小朋友，咁你就真係㗎，唔係講笑，係要呢，逼。\n",
      "之前嗰啲唔係呢個價錢買嘅。\n",
      "其實個標價係呢個價錢。\n",
      "係喎，佢哋加咗價錢喎。\n",
      "嗰陣時我哋入貨唔係呢個價錢。\n",
      "加咗幾時呀？\n",
      "佢哋呢個星期先加。\n",
      "所以囉，有啲嘢加幾十蚊。\n",
      "都有，都有啲加幾蚊啫。\n",
      "最重要係呢個款而家冇晒啦，冇晒啦，就因為而家興。\n",
      "我哋呢邊都冇啦，係呀？\n",
      "你哋嗰邊應該差唔多全部都冇喇而家。\n",
      "冇晒喇。\n",
      "呢幾日呢，我哋呢邊呀，瘋狂咁賣。\n",
      "吓，真係㗎？\n",
      "真係㗎，真係㗎。\n",
      "唔打緊，唔打緊，我哋叫做朋友價咋。\n",
      "叫做朋友價。\n",
      "噉我自己…\n",
      "噉我…\n",
      "快啲，令到自己成家好，噉個個都係能夠…\n",
      "삐——\n",
      "佢幫到小朋友噉嘛，真係學到咁嘅嘢。係呀，咁所以大家傾下傾下傾下傾下。傾吓傾吓，傾吓傾吓。嗯。傾吓傾吓傾吓可以。嗯。吓，就搵人過嚟到學校教啦，人數唔夠。而家唔夠，噉嘅得嗰一二三四五六七八，八個人啫。係呀。唔夠喎。數下自己嗰啲嘢嚟度放，就出到放嘅嘢好快㗎嘛。係呀，噉樣咪好，即係而家即係今年噉樣，噉樣嘅話咪要兩年時間。兩年時間？而家冇呀，即係圖嚟，噉我講。吓，如果唔係噉安排用兩年時間慢慢去啫，呢個係需要處理㗎。噉呢就，睇返錢，噉你哋，唔好再，今年其實都做嗰個，英文處呀。就係，啊，啊，呢個呢，啊，英文教法噉樣。都係十幾人㗎咋喎，咁好囉啫。你話呢，畀啲路啦。我哋幫你諗到，一千蚊啦，吓嘛？夾幾蚊啫。如果真係有呢啲，你哋又多討論，同學校啲教法有關，呢個教師法應該用得到㗎。好冇呀？唔使咗佢，因為點解呀？唔係畀政府㗎。\n",
      "因為十四、十五號嘛，唔用到政府，噉噉呢，噉嘅錢啦，係咪呀？噉所以呢，呃，我哋同大家講，呃，Deadline㗎，真正嘅資料俾我哋少，噉跟住呢，我就幫你呢，臨走嘅時候呢，申請咗先，然後呢，佢啲錢攞到嗰陣，我哋就俾返大家啦，好無？但係我哋之前講咗，即如果你發現你自己有啲Costs已經申請咗，又讀完，又有單，又有正書，就快啲申請啦，唔好嘥。好，跟住呢，去到報告第五個，噉呢，就保護保護同網上分享。噉呢，第一個應該唔係成事嘅啫，應該差唔多有人有講嘅。因為總部要call㗎嘛，但係呢，就呢度書上俾咗成件事我哋知到。喺Software畀返teacher嘅。畀讀書嘅。係，老師嘅嘢，用佢哋嘅software。好好好。噉你將啲正書，攞返老師應該啱。攞返老師，跟住就OK。OK。即係老師會記錄。最好就你自己整晒成個數先。好好好。噉呢，因為，我哋之前講咗，我哋呢度好似有個你呀，因為噉樣call你呢度資料之前攞晒嘛。係。噉你話，好無，例如好似我哋先前嗰嗰。噉呢，噉呢，嗰啲資料先攞晒就好啦。真正，唔係呀。\n",
      "好呀，係呀，真正係讀嘅嘢都...係喇，古怪古怪。咁即係話呢，出入份啦，好喎。咁如果你話，翻譯呢，你網上正式嘅出入翻譯版本證啦，咁咪做返個核對啫啦。正式PPGT都可以。咁正式就係到呢一個聯校嘅同行世界活動啦。咁點樣報個份呢，因為呢，我哋嘅呢係呢一個四月呢，我哋就會正式呢個呢，同時實習比賽，咁點樣去做呢，同大家講，你要正式，當然啦，我哋全香港過嚟參加嘅，因為我哋只有你參與呢，都比返啲證書畀你嘅。我哋呢，係會喺呢個幾時發生呢，係四月十二號暫定咗啦。喺邊度進行呢，喺呢個油閪徑。\n",
      "上次呢日，自己後台入資料，就會做初賽，因為嗰年老師同我分享過，邊個啊，幼稚園K1班代表，係咪呀？K1、K2、K3嘅，咁呢，其實都比賽啦，亦都國際活動參與啦，家長下面問佢啦，總之同比賽嗰啲全部撳個掣啦，公平公正咁去做啦，跟住就代表學校去參與啦，問其他小朋友家，即係又開心啦，又即係常識好豐富啦，所以大家要同佢哋講多啲常識喎，即係嗰啲咩色㗎，K1唔知紅色啦係咪？咁呢知唔知咩叫紅色呢，唔知咩叫紅色啦係咪？即係呢啲常識嘅知識啦，可能紅色都唔識呢啲嘢喎，又或者咩色嘅橙呀，如果K1真係分辨唔到紅色，咁呢你唔好話佢識唔識，你唔好話佢唔識，可能對於辨別顏色上面，未好嘅即係了解喎，或者可能都關心下先，因為有啲小朋友原來發現呢，佢真係分辨唔到㗎，唔係佢唔學啊，咁如果係咁同媽咪講話咁呢要先幫佢，要去嗰陣時先得。即係幾百個呢啲小朋友，咁所以呢大家呢喺呢兩個月裡面，除咗開班之外呢，就要關心小朋友呢，喺嗰個同事之間啊，熟悉上面呢，要豐富啲。因為呢，下星期三嗰啲嘢啦，下星期三嗰啲嘢啦，咁呢都會，都會問嘅，咁大家你都了解下。咁呢跟住呢，下個月比賽都練習，咁其實發生已經又係呢，嗰啲啦，就喺呢個呢，比賽就六月七號，喺聯校之後，係，咁呢就會一間中學兩，跟中學裡面嗰啲人，再自己組隊參與。跟，咁所以比賽嗰家長，係呀，係呀，咁呢，我哋因為KG四咁就搞掂啦嘛，之前嗰比賽已經跟咗正常題㗎啦。係咪OK呀？因為佢哋\n",
      "係呀 啱呀 好正式喎 你嗰條片可以share㗎 大家可以參考下 噉呢個仔 跑步做到啫 因為佢哋嘅骨 一定都 呀 跑步做到啫 係呀 係呀 跑步做到嘅 喺邊度呀？ 大概 大概幾耐呀？兩歲 你決定呀 你而家照 你照嗰份呀 份呀 係呀 噉所以你而家斟酌下 係呀 噉其實山水參考下 照你哋嗰份 擺喺嗰邊 嗰啲 幾百字左右 噉呢啲小朋友 做少少準備 可能有啲因為六月嘛 係 噉可能開學之後就可以寫返兩 呀 幾十篇嘢 唔使嗰啲寫 係呀 嗰啲 人哋寫 係呀 係呀 你可以問意見 但幫到你嘅 我都一時時 其實冇乜特別少 吖 係呀 噉冇所謂啦其實 係呀 應該係 我見過咁多個 都吓老師啦。但幫唔到你。 係呀。 其實佢有道理。 因為呢個已經阻塞。  跟住呢，佢爆煲嗰啲氣出嘅噴噴聲呢，嘩！ 清唔清楚呢？ 有呀，跳線呀，嗰啲跳線。 佢閱讀發展呢？你哋有傾過呢？ 閱讀發展未都到喎，係喎。 點樣講呢？發出嚟？ 發出嚟個聲提醒大家，因為呢，小朋友會緊張，有精神囉，就通常有啲擠壓。咁小朋友個喊到成點呢？我就見到呢啲眉機啦。 嗯。 返嚟嘅時候呢，多啲處理啦。因為呢，其實係呢個係良好嘅教育理念，個行家都有嘅。我哋依家數據呢，係想度中間提到㗎。 其實lok，唔...咩報咩嘢...報咩呀？嗰陣因為咩...諗話...嗰陣時頭腦呀...諗咗...因為諗到中央嘅...嘅到期呀，咁唯有掉晒啲書啦，跟著自己啲費用出啦，自己出個數啦，費事咁嘅溝通啦，同埋先生費事麻煩人，其實呢...我諗將啲卡呢小朋友張卡呢，佢哋自己用嘅，拍卡啦，之後書啦，同埋就 iOS 嗰啲...一張卡...係呀...iOS 就咩呀...iOS 就得，因為上面同佢講咗又冇用到 e 卡，所以所以 e- 一張都發...你哋老師...啊...咁如果...你哋 iOS 呢...就...唔洗囉...你叫佢好似你咁撳入去就得...好...你唔係就問下問下啫吓...好好好...冇啦冇啦...呢...呢...已經唔係今年發生嘅事，因為 iOS 已經提到三面嘅。\n",
      "三年呀，今年第四年啦。咁所以呢，嗰個幾年？即係第二年。因為之前派咗啦嘛。舊年，係呀，係呀。係呀，所以三年之前嗰陣時嗰陣時呀。所以呢，方便啲呀，咁樣呀。咁所以打開下年呀，下年呢，都會預備個啦，下年呢，我都會提小朋友呢，唔會將個即係學生證呢，掛喺個書包度㗎，因為呢，有時呢，會甩咗去啦，呢啲K2呢，冇唔見啲咭嘅，呢啲細嘅呢，因為佢哋唔會識得縛返缚去嘛。即係咁樣㗎啦，因為佢哋就掛住先嘅，因為呢，成日都要用呀，咁呢，就好麻煩嘅，佢哋到呢，嘅時候，咁佢哋好似冇命嘅，佢哋到呢，陣時啲咭呢，就好麻煩喺邊度，你又發現K2嗰啲插袋呀。你唔見到呀，佢哋全部一返嚟呢，一拍完咭呢，就將佢哋個咭呢，就插喺個袋裡面嘅。佢哋個袋除咗咭咭之外呢，有寫啲啲細鎖匙呀，或者係細鎖匙扣呀，呢啲細細個仔，佢哋都插㗎。我唔知你哋有冇呢？所以，我哋一講嘅，咁呢，佢哋當佢哋呢，嘅活動嘅時候呢，我哋就會拎個袋仔就攞出嚟玩㗎啦。咁佢哋就，因為佢哋掛頸呀，咁所以呢，佢哋呢，因為我哋都反映過嘅，點解我八達通打開呀？我唔拍碎呀，不過處理有啲唔同。所以呢，呢邊嘅小朋友嗰個八達通是打開㗎，其他嗰啲呀，其他嗰啲呀，成日，即係上次買個嗰，但呢，K2從來呢，時，唔知點解時，係唔會咁打開啲㗎，佢會唔見㗎，實際上見㗎，實際上攞咗㗎，知㗎，咁呢，就插咗，冇呀，實際上呢，即係嗰陣唔見㗎，佢哋卡片又唔見㗎。咁所以，我哋唔知點解呀，處理問題有啲唔同㗎，咁我哋了解啦，下年呀，我哋下年都會溫故知新再溫故知新拍比小朋友傳訊息再溫故知新拍，然後呢，就請小朋友掛住咁呢，方便啲，咁呢，因為三年都要用㗎嘛，即係又要圖書呀，又要拍咭呀，又要玩器材呀嘛，咁呢，呢啲管理又好啲，咁到時呢，可能喺圖書館，可能食堂買啲啲插袋呀，佢哋又唔見嘛，有嗰啲跟住掛個褲袋裡面，標示喺邊個小朋友打邊個嗰啲呀，係呀，返嚟呢，就呢，做完哂自己掛呀，方便啲咁樣，咁所以呢，就，祈望啦，唔見呢，機會多啲，唔好少啲，因為呢，度話成日打開都唔見㗎，好叻呀嘛，咁我哋辛苦你哋呀，幫手呀，用個布袋入住先啦，因為其實嗰啲，好，好污糟呀。\n",
      "삐-嗰陣時我見，我見到啲細廁紙，但係呢，好重。係啦，你幫佢哋點樣令到而家暫時用紙巾卡都用到。因為我哋用，用咗三年喇，其實張卡。係啦，所以呀，我哋上次整嘅第一張，同埋派嘅都係嗰個。係，咁希望我哋好保護自己，幫小朋友喇，保護自己啲嘢，咁緊時唔見啦，好嗎？咁同埋呢，就都係點解，啲電子都共用，一張卡用晒，希望攞住多啲嘅事件。同埋可以family啲小朋友，俾啲自律好啲囉。啊，所以呢，禮券放架之後，請大家夾返做啦。因為呢，個禮盒可能呢，都要同我哋老師呀，咁樣。因為呢，重要有個standard嘅禮物list㗎，大家記得喎。暫時都冇變㗎，咁今年都一樣嘅。咁我哋而家呢禮盒裝呀，入面咩樣？如果唔要親子班喎，不過重點係，都冇，都冇分零分，咁你記得喎。佢有分先度㗎。咁你，其實你要俾分佢喇，你好認真呀，有分喇。啲事件你唔發現，冇俾加分喇，咁樣。尤其係跳舞，五十分呀。好多時都唔會呀，親子呀，啊，跟著不對呀，老師罰你寫跳舞五十分，好多唔記得。其實呢，滿圓計㗎，咁樣多少時。咁所以呢，就唯有返返呢啲啊，其實禮盒，同埋俾返你啊，俾幾樣玩，有分㗎，咁樣好嗎？咁我哋呢，夾返幫小朋友呢，參與返個，其實半分嘅呢個獎勵計劃喇。好，跟著不過九，咁呢，跟著就係呢，禮盒俾啲禮，就係呢，輔點，呢個都會到時俾大家嘅。我哋今年K20，我呀，我係同場呀。咁呢，其實我都參辦年度同場。咁所以呢，都係同場，咁所以呢，大家儘量做同場呢，就做後台嘅。咁我之前做，P咁所以呢，我哋好開心啦，噉樣好多實習嘅經驗。我哋做嗰啲，嗰啲做。\n",
      "噉樣實習呢，就會多數幫嗰啲講解，就係幫手呢，做呢個queue 啦，帶住個 headset 啦，同上面呢，同啲模特兒溝通啦，噉樣。噉樣嗰陣，啊，實習生幫你哋。如果唔幫你哋，噉點算呀？\n",
      "應該可以錄影。\n",
      "係呀，可以一邊做。\n",
      "可以嘅，啊，噉樣呢，可以錄呢個聲。\n",
      "啊，噉點樣壓啲呢？\n",
      "撳制囉。\n",
      "掣邊度？\n",
      "係，咁如果呢，你真係唔得呢，你可以 WhatsApp 我哋，WhatsApp實習生，或者呢，可以直接，啊，直接搵我哋。\n",
      "啊，或者直接呢，可以問多次，跟住呢，就記低佢，跟住呢，WhatsApp 俾你哋嗰啲。\n",
      "下禮拜做後台咩，都喺。不過呢，應該唔閒。今次有兩三倍人呀嘛。兩三倍人？好似真係唔閒喎。今日呢，今日唔知，今日七點半，今日嗰班法師。買嗰啲。買啲。吩咐三倍一次。吩咐三倍一次㗎。今日呢，今日星期四，今日星期四，嘩，嘩！嘩！今日星期四，今日星期四，好難寫，今日星期四，唔...今晚嗰啲。今晚嗰啲呀。係呀，吩咐三倍一次㗎。係呀，吩咐，有啲雨備。今日，今日。係呀，有啲雨備嘅，我哋準備做好啲啦。今次嘩，嗰晚真係喺邊做呢？實際嘅，實際嘅，呢啲發例，呢啲數字，唔好，做得好。不過呢，唔係好多，實際嘅，呢個位置。我哋今晚可以傾掂嘅。呢啲人呀嘛。我哋可以傾掂，應該唔難嘅。你要幫，睇下可唔可以。\n",
      "噉今年所以特別嘅嘢呢，或者嘢多啲，即係主任老師會安排㗎喇，係咪？噉都係支援吓，即係做到做為周周嘅嘢，因為同學仔嘛，係，噉所以呢，我會通知呀主任，等大家聽，要幫忙嘅時候，如果唔係其他人都會好似高班定係照顧小朋友，因為都會帶小朋友去，醫生、驗傷、睇醫生嘅，噉。好，跟著就去到K，呃，報告資料，資料吓，其他人士資料，同事，資料我做個安排嘅，大家嘅份。噉呢，你班同事嘅呢。唔係，唔係寫個名呀？唔係呀，唔係，唔使，好啦，係咪呀？唔使寫名。可以，吓吓吓，即係即係，因為我知，我知點嘅啫，所以我先至唔使寫。你班同事嗰啲就得㗎喇。係呀，我寫住K同事咪得囉。唔係，因為嗰班資料、資料機嘛。好好，我整理啲呀，好，噉第二件事，呃，同呃，下次理事，因為呢，我哋網嘅舊時喇，就淨網站。 beep\n",
      "係啦，另一個好似同佢風格都好似，佢冇對錯嘅，不過應用情況啫。噉呢，你話有啲名，所以我話我哋啦，我哋十幾年都冇辦法好似你哋呀，咁叻嘅弟子，呢個叫做寫意囉，係咪呀？\n",
      "噉呢，正正係假期啫，噉所以呢，我哋嘅，呢啲就係寫生寫，呢啲就係搵色啦，搵色嘅意思就係話你嗰啲好似Grade 嘅示範功課。\n",
      "係咪呀？\n",
      "有，兩個，兩個，邊兩個先？\n",
      "呢兩個，因為呀，邊個邊個實際，因為你知，呢啲實際grade 示範嘅。噉呢，呢個grade 我其實冇話，係幾多呀，點解呢？好多其他活動，其實我哋其實，係，係，係嗰啲，十二月或者係一月先知啫，噉所以呢，有啲已經明知會撞嘅。\n",
      "咁而家少少比你哋先啊，係呀，咁我哋同之前都試過㗎喇，係咪呀？咁而家最尾我哋都祈望啊，我哋都希望話二十三個Grace嘅大家呀，即藥師啊，我哋都希望裡面放多啲。係呀，咁所以喺前面先分享大家啊，分享大家就其實呢就穩陣啲先。係呀，第一個呢，就就就之前嘅，之前嘅，係呀，會議，咁因為呢，會議啊，其實呢已經安排咗喇，就呢，你哋假期係要喺做啲功室，先至可以教小朋友，同埋呢要預備啲教材佢哋。係呀，我而家無帶check嘅，咁我預計先，即係喺九月嘅時候，可能我哋帶check究竟點整嘅。同埋呢而家呢，我哋建議啊，除非K1K3，K1K3係同一時間，同一主題啊。K2唔係喎。K2係持續嘅禮拜嘅主題嘅。咁所以呢，我覺得就唔理想。係呀，其實差唔多本會本應該\n",
      "K2 喺下個禮拜呢，唔緊要，填咗表去啦。咁下禮拜呢，我哋會同一時間一齊開始，一齊完嘅。咁呢，個好處係咩呢？有啲指定嘅活動呀，或者係開始先先嘅情況，新嘅個主題時，新嘅嗰部分嘅時候呢，我哋會容易啲處理，家長會容易啲理解咁樣喎。你哋都唔使記住喎，如果我個小朋友K1定係K2呢，咁我就好似啱啱數學先完，美術打後數學咁。我哋一齊開始，一齊完，其實可以嘅。因為其實差唔多嘅內容，我諗。 係嗰樣，係嗰部分內容同，但個編排嘅過程應該唔會差好遠，呢個係。所以，我哋下下禮拜先至一齊同一番啦，咁樣。咁呢，呢個表第三樣嘢，呢度其他嘢呢，例如係教師評分啦，有啲係例如啦，我哋會出卷呀。如果顯示你嘅，我哋會話俾你聽。如果唔顯示你嘅，你就知道啦。因為有啲人會驚咗份份嘅。我哋知道嘅就打晒落去啦。唔知道嘅，真係唔知，冇辦法啦。我哋知道嘅已經擺晒去嗰家長部分裡面啦。其他活動係咩呢？純家長嘅活動，即係份係家長會參與嘅活動，我哋都擺晒落去啦。你可以發揮所長嘅呀，或者係同你做嘅嘢，或者你家長好想去做嘅。咁呢個唔顯示小朋友嘅，唔係主要，只係提供畀家長咁樣。咁如果真係要寫，先寫你自己手寫個表裡面啦。咁真實唔特別，呢啲，第一、二、三、第四個column呢，係關於小朋友事嘅。\n",
      "同有其他家長，即親子一齊嘅，或者好特別嘅情況，我哋都會加入去嘅，例如開幕禮啦，家訪啦，或者開學禮啦，或者新生活動，親子新生活動啦，或者其他活動啦，我哋都會加晒入呢個親子特別活動入面嘅，顯示返一啲日期要留意嘅。唔使講啦，你自己知㗎喇。好，跟住呢，就呢個活動啦，活動裡面，K1、K2、K3，你見到個日期其實有條線，開始日期係幾時，完咗幾時㗎啦。咁所以你見到K1嘅日期呢，係六號，因為七號，因為七號係假期嘛，所以你會喺六號啦，而K3都係完喺六號。不過點解初初，可能因為假期，都唔知幾時返學呢，係咪呀？\n",
      "所以呢，喺呢呢如果係嘅話，你就聽清楚少少啫，保持返時嘅你明白呢個係咩，不過大約啫。\n",
      "重點係呀，其實其實三個字都唔係問題，我叫字用手寫手寫嘅呢，即係講無呢個表，個表即係數呀，呢個呢，其實呢，嗰陣時嗰個字同個部，你就寫個字。\n",
      "咁但係重點呢，呢一個活動呢，其實我哋其次擺呢，每次活動呢，你發唔發覺佢好奇怪㗎？\n",
      "例如餐巾紙先啦，例如好似佢哋寫字呀，呢個公函呀，或者呢寫信呀。\n",
      "係呀，你哋都會㗎，Q&A，Q&A嗰啲呀，點解呀？你寫信呀，餐巾呀、嗰啲先啦，或者係指示先啦，或者係填寫呀，嗰啲人講嘅字，填寫下呢個日期啦，係。\n",
      "所以呢，其實呢嗰啲嘢，你揀嗰啲活動，其實嗰個label都唔需要嘅，其實嗰個主題，唔係因為嗰個主題而有啲活動，你要去延伸嘛，我期望出呢啲囉，而呢啲活動特別啲嘛，因為點解呀，佢持續呀，出Facebook嘛。噉呢如果出咗，如果唔係，佢可能活動唔得㗎喎。其實呢個標籤呢，即係話出Facebook呀。噉所以冇呢個標籤呢，例如你去食食食嘢，去買嘢，我而家寫出嚟，點會出Facebook呢，係咪呀？如果我去計數呢，我點會唔出Facebook啫？噉呢啲其實呢啲可以有呀。你揀點買餸啫嘛。係呀，寫個活動，寫嗰啲，係，全部都係噉。寫嗰四個字啫，唔使得嗰啲呀。係呀。嗰拍嘢有啲唔會㗎。老師，係咪有啲唔會有㗎？係咪？有啲唔會，我唔知點解。\n",
      "我期望呢，呢，呢物質純到呢，就出嘥...其實非你喺學校做筆試囉，即係等嗰個筆試ok就得，噉咪即要打email啦，係咪？呢啲小嘢啦，係咪？\n",
      "\n",
      "係，老師，而家呢，呢個discussion跟返之前...因為佢一攤呢，有啲單元會寫好多嘢...所以就冇辦法計呢個最平均。\n",
      "噉即係K1，K3唔平均？\n",
      "唔係，即係佢可能...都系嗰啲計數數...因為有啲人會多咗啲...即係你講嗰啲多咗呀...\n",
      "咪有囉，呢個冇理佢哋喇，咪去咗喇，因為你哋自己都去晒喇嘛，你哋自己都去晒喇嘛，所以唔攪喇喎，係喇，唔緊要，我唔介意，今日...\n",
      "吓年我會重新規劃過啦。係啦，點解呢？唔會差唔到嘅，係啦，一定差到嘅，咁就好似你話齋，好似Alice咁啱啱，我哋寫個主題，一定差唔多嘛，即係大約可能大家都一樣嘅啦。大約啦，係咪？一個都係三十，一個都係十唔會囉，從來數字都唔會咁。係啦，一定差到，我寫十幾年，點會差唔到？不過今年真係特別，總之你以前寫成點樣嗰，係啦，不過我發現到原來有唔同嘅寫員嘅啫，係呀，我相信你哋當時都係咁寫囉，不過我哋想你重新嗰啲，係啦，呢個你都要返Alice原先一定嘅，大約每一個主題差唔多，係呀，呢個特別多，呢個特別少之類，你放心，係啦，咁呢，呢啲呢，唔使你理啦，咁總之呢，我都希望呀你每一個活動呢，最少有兩個，係呀，數字嘅活動，環住個主題，特色嘅活動。因為例如呀，最初嘅一天，即係拜四，最初一天K2嘛，咁 唔係就係囉，你應該處理啲囉。\n",
      "你明我講咩呀？其實都喺嘅，幾時呀？今日唔出呀？你一定每日每日咁㗎喎，咁樣㗎喎，所以有時唔會咁唔係咩？出街食嘢連寫呀，通常囉，要即刻㗎啫，嗰啲嗰啲，你係咪大師呀？唔係嘛？你明我講咩，其實個比例數嚟㗎啫，等你睇呢啲嗰啲特別嘅論調出唔出咩？跟著先呀，係呢啲睇得多㗎啦，其實呀，跟著去數呢啲準備嘅其實都唔係囉，咁即係呢個嗰啲都唔係，而家就見唔到，所以唔使做，跟著呢啲數字呀，數字有冇令聽，知道講咩，就冇改過，其他冇改過呀，之前改過啫嘛，自己嘢口，其他全部冇改過，全部都喺，所以寫咗啲字，就咁樣分畀佢哋寫㗎啦，知道我哋咩，其實老師呀講，原來可以自己寫啲，佢哋嗰個主題就會出街㗎啦。\n",
      "噉係咪要知？係咪要出通告啊？我哋係咪要知啊？幾時去嗰陣？噉囉。好嗎？噉吓理念呢？老師點樣…老師點樣令人哋記得呢？因為…因為…因為…幫你哋兩個禮拜攞最尾嗰 Deadline，噉如果你再要參嘅時候都唔…一時三刻你哋去，噉你而家收到呢個網上嘅其實可以令定吓你上學所有主題嘅活動嘅，因為…嗰個表…我會將呢個表打個 Share，我都會 Share，我俾大家，嗰陣時呢，我俾大家，都係收定，呢都係吓理念機會，即無論你吓分鐘做得都多都好啦，你吓理念有咩你會完成咩事情嘅學習，同埋 plan 你吓年上學嘅嘢嘛。八成都係嘅，即我唔相信到我記住嘅，即就算我哋有自己人生嘅規劃，可能你唔一定行到啦。噉但我哋都會做，我哋吓年做啲咩嘅情況底下，我都會…\n",
      "做好我哋下年接幾嘢，跟手嘅人都唔會咁迷茫，咁唔認識嘛，係咪？所以呢，呢個老師應該都感受倒，你哋到時你哋唔使驚話跟唔上幾嘢，因為前人已經做晒㗎喇，即前一年嘅人，就係而家你哋學到好，佢已經預備好晒所有幾嘢，所以你哋嘅時候已經接收咗嘛，你明白嗎？即係話，因為你哋跟住時，因為你哋跟住時㗎，咁所以我覺得呢一個好好嘅文化，我相信唔會差㗎，係呀，我都感覺都係咁嘅。呢啲老師都好好，我相信，係會預備晒自己嘅手尾啦，整好晒啦，咁等新嘅一年嘅老師接收呢，都好教我哋小朋友㗎，係呀。咁所以呢，如果主要我，我會將呢份表交俾你哋嘅，然後呢，因為呢一份表嘅好處係乜嘢？清楚。我覺得係好快你哋知道有啲乜嘢活動要出現嘅，然後有啲乜嘢正式嘅活動你一定要出通告嘅，等到家長，或者我哋行政嘅人員可以好快幫處行政文件。跟著你哋自己寫教案嘅時候，都知道會有啲 alert 嘅嘢，原來呢，計劃書一定要夾定嘅。\n",
      "咁你係咪知，咁當你寫教案嘅時候呢，你就例如啊，例如依家高班啊，嗰個幾月十九號要做主任咁，都會同你去嗰練習喎。咁你咪寫教案嗰陣咪咁寫呀。你明知其實大部分時間唔係喎。你咪寫教案啦，你不如將其他嘅活動啊擺做啦咁。咁所以寫咪有啲超嗰啲寫教案嗰啲真實囉。咁其實教寫咩？其實話每個每個活動都唔同嘅，係呀。其實一個真實係實際寫晒成個詳細嘅。咁所以就出到，係呀，所以先單呢就已經寫晒後期啦。係呀，真係。係呀啦，因為每一個都唔同嘅，所以好難好少，係well-planned嘅，係呀，唔會咁出現嘅。不過唔建議，每間學校都有唔同嘅情況，至於，我而家基本，呢啲係，你嘅教小朋友之前準備好就得㗎啦。係啦，係啦，噉你慢慢先試吓數定啦。我覺得冇話對錯嘅，只不過我哋想做啲預備啫，係呀，咁嘅啫。係啦，噉所以而家呢，我哋撳錢嗰啲理念上嘅嗰啲呢，就根據返嗰啲嘢做。噉所以呢，你如果大概知道呢啲技巧嘅，你同我哋商討吓，傾吓細節，整理呢啲，噉你可以用鉛筆寫㗎啦。或者係唔使大寫啦，因為唔知會點。噉呢啲時間，好唔好啊？噉所以你哋睇住就慢慢試吓你哋今年嘅工作先。吓諗吓先，係啦，噉所以呢，K1、K2、K3呢，就主要係自己吓，自己班嘅啫，唔牽涉我哋嘅。但呢，全校嘅係咪？牽涉全部小朋友㗎啦。噉就例如係咪？其實呢，新年假期嗰啲唔使出嘅都睇㗎嘞，唔緊要啦，因為係，因為呢版本已經出咗嘞。係啦，噉呢，就我哋下個月，好似嗰啲，我哋會有新春填色啦，我哋有生日會啦，我哋嗰啲，遲啲有啲親子活動嗰啲畫啦，我哋都出通告畀家長可以做啦。噉呢其實我哋逢每一個月嘅第一個禮拜五，我哋就會生日會嗰啲家長。噉呢，有啲全校性活動例如，開學水果日嗰啲呢，就你哋返，自己校本，睇四至六個禮拜，通常四至六個禮拜做嘅啫。\n",
      "跟著呢，就呀，主任都安排咗啲自己校內嘅啲普通話比賽呀，有一啲嘅布置嘅活動嗱噉樣，噉有啲可能拍戲呀，巡迴去做啲訪問嘅講座，大家要自己報種噉樣。噉呢，當有新家都唔排除㗎，點解呢？因為等家可能總會有啲想唔參與嘅。可能嗰日呢，嗰日嗰日嘅人嘅呀，即係攞咗一個天啫，星期四定星期六呢？\n",
      "我唔記得咗，查返，嗰個叫做全民國家安全教育日呀。係呀，係咪呀？係咪呀？四月十六，全民國家教育日呀。噉呢可能呢，唔唔星期四囉。係啦，噉我哋就，有啲要跟返總部就加返，係，等到時下年再做得好啲。噉呢，呢個表唔唔會嘅，因為你總部嘅啲idea，有啲活動會撞期噉樣呀。係啦，同埋有啲捉佢唔唔活動嘅，例如咩呢？例如高班，例如低班，例如一年班，一年班四月十三，有啲學校例如，因為大家都要安排嘅，喺嗰日喎，佢哋嗰班呀，係呀，星期三，噉就半下噉啫。即係佢哋淨係用個班子，跟著分唔分嘅星期上午時間，係，所以話嘅，我嗰日嘅噉，好，噉呢我哋就唔同嘅活動啦，老師你留意啦，你就睇住呢兩個表，方便呢，你計劃你自己嘅教案呢，同埋帶領小朋友做唔同嘅嘢噉樣呀。噉呢，如果嗰次啦，呢個日子如果冇特別冇特別通知你，你就跟住你往時，你就自己做啦，OK？但是如果呢，真係因為聯校嘅活動啦，或者啲冇辦法一定要遷就你參與嘅話呢，我哋先至再調，希望唔調。\n",
      "吓，如果要調會預早通知你嘅，好冇？\n",
      "好，咁有兩個活動睇下睇下，首先係三月二十二號財社有班社，三月二十二號本身應該係一個英語活動比賽嚟嘅，但係適值就係三月二十一是個學校開幕禮嘅，咁所以我就想睇下佢三月二十二會唔會改為一個開幕禮後嘅 open day，咁所以其實基本上就唔預佢喇。咁當中所以小朋友小幫手佢哋都會問買幫手嘅，就會留喺度再搞多場 open day 畀學生嘅，咁暫時嗰方面都未出聲。\n",
      "比學生嘅。\n",
      "應該自己搞返先。\n",
      "自己搞返先都可以出賣嘅。\n",
      "最主要係自己搞返先。因為呢，我哋自己搞返先，我哋唔會，啊，低級班可能 K1 唔會參與喇。因為可能 K2 K3 多啲嘛。咁佢哋都可能想了解下我哋嗰設施，邊度有啲遊戲啊，玩啦，咁樣。但係順便都畀學生一齊參與囉，希望。咁，同埋呢，我哋因為呢，家長問可唔可以嚟睇小朋友嘅。咁呢，我哋話嘅如果可能有機會喺呢一個呢，陸運會啊，因為五號會就留畀小朋友做發展嘛，就等候嘛。咁我哋好大機會留校舍就會做一個巡迴。因為呢，其實我哋之前試下，因為呢，而家嘛，而家家長呢，呢邊個 camp 嚟，好嘈。\n",
      "삐삐삐\n",
      "其實嗰邊係睇到嘅，但唔知道我哋落個screen得唔得，你睇吓，上次呀，佢哋整咗個screen遮住個摩打嘛，跟著呢，其實所有嗰啲都話連到線，起到全部直接㗎，但呢因為呢，當日呢我哋唔會開嗰個screen㗎，因為我哋有backdrop嘛，所以唔會開，如果嗰邊，如果主嗰個地方唔開screen，其實即係我哋要夾佢喎，因為佢哋全部電子板板，唔係technical，即係要連佢哋邊個system，佢自己嘅system噉樣。當時連到㗎，其實當時你哋較開啲新電視機嘅嘛，因為當時有三個嗰啲電視機嘛，一個係六線，一個係三線，一個係嗰啲機嚟㗎，當時試咗㗎，應該係得嘅，我都試過。你哋唔咦咦吓？個screen喺嗰度播嘅時候，你哋上面啲機仍然有畫面喎，即係試位嘅。\n",
      "我哋睇下出邊撳掣，全校都冇人撳過喎。我撳咗一次出邊撳掣，護士話冇撳過，所以我先想搵啲technician嚟連線嗰...所以姿勢...  我睇係撳咗三...我睇撳咗三四七到三五六㗎... 所以要試下...所以要攞你啲...撳啱位置... 我自己有教過邊個撳... 唔係唔撳要...  唔係唔係... 你哋唔係...叫technician幫你呀，因為要連線呀嘛... 好好好... 叫technician教下我哋呀... 嗯... 咁所以老師都一齊研究下好嘛... 嗯... 因為呢其實點解要撳撳...點解每一個護士都有呀，因為架機... 你哋家下冇做掣，你哋冇做所謂... 冇全校所謂... 即使係講播佢哋冇話呀嘛... 係咪？咁起码有話嘅，有小朋友大量做嗰個畫面，即係你抽類似...剩係姿勢咁樣未見過呀... 即係其他話好似咩姿勢嘅情況...咁所以呢，我哋都係好似之前咁樣，撳撳個數字嘅時候，嗰啲字幫我哋啦...咁我哋喺畫面見到...\n",
      "佢哋而家先至有新嘢喎。\n",
      "咁呢，而家，噉嘅話，佢哋其實再幫我哋，係啦，噉即係過咗嗰 process 嘅啫。但呢，你哋依家新嗰啲實際係新嘅設計嚟㗎嘛，唔係嗰啲設計，嗰啲 post 啦，博客啦，就真係好難，唔知邊個位喎。我哋見過一個畫面。\n",
      "因為佢哋有三個，有三個，有一個鏡頭有三個位置。係呀，噉有唔同嘅速度嘅啫。係啦。噉所以\n",
      "佢幫我哋 set 咗三個位置啫，總之，等於住，好似嗰個 backdrop 嘅嘢呀。噉所以呢，點都叫佢嚟啦。點都叫佢，因為其他先至加咗，唔知先至係嗰 post 嚟，噉一次過問埋啦，係呀，噉亦都，呃，嗰啲就，就因為點解呢？如果我哋有呢個 function 呢，就加咗佢睇囉，因為好多時加咗未必做到，呃，我哋了解吓。\n",
      "삐-\n",
      "因為我哋我哋份嗰guest list其實唔知有冇老師唔喺身乎啦，或者打咗個個guest list上次報啦，噉呢，喺好多個嗰同事嘛，係咪呀？噉我見兩三個同事喎，噉啊，都希望佢哋支持吓呢嘛，噉我哋啲嗰同事嘅仔女呀，例如呀希望啲guest list嘛，噉但自己家長呢就會出喺嗰嗰list度囉，噉所以如果佢做做做做做做唔知做咗啲乜嘢睇唔到嘅，係因為我哋嗰list應該抄唔到咁多人嘅，係啦，因為board member啦，同埋啲家藩呢都有機會已經抄到係去到去到你個嗰處嘅，鏡頭呢有機會，噉呢你嗰處去到李老師嗰處做reception嘅就都唔好多㗎啦，係呀，噉都會試啦，噉但而家希望呢，係我哋呢，啊，至少家藩呢都可以喺呢面場，噉但其他全部嘅希望你清楚啲，睇得清楚囉，噉家長做嗰份心嘅我估，因為見小朋友有表演機會，我估呢，邀請啲呢家長呢，就有機會表演嗰啲囉。\n",
      "即係話啦，咁有一個家長，唯有喺街街嗰圍嘈咁樣呀嘛。咁呀，而家呢做煮飯嗰陣時啲份量呀火喉呀乜嘢之類嗰啲冇咁多經驗啦，咁所以擺好多步驟教你點樣煮。但係呢，我哋舒適布置嘅呢，更加，根本舒適布置其實都係基於份數嘅。份數擺咗一份，一份碟餸一份調味料嗰啲，我哋嗰長線嘅長方形，擺舒適呀嘛。所以呢，大家都識咁做。你有冇派住呀？因為我要布置呀，好明顯呀，係咪呀？咁所以呢，呀，啱啱可以寫呀。因為我哋廚房呀，我哋嘅筆記呀，係呀係呀係呀，咁點解份量要插落做飯？因為佢哋有份數呀嘛，呢啲嘢佢哋要提示人士呀嘛，你都擺唔到舒適布置太多，擺其他嘅嘢，係啦，因為以巴士圍呢，巴士係茶點室呀嘛。係呀，咁可能淨係可能擺好多製作嘅餸都會，就同埋阿公會惹上㗎。所以呢，阿基師同埋借呢個嘅，我哋喺初步設計點樣可以偏啲商業化啲呀，因為喺香港佢哋每數貴。咁啲係囉，係咪呀？係囉。同埋呢，大陸嗰啲，即係而家呢，嗰啲大陸，咁大嘅商場嘅，其實直頭係一個百貨公司呀，跟著又要唔知幾多層樓咁高啫。係咪呀？其實就可能你哋即有頭嘅商場呢，即係偏出嚟嘅嗰，但係要畀商場啲food court咁囉。係呀，咁所以就偏偏呢啲就快啲啲搵商機咁樣呀，即係呢個image呢，即係此終呢，始終呢，始終分嚟㗎。你嗰唔高呀，好多時呢，嗰啲waiting room呢，好多星呢，嘩，其實唔係咁，即係而家呢，而家嘅學嘅嘢多呀，擺靚啲得喇，但係即\n",
      "beep\n",
      "好啦，其實呢，其實我哋嘅前輩呀，珍惜今朝呢個機會，自己嘅嘢呀，<noise> 好正常㗎，係呀嘛，係喇，爸爸喇嘛，表演者嘛，我哋，我哋爸爸囉，咁你覺得呢，其實我哋嘅，其實我哋主要成個樂隊成個團隊，<noise> 係喇，其實我哋，我哋爸爸佢哋打工呀，打工呀，佢哋打工，係喇，都會珍惜，係喇，其實呢，其實我哋呀，都需要呢，籍嗰陣時我哋嘅，啊，其實主席嘅，因為其實真係好希望大家都開心囉，留下美好嘅回憶喇，咁當然，除咗表演之外，我哋都將，將我哋樂隊入面，將參與嘅，一切活動，發散多啲出去囉，同埋呢，唔止上次嘅嗰啲，我哋今次都有新嘢嘛，好似話拍咗啲影片呀。\n",
      "<noise> \n",
      "삐——\n",
      "即係點表達呢，即係成套製作嗰樣嘢。因為呢個guest room呢，而家啲時機呀，係咪做嗰啲簡易啲嘅 equipment，即係好似啲片，主要兩條，一條可能小朋友嘅開心笑，可能啲植物嗰啲花朵，另一條就係嗰啲小朋友嘅開心嘅互動嘅即興表演啊，呢啲表演而家啲點呀？\n",
      "\n",
      "啱啱嘅，睇第二條片，當時個表演入時呢，都等價百拾呀。呢排啲兩歲幾，啲家長可能想試吓啲能力嘛，而家幾年前嘅啲片嘛，啱啱至少兩條，可以製作成下，嗰啲MV啦呢啲。\n",
      "一條就可能係小朋友學術，表演啊，或者係例子啦，咁等到，到時我哋個guest房就會擺。\n",
      "好，咁你就跟著就去到可能係事例啦。咁大家都對…\n",
      "第二個就係復活節，復活節，服務之家年畫展，本來係四月十二號嘅，變咗四月十四，因為同時呢四月十二號有個同事呀，即係家長中咗肺炎，喺屋企自我隔離咗，所以就轉咗。\n",
      "不過其實呢，即係今次轉咗呢，其實我哋有諗過一啲措施嘅。\n",
      "有諗過，我哋今…一路有老師支援，我哋預備…預備咗消毒用品，所有老師都要負責幫呢啲細路仔預備洗手嘅設施。\n",
      "老師同埋學生。\n",
      "因為我哋係下午活動嘅時候係…\n",
      "因為天花板嘅…\n",
      "咁喺下面玩。\n",
      "去…夾住參觀，因為擺野參觀就得嗰幾分鐘。\n",
      "星期二應該先先科自己屋企媽媽，應該夾咗星期二㗎。\n",
      "其實新新都嚟，應該都嚟。\n",
      "一次過玩晒。本身都安排咗星期二，但因為呢，撞咗人哋學校，同香港節嗰啲比賽，咁所以呢，有站已經去咗嗰啲運動，咁就夾到自己下禮拜六，同埋我都減少喺禮拜六做運動啦，因為好多家長都話禮拜六去玩嘅。\n",
      "我都聽啲家長講話，禮拜六好幾嗰啲比賽嘅規矩。\n",
      "係呀，咁所以呢，同埋呢，最好時間好！\n",
      "最好時間嘛。\n",
      "最好時間好，搞禮拜六，又玩又做。\n",
      "係，最好時間囉，又可以帶住佢哋，一齊去玩呀。\n",
      "咁呀，學校嗰邊，玩㗎嘛。\n",
      "應該都會自己參觀下嗰邊嘢嘅。\n",
      "係，吩咐人。甚至親子吩咐人都喺。啟蒙，啟蒙，啟蒙都喺吩咐人。就正式宣布。但實際唔係囉，實際係你個話佢哋。噉呢就可能同一時間都有話佢哋就可能做其他嘢啦。 係，耶穌誕生。 唔係，唔係呀？錯咗啦，係死後復活三天。係啦。佢為咗我哋每一個，所以喺呢個聖天子嘅時候，就被釘喺十字架上面，攬住世世人嘅罪，就犧牲咗啦。但因為佢係神嘅兒子，所以三天後復活啦，所以佢唔係一個人，佢一個神。 噉呢個係父子嘅真體，所以父子係比起聖靈子更重要嘅，因為我哋嘅教義係來自父子嘅。如果佢冇三天後死後復活呢，我哋成個神字係多餘嘅啦。\n",
      "係咪幾爽呀？<noise>嘩，我覺得真係嘅。所以呢，我哋依依家基督教嘅，即係裡面啊，福祉比聖公會大嘅。因為我哋係唔得夠，因為聖公會佢哋主啊，先發現我哋呢，可以被教㗎，就係可以借教堂，喺我哋嗰度，喺我哋嘅樹仁裡面咁樣。咁所以可大嘅字係咁樣，咁除非你做嗰啲做嗰啲畫家囉。<noise>哎，我覺得呢個字好好笑啊。<noise>好搞笑啫。即係可以做一個，佢哋嗰啲抓馬嗰啲嗰啲导师啊，我唔介意嘅，因為好大壓力㗎可能。即係即係拍吓咁啊，或者搞笑啲嘅拍啊。例如例如我哋啲新手，就例如我哋唔知嗰步伐點，即係可以係同時間係呢個抓馬呢，係係啲人呢，其實聖公會同嗰步伐係點㗎嘛，又或者再深吓，唔會聖公會儀式嗰啲啲技巧呢，因為我哋少人啊，因為我哋係細字一，細字一通常會咁分三個層次咁樣去做呢，因為佢哋好多人嘅時，密密麻麻八十幾一百人呢，佢哋好逼。\n",
      "其實好細嘅嘛，你都去過啦。上次嗰啲都OK，個別節目多啲啫。但所以的確係分囉，但如果人數少少，唔駛嘅，三個時間咁樣。可能兩個時間，點解呢，做兩場Drama都好嘅，即係夾啫。睇完個Drama，跟住就落戶外玩咁，咁我哋人數唔係好多。又或者唔駛其實同時間都得嘅其實。你嘅諗法，即係plan嗰個。同埋考慮下會唔會可以豐富啲呀，或者呢會唔會有梳乎啲呀，玩天匯之類，或者整夜市街咁，都得㗎，唔得㗎？ 多過唔得啫，咁樣。即係可能即係呢夾啱個時間嘅，度好晒，去晒邊個位之後再搞呢個，即係之後做時間嘛，噉唯有而家傾咗先，跟住先至慢慢再諗，希望可以留低多啲記憶囉咁。\n",
      "好，跟著就，好啦，跟著就啲學生有冇啲其他嘅情況？\n",
      "好，咁而家交俾你啦，慢慢慢慢收啲啦我哋。咁跟著就下一個就係嗰個講座，講座嗰欄啊，嗰啲講座啊，啲嗰啲版嘅呢，唔知。\n",
      "兩間嘅，加拿大哥版同埋智新班邊啊，等佢哋去寫四十啦，因為有東華兩個嘅，同埋浸大兩個，已經少咗啦，以往係四個已經Cut咗，所以話你哋要留意係，個個院校只係得兩個可選啫，咁最主要係東華可選呢，K1嘅，一月十九號就會嚟，開始體驗嘅，咁都係三月份先至申請四十嘅。咁與此同時呢，浸大四年級K2嘅，佢哋都係三月二十四號就截止來到申請四十嘅。不過呢個四年級可選呢，佢哋本身有個範疇要兼顧，就藝術表達嘅，咁嗰個範疇兩個同學仔都係藝術表達嘅，咁就應該會三月份會過到嚟申請四十。\n",
      "咁淨係呢兩間院校嘅可嘅，咁尚餘嘅加拿大哥版少咗啦已經，唔知剩。\n",
      "所以所以就唔會，呢個會噉樣。\n",
      "吓，十博坊嘅安排就係噉㗎喇。好，噉就，所以每一刻都有個幫吓記時間。噉就好，實際啲，實際大家啦。\n",
      "冇錯。\n",
      "一句說話都提大家嘅，你都讀過書係咪？\n",
      "噉係唔係即刻，即刻提，都唔係要一次過提啦。啫係，你都讀過書，你都期望十博坊你到嘅時候做到嘅，係咪？你都先代佢，因為你都做十博老師，係咪呀？同埋邊件事呢，都真嘅，你啲好奇怪嘅事情，佢哋講法出來。\n",
      "你冇錯，好奇怪，係咪呀？\n",
      "保持專一。你要，你要精神啲保持專一。\n",
      "啲唔應該出嘅說話唔好出呀。\n",
      "平時冇人望住你，可以輕鬆少少。但其實都唔應該㗎，試過聽到咩小朋友，「阿媽，老師話呢，捽住…」，「阿媽，老師話捽…」其實呢老師捽住，但唔聽老師說話。\n",
      "老師我自己話我捽噉樣呀，媽咪話你捽噉樣喎。\n",
      "我喺佢哋度老師話咩咩咩，我唔知呀其實老師呀要捽住㗎。\n",
      "但係佢哋唔睇老師囉。\n",
      "見到老師喺度，咁樣，跟著佢就叫你走咗去囉。\n",
      "因為，都係，專一少少哋呀，家長，喺小朋友面前，姿勢，姿態呀，聽啲唔聽啲呀。\n",
      "其實個老師，老師時時就叫佢哋，要收拾吓呀，因為佢哋將來要教啲分子呀嘛吓，其實真係，佢睇見你喇。\n",
      "所以呢，希望跟那個能夠教到佢哋老師囉。\n",
      "噉希望你哋大家都教到佢哋啦。\n",
      "係呀，噉跟著又可以分享下，啲呀，手手工嘅嘢囉。\n",
      "摺啲嘢呀，咭紙呀，啲呢啲呀，噉你教佢囉，唔理咩，總之做到嘢，噉OK。\n",
      "如果你夾唔掂啲咩，就冇呢啲嘢囉。\n",
      "至於其他，噉點？\n",
      "太吓啲，就唔洗邊做啦，就可能去咸水煮就，或者整木顏色紙。\n",
      "吓，咸水煮嘅果啲，嗰啲老師可能有留意囉，之前，之前嗰啲囉。\n",
      "對，啱呀，我哋有嗰啲。\n",
      "我哋有，之前，之前嗰啲玩意。\n",
      "可以，老師做。\n",
      "就，等你哋話。\n",
      "老師做呀，呢啲。\n",
      "冇，太多嘅家長囉，老師做，老師做。\n",
      "啱呢啲先，我自己把握。\n",
      "我哋，家長亦都唔係總部囉，呢啲嘢。\n",
      "好，好好好好，留意留意。\n",
      "總之，唔多唔少。\n",
      "老師老師。\n",
      "講吓，不如分享下呀。\n",
      "好呀。\n",
      "睇吓份量。\n",
      "係咪呀？\n",
      "嘢，亦都冇，\n",
      "因為老師，其實呀，呢啲事實老師未必多，可能，嗰設計度度老師。\n",
      "삐——係囉。\n",
      "噉呢啲粉絲團體啊？\n",
      "係囉。\n",
      "但係呢，嗰啲正義俠女嘅，\n",
      "呀呀呀，我哋陣時啊，啱啱畢業嗰陣時，\n",
      "唔係呀，真係，真係，我覺得，我覺，\n",
      "好好好好好，大笑三聲，大笑三聲。\n",
      "吓吓嚇，先前嗱，嗰啲啲嘢，\n",
      "其實，\n",
      "啲乜好講嘅啫而家。\n",
      "噉你就係，\n",
      "實際我哋可以做啲啲嘢，\n",
      "例如，\n",
      "討論吓囉，幫吓囉，吓吓吓，睇吓點樣囉，\n",
      "睇吓點樣囉。\n",
      "都睇過返咁嘛，嗰啲訪問，噉樣嘅啫，嗰啲。\n",
      "啱嘛？\n",
      "哦！早晨！\n",
      "哦！早晨啊！\n",
      "我保持距離呀。\n",
      "係咪真係咁嘅啫？\n",
      "冚真係㗎？\n",
      "好好好好好，真係㗎，嗰啲訪問，\n",
      "多謝。\n",
      "我都有睇。\n",
      "好啦，保持安全距離都係啦，\n",
      "加埋戴口罩，同埋，好嘅文化啦，同埋好嘅習慣啦噉樣。\n",
      "好，跟住呢就，\n",
      "呀，講返之前，咦，其實呢，我想之前share啲先。\n",
      "講返之前。\n",
      "咦，之前。\n",
      "呢個唔係上個星期，唔係，今個星期我哋約咗朋友返，\n",
      "其實，同埋，暗暗實有啲老師嘅，我哋開評好好，呢個開評好好㗎。\n",
      "事實上呢，唔係好多嘅，每人叫三個嘅啫，\n",
      "其實就就，這邊都唔洗返嘛。\n",
      "삐——\n",
      "同你聯絡一下呀，係呀，王老師李老師去咗睇K.G.班，K.G.班都好好㗎，佢哋譚校長都……嗰啲呀，嗰啲呀，你哋之前，我都係做老師嗰啲，咁哋點樣游水，咁啱啱呢，你哋先好試，睇吓你哋鍾唔鍾意游水先。冇啦，好，咁王老師同李老師，你哋分開先，因為佢哋譚校長嗰啲。唔係上午咋，上午咋。K.G.呢，李總共呀，李總共呀。三個月咋嘛，啱啱好！你哋？嗰啲美術嗰啲呀，啱啱好啫，總共㗎，三個。咁呢？兩個總共㗎，三個嗰啲。做實驗就好認真，寫埋啲實驗圖啦。係呀，咁我覺得，即刻個圖，好好，寫得好認真。係啦，嗰呢個係其中一個都好認真。呢個亦之係呀。係呀。第二個呢，就，佢哋呢，嗰啲，特別K.G.呀，好深入嗰個植物，植物嘅講座啦。嗰個呀，嗰個，佢哋能夠，真係，老師，即相對於之前好多實驗，都係，一直都跟住啲講座，所以啲小朋友呢，好快嘅，可以講到出嗰啲講座，同埋係做嘅時候都，即係佢哋，佢哋有張工作紙嘅，咁呢，就，每一part就，跟住嚟做啦咁樣，咁就，係啦，佢哋就寫啲佢哋嘅觀察呀，同埋，即係真係做嘅時候嗰個結果呀。即，最，最，最後呢，就係，係，<noise>係啦，講K1啦，因為K1做個實驗嘅，關於啲彩虹嘅，介紹彩虹顏色，傾下點樣設置個實驗，佢哋好好嘅啫，啊會，因為用顏色去做實驗啦，咁佢哋就會睇啲小朋友啫，啊因為啲全部嗰啲，嗰啲，咁所以呢，就話好好，家買呢個顏色，就，又，啊嗰陣時，都可以喺實驗嘅時候，都可以留意㗎，就係可以同啲小朋友講下，其他方向，其實佢哋都係靠返個主題去做，咁都係跟返我哋嗰本，啊，呢個老師呢，佢哋，個個嘅題目，佢就靠返小朋友做個互動啦，如果彩虹橋呢，就係，本身個故事係去超市買嘢，買完晒返嚟啦，跟住，買得太多嘢，啲嘢食唔晒，所以過期，咁其實都係靠，靠返個主題啦，跟住慢慢哋磋商，傾下點樣，跟住呢個呢，就係，佢哋，都會有，全部都有本數啦，咁其實佢哋都係嗰本數做嘢，揀返，自己主題嘅活動，一路咁，啊，呢個係我哋啱啱都講過，我哋上面都有寫㗎，我都有寫㗎，我都有寫㗎，啊，我，我上面，我上面寫低咗，等陣間，啊，如果，啊有，大家可以跟住我哋做，即係跟返佢哋篇，即係用，邊度有超市，...之後佢會變咩姿勢，咁其實佢冇講你咩工藝啊，裡面嘅工具都冇，你要老師要自己試㗎。\n",
      "係喇，即係可以自己例如你要試吹風機，用嗰爐，用啲乜嘢器材去做試，所以其實佢畀個大綱你，其實你要自己再去做探索。\n",
      "係喇，跟著之後呢，佢老師話佢哋花咗好多時間去做嗰實驗，因為原來有好多佢哋覺得得嘅嘢係唔得。\n",
      "老師之前做咗成年都唔得。\n",
      "係囉，原來佢哋話原來真係唔 work，所以老師要做咗成年先突破到。\n",
      "老師，老師，點解會咁嘅？\n",
      "哦，原來有啲工具好似要包錫佢。\n",
      "嘩，原來...\n",
      "...你哋買唔買？\n",
      "唔知喎。\n",
      "...唔記得喎。\n",
      "佢哋純粹罰你喎。\n",
      "教育展聽晚完㗎。\n",
      "人哋都話...六月到喎。\n",
      "冇。\n",
      "...有冇搞錯呀？唔係喎！真係喎！電油呢㗎，電油呢！唔係喎！唔係喎！其實係呀，係電油嚟㗎。其實佢咪電油囉！係呀！係呀！唔係呀，唔係其實呀！其實咪…你知唔知PC6嘅電油呀？應該係喎！冇…冇聽得好乜㗎，今日都冇落底呀。吓！噉就…真係㗎！PC6？唔係啩？真係？真係？因為我見佢十八蚊㗎，十八蚊㗎！其實我…我哋點知呀？其實都唔係，即係佢有少少…嗰個…我估啦！噉呢，但係呢，佢哋呢，噠噠聲出咗本書，咁呢我就係去十八蚊嗰啲囉，傾吓囉！哦！唔係啩，佢哋？佢哋？其實都有個㗎！삐-----\n",
      "係電子版嘅啫，唔係一本書嚟㗎，你淨係印出嚟啫。係囉。好，咁我發俾你哋啫。一路一路有人撳撳撳撳撳撳撳撳撳撳撳撳，撳撳撳撳撳。 呀，原來嗰陣時，K3嘅小學雞，呀細細個，都買咗啦！買好多架。嘥錢啦。我哋老師喺派呢張工作紙之前呢，其實佢講咗幾樣嘢咗啦。用個 PowerPoint 撳咗，咁老師又講咗個故事嘅內容，咁就call返去今日要做嘅實驗，咁佢哋做嘅實驗呢，有呢個企劃案嘅。K3嘅企劃案呢，就係，我個份比較主要嘅。呀，我問題就係，係唔係呀，因為畀你參考你知道啫。係呀。小朋友用沾上檸檬汁嘅棉花棒喺紙上寫字，你會，你認為呢張紙遇熱之後會有啲咩發現？係啦，所以其實個主題就係講到佢哋聞到個檸檬，個檸檬無用，咁佢哋就攞個檸檬嚟做實驗啦。跟住老師講完之後就會派呢個工作，工作紙畀佢哋啦。咁老師其實每一個框呀邊呀，佢都會重複咁畀個提示，問題。咁令到小朋友呢，其實好清楚我哋而家係要做啲咩。B…\n",
      "跟著佢哋就開始做實驗，然後會觀察咗先嘅，跟住佢哋之後就一齊去第一張枱度做實驗。呢個係佢哋嘅工作紙嚟嘅。咁佢哋就會分組喺嗰角落度擺嗰樽蒸餾水連嗰隻碟。跟著最後呢，佢哋就會寫番佢哋嘅結果，同埋呢個就係佢哋寫番佢哋嘅結果，同埋老師有個真實嘅實驗結果嘅影片畀佢哋睇，咁就對比番，啊，原來最後嘅結論就係會變咗做黑色。呢個K3嘅，K1。K3，跟著就到K1喇。K1呢，佢哋就要第一個嘅活動。\n",
      "噉就係一個用水塘做嘅。\n",
      "\n",
      "整個工作紙冇schedule嘅，係呀。咁其實佢哋就係，水塘雨衣之後，啲顏色係會化開。咁佢哋個目標係想做呢個啦。老師今次就兩個人一組，就一齊去做嗰個實驗嘅。\n",
      "\n",
      "\n",
      "咁佢哋，因為啲水好嘅，所以係老師負責去倒啦，跟住小朋友就認真去望佢哋個實驗結果。咁呢度都有啲工作紙，就係佢哋做出來嘅結果。係呀。咁呢啲想全部擺晒喺度嘅，咁老師如果想望嘅話，可以睇吓。\n",
      "\n",
      "\n",
      "佢哋嗰個過程啫。三個呢個特徵係咩呀？三個嘅特徵。啊你係咪要...你而家講畀我聽。三點嘅啫，合照。\n",
      "係啦，首先佢哋就係所有嘅時間都係配合住佢哋主題嘅，然後佢哋嗰活動出發，跟著再配合主題去諗過時間做啲乜嘢。咁，呢樣嘅啦。得咗呢呀？得咗就係…你都冇回應我問題。哦，我得咗就係我要睇返點樣去考慮發我哋嗰主題，去諗返啲活動，畀小朋友學到嘅…啱啦，呢個寫得咗。喺活動嘅時候可以考慮嗰啲…令到嗰個活動有意義。同小朋友生活嗰…嗰方面有關係嘅。第三個呢，就係個活動除咗係考慮主題之後，重要可能同環保係有相關嘅。咁就…環保呢啲自己記得寫上去。係呀，咁就從中可以帶到環保呢個…正面嘅…正面帶俾小朋友去學啫。\n",
      "咁第三個得著就係原來我哋有一本書，係可以有個大綱去，有啲活動可以做參考。咁原來個個活動係老師要花費一啲時間去自己做唔同嘅實驗，係點樣令到小朋友更容易操作，同埋係真係個實驗會成功嘅。咁，要因應一啲方法。小朋友一定要成功嘅嘛。小朋友唔一定要成功，老師要成功。老師要做preparation，你都覺得係咪呀？冇錯。佢而家自己就話因為老師有講，因為老師試咗好多次㗎，係喇，試咗好多次，有啲咩嘢能夠比小朋友去做到實驗嘅效果嘅。咁但係呢，實驗嗰陣時好多變數，有機會都係試完之後，應該覺得可以睇到一個變化實驗嘅，但係小朋友得唔得呢？都好難講，但係起碼老師成功呀，試咗好多次嘅，即preparation好緊要囉。你覺得係應該咁樣咩？你邊三個重要啲，你覺得最重要係邊樣？第一個就係呢，\n",
      "老師呢，好強調姿勢用途，幫佢哋清晰返成個理念，唔同嘅set。唔知自己做緊呢啲係做緊啲咩，同實踐，例如實踐同生命有關嘅話，除咗套理念主題之外呢，都有個環保嘅元素喺啊。因為啲...重複？\n",
      "頭先...你寫嗰啲，其實老師好都提醒，有啲提醒小朋友，可能冇留意，啲食物老師係要同佢哋體驗，唔好浪費食物，要帶返呢啲正確嘅訊息俾小朋友，佢哋唔係話做完就算，要佢哋知道想點解咁樣做，老師嘅角色好似一個美味，有啲提醒可能miss咗，大家都冇留意呢啲細節，就咁照用之嘛。只不過我哋可能就多咗教返小朋友，唔好浪費啲食物，或者啲食物包裝咗過期。等個小朋友知道呢個message，唔係做完就算，啱唔啱？\n",
      "係呀，啱啱好啱啱講咗一次，其實講咗一次，我明啦，我明啦。其實老師自己...OK OK。應該都你啦。我寫囉。係你嘅先。唔係我。呢啲叫做...係咪衝突？係。咁你哋兩個都可以...其實印象之言，我哋個思維模式，比老師更輕鬆。都輕鬆？唔難嘅，都輕鬆輕鬆輕鬆。大家都聽咗都知啦，知道其實係非常之參考佢哋嘅比喻書籍啊，例子比較淺白啦。呢啲其實寫喺份草稿上面嘅案例方法啫，我哋都知道份草稿上面嘅理念係咩。其實個比喻，其實講得好清楚，你喺邊一個，喺邊一個場合，或者邊一個項目上面可以寫...\n"
     ]
    },
    {
     "name": "stderr",
     "output_type": "stream",
     "text": [
      "\n"
     ]
    }
   ],
   "source": [
    "# Test with a single file\n",
    "# audio_chunk_paths = [\"converted_audio/sample_audio_1min.wav\"]\n",
    "gemini_output = transcribe_with_gemini(audio_chunk_paths, GEMINI_API_KEY)\n",
    "print(gemini_output)"
   ]
  },
  {
   "cell_type": "markdown",
   "metadata": {},
   "source": [
    "#### Save transcribed output"
   ]
  },
  {
   "cell_type": "code",
   "execution_count": 17,
   "metadata": {},
   "outputs": [
    {
     "name": "stdout",
     "output_type": "stream",
     "text": [
      "Variable pickled and saved successfully.\n",
      "Transcription saved to text file successfully.\n"
     ]
    }
   ],
   "source": [
    "import os\n",
    "import pickle\n",
    "\n",
    "# Ensure the text_output directory exists\n",
    "os.makedirs(\"text_output\", exist_ok=True)\n",
    "\n",
    "# Save it as a pickle file\n",
    "with open(f\"text_output/{file_name}_raw_transcription.pkl\", \"wb\") as file:\n",
    "    pickle.dump(gemini_output, file)\n",
    "\n",
    "# Save it as a text file\n",
    "with open(f\"text_output/{file_name}_raw_transcription.txt\", \"w\", encoding=\"utf-8\") as text_file:\n",
    "    if isinstance(gemini_output, str):\n",
    "        text_file.write(gemini_output)\n",
    "    elif isinstance(gemini_output, list):\n",
    "        text_file.write(\"\\n\".join(gemini_output))\n",
    "    else:\n",
    "        text_file.write(str(gemini_output))\n",
    "\n",
    "print(\"Variable pickled and saved successfully.\")\n",
    "print(\"Transcription saved to text file successfully.\")"
   ]
  },
  {
   "cell_type": "markdown",
   "metadata": {},
   "source": [
    "### Define Generic Gemini prompting function"
   ]
  },
  {
   "cell_type": "code",
   "execution_count": 18,
   "metadata": {},
   "outputs": [],
   "source": [
    "import google.generativeai as genai\n",
    "\n",
    "def gemini_prompt_call(message, api_key, prompt, temperature=0.3, top_p=0.8):\n",
    "    try:\n",
    "        genai.configure(api_key=api_key)\n",
    "        model = genai.GenerativeModel('gemini-1.5-pro')\n",
    "\n",
    "        prompt_parts = [prompt+'\\n', message]\n",
    "\n",
    "        generation_config = genai.GenerationConfig(\n",
    "                            temperature=temperature,\n",
    "                            top_p=top_p,\n",
    "                            )  \n",
    "\n",
    "        response = model.generate_content(prompt_parts, generation_config=generation_config)\n",
    "        return response.text\n",
    "\n",
    "    except Exception as e:\n",
    "        print(f\"An error occurred: {e}\")\n",
    "        return None"
   ]
  },
  {
   "cell_type": "markdown",
   "metadata": {},
   "source": [
    "## Add punctuation and refine the Spoken Cantonese Text\n",
    "Using Gemini 1.5 pro"
   ]
  },
  {
   "cell_type": "code",
   "execution_count": 19,
   "metadata": {},
   "outputs": [],
   "source": [
    "def refine_cantonese(message, api_key):\n",
    "    prompt = \"\"\"\n",
    "            You are an expert in Cantonese. Please perform the following two steps and return the revised text.\n",
    "            1. Correct potential inaccuracies in the Cantonese text in Hong Kong style. For example, in Hong Kong, text such as '噉', should be written as '咁'.\n",
    "            2. Refine punctuation to the text.\n",
    "            3. Remove repeated and unnecessary words.  For example, '係嘅係嘅係嘅' or '啱嘅啱嘅啱嘅' can be replaced with '係'.\n",
    "            \"\"\"\n",
    "    return gemini_prompt_call(message, api_key, prompt)"
   ]
  },
  {
   "cell_type": "code",
   "execution_count": 20,
   "metadata": {},
   "outputs": [
    {
     "data": {
      "text/plain": [
       "'我跟著佢哋嗰個表格寫，即係關於上年教師發放嗰陣，好似呢個，一條龍申請，只有呢，你而家deadline，即係今年其實deadline，因為一月三十一號嘛。我都唔記得，咁即係今年27號呢啲文件我喇。只有呢，嗰年嘅一月一號，佢哋假期年都有㗎。不過我再補充多次呀，年年都有呢個申請。係嗰年一月一號，佢哋今年嘅一月三十一號之前你已經完成晒成個course，然後有單有證書，返嚟拎錢。例子，讀，Miss，你未讀啊？讀咗喇。讀咗，攞咗張證書？未攞。有收據？有收據。張證書？係。辦妥先。好，申請咗先。好，申請我可唔可以點樣辦妥，即係發放。因為申請咗嘛，因為過咗如果唔再申請呢，就點啊？就過咗囉。因為佢下個年度會再計，即係下年度2025年一月一號囉，去到，因為你嘅收據係嗰年之前嘅，咁就申請唔到囉。係啦，你而家申請係最尾嘛。因為我下個月就係個deadline囉。哦，係啦係咪呀，但係你收據已經係讀書嗰陣時嘅喇。係呀。咁所以呢，就申請呢個日子先，佢計數先計呢個日子架，呢個日子。\\n廿八幾廿八。咁平嘅咩？係呀。因為我哋做緊特價呀！吓！係呀！我買咗幾次。廿八幾廿八唔係呀，係廿八蚊幾呀！係呀，佢哋本身都唔係好嘅筆記，因為同嗰啲質素有關嘅，但係我哋講錯咗，幾十蚊嗰啲嘢，唔係幾十蚊，係嗰個牌子嗰啲。幾百蚊嗰啲？你好似好叻喎。好呀。除非你做校長，就可以控制到。吓！你咪識嗰啲囉！係呀。其他老師都唔係咁易堅持到呀？係呀，點解？因為你小朋友好似呀老師，我年年都寫啦。係咪做咗又做咗又做，不過後尾老師話唔好再做。做返呢啲自己，因為成本咁貴，都係呀！都係咁話啦！最主要係事實囉！呢啲老師唔係好肯指正學生，真係好難教㗎嘛。當有咩情況之下，你控制唔到學生，真係好難，心煩都唔煩到我哋！係呀，以前呢以前以前舊式嗰啲係，而家呢一個年代呀，所以呢我哋教小朋友，咁你就真係㗎，唔係講笑，係要呢，逼。\\n之前嗰啲唔係呢個價錢買嘅。\\n其實個標價係呢個價錢。\\n係喎，佢哋加咗價錢喎。\\n嗰陣時我哋入貨唔係呢個價錢。\\n加咗幾時呀？\\n佢哋呢個星期先加。\\n所以囉，有啲嘢加幾十蚊。\\n都有，都有啲加幾蚊啫。\\n最重要係呢個款而家冇晒啦，冇晒啦，就因為而家興。\\n我哋呢邊都冇啦，係呀？\\n你哋嗰邊應該差唔多全部都冇喇而家。\\n冇晒喇。\\n呢幾日呢，我哋呢邊呀，瘋狂咁賣。\\n吓，真係㗎？\\n真係㗎，真係㗎。\\n唔打緊，唔打緊，我哋叫做朋友價咋。\\n叫做朋友價。\\n噉我自己…\\n噉我…\\n快啲，令到自己成家好，噉個個都係能夠…\\n삐——\\n佢幫到小朋友噉嘛，真係學到咁嘅嘢。係呀，咁所以大家傾下傾下傾下傾下。傾吓傾吓，傾吓傾吓。嗯。傾吓傾吓傾吓可以。嗯。吓，就搵人過嚟到學校教啦，人數唔夠。而家唔夠，噉嘅得嗰一二三四五六七八，八個人啫。係呀。唔夠喎。數下自己嗰啲嘢嚟度放，就出到放嘅嘢好快㗎嘛。係呀，噉樣咪好，即係而家即係今年噉樣，噉樣嘅話咪要兩年時間。兩年時間？而家冇呀，即係圖嚟，噉我講。吓，如果唔係噉安排用兩年時間慢慢去啫，呢個係需要處理㗎。噉呢就，睇返錢，噉你哋，唔好再，今年其實都做嗰個，英文處呀。就係，啊，啊，呢個呢，啊，英文教法噉樣。都係十幾人㗎咋喎，咁好囉啫。你話呢，畀啲路啦。我哋幫你諗到，一千蚊啦，吓嘛？夾幾蚊啫。如果真係有呢啲，你哋又多討論，同學校啲教法有關，呢個教師法應該用得到㗎。好冇呀？唔使咗佢，因為點解呀？唔係畀政府㗎。\\n因為十四、十五號嘛，唔用到政府，噉噉呢，噉嘅錢啦，係咪呀？噉所以呢，呃，我哋同大家講，呃，Deadline㗎，真正嘅資料俾我哋少，噉跟住呢，我就幫你呢，臨走嘅時候呢，申請咗先，然後呢，佢啲錢攞到嗰陣，我哋就俾返大家啦，好無？但係我哋之前講咗，即如果你發現你自己有啲Costs已經申請咗，又讀完，又有單，又有正書，就快啲申請啦，唔好嘥。好，跟住呢，去到報告第五個，噉呢，就保護保護同網上分享。噉呢，第一個應該唔係成事嘅啫，應該差唔多有人有講嘅。因為總部要call㗎嘛，但係呢，就呢度書上俾咗成件事我哋知到。喺Software畀返teacher嘅。畀讀書嘅。係，老師嘅嘢，用佢哋嘅software。好好好。噉你將啲正書，攞返老師應該啱。攞返老師，跟住就OK。OK。即係老師會記錄。最好就你自己整晒成個數先。好好好。噉呢，因為，我哋之前講咗，我哋呢度好似有個你呀，因為噉樣call你呢度資料之前攞晒嘛。係。噉你話，好無，例如好似我哋先前嗰嗰。噉呢，噉呢，嗰啲資料先攞晒就好啦。真正，唔係呀。\\n好呀，係呀，真正係讀嘅嘢都...係喇，古怪古怪。咁即係話呢，出入份啦，好喎。咁如果你話，翻譯呢，你網上正式嘅出入翻譯版本證啦，咁咪做返個核對啫啦。正式PPGT都可以。咁正式就係到呢一個聯校嘅同行世界活動啦。咁點樣報個份呢，因為呢，我哋嘅呢係呢一個四月呢，我哋就會正式呢個呢，同時實習比賽，咁點樣去做呢，同大家講，你要正式，當然啦，我哋全香港過嚟參加嘅，因為我哋只有你參與呢，都比返啲證書畀你嘅。我哋呢，係會喺呢個幾時發生呢，係四月十二號暫定咗啦。喺邊度進行呢，喺呢個油閪徑。\\n上次呢日，自己後台入資料，就會做初賽，因為嗰年老師同我分享過，邊個啊，幼稚園K1班代表，係咪呀？K1、K2、K3嘅，咁呢，其實都比賽啦，亦都國際活動參與啦，家長下面問佢啦，總之同比賽嗰啲全部撳個掣啦，公平公正咁去做啦，跟住就代表學校去參與啦，問其他小朋友家，即係又開心啦，又即係常識好豐富啦，所以大家要同佢哋講多啲常識喎，即係嗰啲咩色㗎，K1唔知紅色啦係咪？咁呢知唔知咩叫紅色呢，唔知咩叫紅色啦係咪？即係呢啲常識嘅知識啦，可能紅色都唔識呢啲嘢喎，又或者咩色嘅橙呀，如果K1真係分辨唔到紅色，咁呢你唔好話佢識唔識，你唔好話佢唔識，可能對於辨別顏色上面，未好嘅即係了解喎，或者可能都關心下先，因為有啲小朋友原來發現呢，佢真係分辨唔到㗎，唔係佢唔學啊，咁如果係咁同媽咪講話咁呢要先幫佢，要去嗰陣時先得。即係幾百個呢啲小朋友，咁所以呢大家呢喺呢兩個月裡面，除咗開班之外呢，就要關心小朋友呢，喺嗰個同事之間啊，熟悉上面呢，要豐富啲。因為呢，下星期三嗰啲嘢啦，下星期三嗰啲嘢啦，咁呢都會，都會問嘅，咁大家你都了解下。咁呢跟住呢，下個月比賽都練習，咁其實發生已經又係呢，嗰啲啦，就喺呢個呢，比賽就六月七號，喺聯校之後，係，咁呢就會一間中學兩，跟中學裡面嗰啲人，再自己組隊參與。跟，咁所以比賽嗰家長，係呀，係呀，咁呢，我哋因為KG四咁就搞掂啦嘛，之前嗰比賽已經跟咗正常題㗎啦。係咪OK呀？因為佢哋\\n係呀 啱呀 好正式喎 你嗰條片可以share㗎 大家可以參考下 噉呢個仔 跑步做到啫 因為佢哋嘅骨 一定都 呀 跑步做到啫 係呀 係呀 跑步做到嘅 喺邊度呀？ 大概 大概幾耐呀？兩歲 你決定呀 你而家照 你照嗰份呀 份呀 係呀 噉所以你而家斟酌下 係呀 噉其實山水參考下 照你哋嗰份 擺喺嗰邊 嗰啲 幾百字左右 噉呢啲小朋友 做少少準備 可能有啲因為六月嘛 係 噉可能開學之後就可以寫返兩 呀 幾十篇嘢 唔使嗰啲寫 係呀 嗰啲 人哋寫 係呀 係呀 你可以問意見 但幫到你嘅 我都一時時 其實冇乜特別少 吖 係呀 噉冇所謂啦其實 係呀 應該係 我見過咁多個 都吓老師啦。但幫唔到你。 係呀。 其實佢有道理。 因為呢個已經阻塞。  跟住呢，佢爆煲嗰啲氣出嘅噴噴聲呢，嘩！ 清唔清楚呢？ 有呀，跳線呀，嗰啲跳線。 佢閱讀發展呢？你哋有傾過呢？ 閱讀發展未都到喎，係喎。 點樣講呢？發出嚟？ 發出嚟個聲提醒大家，因為呢，小朋友會緊張，有精神囉，就通常有啲擠壓。咁小朋友個喊到成點呢？我就見到呢啲眉機啦。 嗯。 返嚟嘅時候呢，多啲處理啦。因為呢，其實係呢個係良好嘅教育理念，個行家都有嘅。我哋依家數據呢，係想度中間提到㗎。 其實lok，唔...咩報咩嘢...報咩呀？嗰陣因為咩...諗話...嗰陣時頭腦呀...諗咗...因為諗到中央嘅...嘅到期呀，咁唯有掉晒啲書啦，跟著自己啲費用出啦，自己出個數啦，費事咁嘅溝通啦，同埋先生費事麻煩人，其實呢...我諗將啲卡呢小朋友張卡呢，佢哋自己用嘅，拍卡啦，之後書啦，同埋就 iOS 嗰啲...一張卡...係呀...iOS 就咩呀...iOS 就得，因為上面同佢講咗又冇用到 e 卡，所以所以 e- 一張都發...你哋老師...啊...咁如果...你哋 iOS 呢...就...唔洗囉...你叫佢好似你咁撳入去就得...好...你唔係就問下問下啫吓...好好好...冇啦冇啦...呢...呢...已經唔係今年發生嘅事，因為 iOS 已經提到三面嘅。\\n三年呀，今年第四年啦。咁所以呢，嗰個幾年？即係第二年。因為之前派咗啦嘛。舊年，係呀，係呀。係呀，所以三年之前嗰陣時嗰陣時呀。所以呢，方便啲呀，咁樣呀。咁所以打開下年呀，下年呢，都會預備個啦，下年呢，我都會提小朋友呢，唔會將個即係學生證呢，掛喺個書包度㗎，因為呢，有時呢，會甩咗去啦，呢啲K2呢，冇唔見啲咭嘅，呢啲細嘅呢，因為佢哋唔會識得縛返缚去嘛。即係咁樣㗎啦，因為佢哋就掛住先嘅，因為呢，成日都要用呀，咁呢，就好麻煩嘅，佢哋到呢，嘅時候，咁佢哋好似冇命嘅，佢哋到呢，陣時啲咭呢，就好麻煩喺邊度，你又發現K2嗰啲插袋呀。你唔見到呀，佢哋全部一返嚟呢，一拍完咭呢，就將佢哋個咭呢，就插喺個袋裡面嘅。佢哋個袋除咗咭咭之外呢，有寫啲啲細鎖匙呀，或者係細鎖匙扣呀，呢啲細細個仔，佢哋都插㗎。我唔知你哋有冇呢？所以，我哋一講嘅，咁呢，佢哋當佢哋呢，嘅活動嘅時候呢，我哋就會拎個袋仔就攞出嚟玩㗎啦。咁佢哋就，因為佢哋掛頸呀，咁所以呢，佢哋呢，因為我哋都反映過嘅，點解我八達通打開呀？我唔拍碎呀，不過處理有啲唔同。所以呢，呢邊嘅小朋友嗰個八達通是打開㗎，其他嗰啲呀，其他嗰啲呀，成日，即係上次買個嗰，但呢，K2從來呢，時，唔知點解時，係唔會咁打開啲㗎，佢會唔見㗎，實際上見㗎，實際上攞咗㗎，知㗎，咁呢，就插咗，冇呀，實際上呢，即係嗰陣唔見㗎，佢哋卡片又唔見㗎。咁所以，我哋唔知點解呀，處理問題有啲唔同㗎，咁我哋了解啦，下年呀，我哋下年都會溫故知新再溫故知新拍比小朋友傳訊息再溫故知新拍，然後呢，就請小朋友掛住咁呢，方便啲，咁呢，因為三年都要用㗎嘛，即係又要圖書呀，又要拍咭呀，又要玩器材呀嘛，咁呢，呢啲管理又好啲，咁到時呢，可能喺圖書館，可能食堂買啲啲插袋呀，佢哋又唔見嘛，有嗰啲跟住掛個褲袋裡面，標示喺邊個小朋友打邊個嗰啲呀，係呀，返嚟呢，就呢，做完哂自己掛呀，方便啲咁樣，咁所以呢，就，祈望啦，唔見呢，機會多啲，唔好少啲，因為呢，度話成日打開都唔見㗎，好叻呀嘛，咁我哋辛苦你哋呀，幫手呀，用個布袋入住先啦，因為其實嗰啲，好，好污糟呀。\\n삐-嗰陣時我見，我見到啲細廁紙，但係呢，好重。係啦，你幫佢哋點樣令到而家暫時用紙巾卡都用到。因為我哋用，用咗三年喇，其實張卡。係啦，所以呀，我哋上次整嘅第一張，同埋派嘅都係嗰個。係，咁希望我哋好保護自己，幫小朋友喇，保護自己啲嘢，咁緊時唔見啦，好嗎？咁同埋呢，就都係點解，啲電子都共用，一張卡用晒，希望攞住多啲嘅事件。同埋可以family啲小朋友，俾啲自律好啲囉。啊，所以呢，禮券放架之後，請大家夾返做啦。因為呢，個禮盒可能呢，都要同我哋老師呀，咁樣。因為呢，重要有個standard嘅禮物list㗎，大家記得喎。暫時都冇變㗎，咁今年都一樣嘅。咁我哋而家呢禮盒裝呀，入面咩樣？如果唔要親子班喎，不過重點係，都冇，都冇分零分，咁你記得喎。佢有分先度㗎。咁你，其實你要俾分佢喇，你好認真呀，有分喇。啲事件你唔發現，冇俾加分喇，咁樣。尤其係跳舞，五十分呀。好多時都唔會呀，親子呀，啊，跟著不對呀，老師罰你寫跳舞五十分，好多唔記得。其實呢，滿圓計㗎，咁樣多少時。咁所以呢，就唯有返返呢啲啊，其實禮盒，同埋俾返你啊，俾幾樣玩，有分㗎，咁樣好嗎？咁我哋呢，夾返幫小朋友呢，參與返個，其實半分嘅呢個獎勵計劃喇。好，跟著不過九，咁呢，跟著就係呢，禮盒俾啲禮，就係呢，輔點，呢個都會到時俾大家嘅。我哋今年K20，我呀，我係同場呀。咁呢，其實我都參辦年度同場。咁所以呢，都係同場，咁所以呢，大家儘量做同場呢，就做後台嘅。咁我之前做，P咁所以呢，我哋好開心啦，噉樣好多實習嘅經驗。我哋做嗰啲，嗰啲做。\\n噉樣實習呢，就會多數幫嗰啲講解，就係幫手呢，做呢個queue 啦，帶住個 headset 啦，同上面呢，同啲模特兒溝通啦，噉樣。噉樣嗰陣，啊，實習生幫你哋。如果唔幫你哋，噉點算呀？\\n應該可以錄影。\\n係呀，可以一邊做。\\n可以嘅，啊，噉樣呢，可以錄呢個聲。\\n啊，噉點樣壓啲呢？\\n撳制囉。\\n掣邊度？\\n係，咁如果呢，你真係唔得呢，你可以 WhatsApp 我哋，WhatsApp實習生，或者呢，可以直接，啊，直接搵我哋。\\n啊，或者直接呢，可以問多次，跟住呢，就記低佢，跟住呢，WhatsApp 俾你哋嗰啲。\\n下禮拜做後台咩，都喺。不過呢，應該唔閒。今次有兩三倍人呀嘛。兩三倍人？好似真係唔閒喎。今日呢，今日唔知，今日七點半，今日嗰班法師。買嗰啲。買啲。吩咐三倍一次。吩咐三倍一次㗎。今日呢，今日星期四，今日星期四，嘩，嘩！嘩！今日星期四，今日星期四，好難寫，今日星期四，唔...今晚嗰啲。今晚嗰啲呀。係呀，吩咐三倍一次㗎。係呀，吩咐，有啲雨備。今日，今日。係呀，有啲雨備嘅，我哋準備做好啲啦。今次嘩，嗰晚真係喺邊做呢？實際嘅，實際嘅，呢啲發例，呢啲數字，唔好，做得好。不過呢，唔係好多，實際嘅，呢個位置。我哋今晚可以傾掂嘅。呢啲人呀嘛。我哋可以傾掂，應該唔難嘅。你要幫，睇下可唔可以。\\n噉今年所以特別嘅嘢呢，或者嘢多啲，即係主任老師會安排㗎喇，係咪？噉都係支援吓，即係做到做為周周嘅嘢，因為同學仔嘛，係，噉所以呢，我會通知呀主任，等大家聽，要幫忙嘅時候，如果唔係其他人都會好似高班定係照顧小朋友，因為都會帶小朋友去，醫生、驗傷、睇醫生嘅，噉。好，跟著就去到K，呃，報告資料，資料吓，其他人士資料，同事，資料我做個安排嘅，大家嘅份。噉呢，你班同事嘅呢。唔係，唔係寫個名呀？唔係呀，唔係，唔使，好啦，係咪呀？唔使寫名。可以，吓吓吓，即係即係，因為我知，我知點嘅啫，所以我先至唔使寫。你班同事嗰啲就得㗎喇。係呀，我寫住K同事咪得囉。唔係，因為嗰班資料、資料機嘛。好好，我整理啲呀，好，噉第二件事，呃，同呃，下次理事，因為呢，我哋網嘅舊時喇，就淨網站。 beep\\n係啦，另一個好似同佢風格都好似，佢冇對錯嘅，不過應用情況啫。噉呢，你話有啲名，所以我話我哋啦，我哋十幾年都冇辦法好似你哋呀，咁叻嘅弟子，呢個叫做寫意囉，係咪呀？\\n噉呢，正正係假期啫，噉所以呢，我哋嘅，呢啲就係寫生寫，呢啲就係搵色啦，搵色嘅意思就係話你嗰啲好似Grade 嘅示範功課。\\n係咪呀？\\n有，兩個，兩個，邊兩個先？\\n呢兩個，因為呀，邊個邊個實際，因為你知，呢啲實際grade 示範嘅。噉呢，呢個grade 我其實冇話，係幾多呀，點解呢？好多其他活動，其實我哋其實，係，係，係嗰啲，十二月或者係一月先知啫，噉所以呢，有啲已經明知會撞嘅。\\n咁而家少少比你哋先啊，係呀，咁我哋同之前都試過㗎喇，係咪呀？咁而家最尾我哋都祈望啊，我哋都希望話二十三個Grace嘅大家呀，即藥師啊，我哋都希望裡面放多啲。係呀，咁所以喺前面先分享大家啊，分享大家就其實呢就穩陣啲先。係呀，第一個呢，就就就之前嘅，之前嘅，係呀，會議，咁因為呢，會議啊，其實呢已經安排咗喇，就呢，你哋假期係要喺做啲功室，先至可以教小朋友，同埋呢要預備啲教材佢哋。係呀，我而家無帶check嘅，咁我預計先，即係喺九月嘅時候，可能我哋帶check究竟點整嘅。同埋呢而家呢，我哋建議啊，除非K1K3，K1K3係同一時間，同一主題啊。K2唔係喎。K2係持續嘅禮拜嘅主題嘅。咁所以呢，我覺得就唔理想。係呀，其實差唔多本會本應該\\nK2 喺下個禮拜呢，唔緊要，填咗表去啦。咁下禮拜呢，我哋會同一時間一齊開始，一齊完嘅。咁呢，個好處係咩呢？有啲指定嘅活動呀，或者係開始先先嘅情況，新嘅個主題時，新嘅嗰部分嘅時候呢，我哋會容易啲處理，家長會容易啲理解咁樣喎。你哋都唔使記住喎，如果我個小朋友K1定係K2呢，咁我就好似啱啱數學先完，美術打後數學咁。我哋一齊開始，一齊完，其實可以嘅。因為其實差唔多嘅內容，我諗。 係嗰樣，係嗰部分內容同，但個編排嘅過程應該唔會差好遠，呢個係。所以，我哋下下禮拜先至一齊同一番啦，咁樣。咁呢，呢個表第三樣嘢，呢度其他嘢呢，例如係教師評分啦，有啲係例如啦，我哋會出卷呀。如果顯示你嘅，我哋會話俾你聽。如果唔顯示你嘅，你就知道啦。因為有啲人會驚咗份份嘅。我哋知道嘅就打晒落去啦。唔知道嘅，真係唔知，冇辦法啦。我哋知道嘅已經擺晒去嗰家長部分裡面啦。其他活動係咩呢？純家長嘅活動，即係份係家長會參與嘅活動，我哋都擺晒落去啦。你可以發揮所長嘅呀，或者係同你做嘅嘢，或者你家長好想去做嘅。咁呢個唔顯示小朋友嘅，唔係主要，只係提供畀家長咁樣。咁如果真係要寫，先寫你自己手寫個表裡面啦。咁真實唔特別，呢啲，第一、二、三、第四個column呢，係關於小朋友事嘅。\\n同有其他家長，即親子一齊嘅，或者好特別嘅情況，我哋都會加入去嘅，例如開幕禮啦，家訪啦，或者開學禮啦，或者新生活動，親子新生活動啦，或者其他活動啦，我哋都會加晒入呢個親子特別活動入面嘅，顯示返一啲日期要留意嘅。唔使講啦，你自己知㗎喇。好，跟住呢，就呢個活動啦，活動裡面，K1、K2、K3，你見到個日期其實有條線，開始日期係幾時，完咗幾時㗎啦。咁所以你見到K1嘅日期呢，係六號，因為七號，因為七號係假期嘛，所以你會喺六號啦，而K3都係完喺六號。不過點解初初，可能因為假期，都唔知幾時返學呢，係咪呀？\\n所以呢，喺呢呢如果係嘅話，你就聽清楚少少啫，保持返時嘅你明白呢個係咩，不過大約啫。\\n重點係呀，其實其實三個字都唔係問題，我叫字用手寫手寫嘅呢，即係講無呢個表，個表即係數呀，呢個呢，其實呢，嗰陣時嗰個字同個部，你就寫個字。\\n咁但係重點呢，呢一個活動呢，其實我哋其次擺呢，每次活動呢，你發唔發覺佢好奇怪㗎？\\n例如餐巾紙先啦，例如好似佢哋寫字呀，呢個公函呀，或者呢寫信呀。\\n係呀，你哋都會㗎，Q&A，Q&A嗰啲呀，點解呀？你寫信呀，餐巾呀、嗰啲先啦，或者係指示先啦，或者係填寫呀，嗰啲人講嘅字，填寫下呢個日期啦，係。\\n所以呢，其實呢嗰啲嘢，你揀嗰啲活動，其實嗰個label都唔需要嘅，其實嗰個主題，唔係因為嗰個主題而有啲活動，你要去延伸嘛，我期望出呢啲囉，而呢啲活動特別啲嘛，因為點解呀，佢持續呀，出Facebook嘛。噉呢如果出咗，如果唔係，佢可能活動唔得㗎喎。其實呢個標籤呢，即係話出Facebook呀。噉所以冇呢個標籤呢，例如你去食食食嘢，去買嘢，我而家寫出嚟，點會出Facebook呢，係咪呀？如果我去計數呢，我點會唔出Facebook啫？噉呢啲其實呢啲可以有呀。你揀點買餸啫嘛。係呀，寫個活動，寫嗰啲，係，全部都係噉。寫嗰四個字啫，唔使得嗰啲呀。係呀。嗰拍嘢有啲唔會㗎。老師，係咪有啲唔會有㗎？係咪？有啲唔會，我唔知點解。\\n我期望呢，呢，呢物質純到呢，就出嘥...其實非你喺學校做筆試囉，即係等嗰個筆試ok就得，噉咪即要打email啦，係咪？呢啲小嘢啦，係咪？\\n\\n係，老師，而家呢，呢個discussion跟返之前...因為佢一攤呢，有啲單元會寫好多嘢...所以就冇辦法計呢個最平均。\\n噉即係K1，K3唔平均？\\n唔係，即係佢可能...都系嗰啲計數數...因為有啲人會多咗啲...即係你講嗰啲多咗呀...\\n咪有囉，呢個冇理佢哋喇，咪去咗喇，因為你哋自己都去晒喇嘛，你哋自己都去晒喇嘛，所以唔攪喇喎，係喇，唔緊要，我唔介意，今日...\\n吓年我會重新規劃過啦。係啦，點解呢？唔會差唔到嘅，係啦，一定差到嘅，咁就好似你話齋，好似Alice咁啱啱，我哋寫個主題，一定差唔多嘛，即係大約可能大家都一樣嘅啦。大約啦，係咪？一個都係三十，一個都係十唔會囉，從來數字都唔會咁。係啦，一定差到，我寫十幾年，點會差唔到？不過今年真係特別，總之你以前寫成點樣嗰，係啦，不過我發現到原來有唔同嘅寫員嘅啫，係呀，我相信你哋當時都係咁寫囉，不過我哋想你重新嗰啲，係啦，呢個你都要返Alice原先一定嘅，大約每一個主題差唔多，係呀，呢個特別多，呢個特別少之類，你放心，係啦，咁呢，呢啲呢，唔使你理啦，咁總之呢，我都希望呀你每一個活動呢，最少有兩個，係呀，數字嘅活動，環住個主題，特色嘅活動。因為例如呀，最初嘅一天，即係拜四，最初一天K2嘛，咁 唔係就係囉，你應該處理啲囉。\\n你明我講咩呀？其實都喺嘅，幾時呀？今日唔出呀？你一定每日每日咁㗎喎，咁樣㗎喎，所以有時唔會咁唔係咩？出街食嘢連寫呀，通常囉，要即刻㗎啫，嗰啲嗰啲，你係咪大師呀？唔係嘛？你明我講咩，其實個比例數嚟㗎啫，等你睇呢啲嗰啲特別嘅論調出唔出咩？跟著先呀，係呢啲睇得多㗎啦，其實呀，跟著去數呢啲準備嘅其實都唔係囉，咁即係呢個嗰啲都唔係，而家就見唔到，所以唔使做，跟著呢啲數字呀，數字有冇令聽，知道講咩，就冇改過，其他冇改過呀，之前改過啫嘛，自己嘢口，其他全部冇改過，全部都喺，所以寫咗啲字，就咁樣分畀佢哋寫㗎啦，知道我哋咩，其實老師呀講，原來可以自己寫啲，佢哋嗰個主題就會出街㗎啦。\\n噉係咪要知？係咪要出通告啊？我哋係咪要知啊？幾時去嗰陣？噉囉。好嗎？噉吓理念呢？老師點樣…老師點樣令人哋記得呢？因為…因為…因為…幫你哋兩個禮拜攞最尾嗰 Deadline，噉如果你再要參嘅時候都唔…一時三刻你哋去，噉你而家收到呢個網上嘅其實可以令定吓你上學所有主題嘅活動嘅，因為…嗰個表…我會將呢個表打個 Share，我都會 Share，我俾大家，嗰陣時呢，我俾大家，都係收定，呢都係吓理念機會，即無論你吓分鐘做得都多都好啦，你吓理念有咩你會完成咩事情嘅學習，同埋 plan 你吓年上學嘅嘢嘛。八成都係嘅，即我唔相信到我記住嘅，即就算我哋有自己人生嘅規劃，可能你唔一定行到啦。噉但我哋都會做，我哋吓年做啲咩嘅情況底下，我都會…\\n做好我哋下年接幾嘢，跟手嘅人都唔會咁迷茫，咁唔認識嘛，係咪？所以呢，呢個老師應該都感受倒，你哋到時你哋唔使驚話跟唔上幾嘢，因為前人已經做晒㗎喇，即前一年嘅人，就係而家你哋學到好，佢已經預備好晒所有幾嘢，所以你哋嘅時候已經接收咗嘛，你明白嗎？即係話，因為你哋跟住時，因為你哋跟住時㗎，咁所以我覺得呢一個好好嘅文化，我相信唔會差㗎，係呀，我都感覺都係咁嘅。呢啲老師都好好，我相信，係會預備晒自己嘅手尾啦，整好晒啦，咁等新嘅一年嘅老師接收呢，都好教我哋小朋友㗎，係呀。咁所以呢，如果主要我，我會將呢份表交俾你哋嘅，然後呢，因為呢一份表嘅好處係乜嘢？清楚。我覺得係好快你哋知道有啲乜嘢活動要出現嘅，然後有啲乜嘢正式嘅活動你一定要出通告嘅，等到家長，或者我哋行政嘅人員可以好快幫處行政文件。跟著你哋自己寫教案嘅時候，都知道會有啲 alert 嘅嘢，原來呢，計劃書一定要夾定嘅。\\n咁你係咪知，咁當你寫教案嘅時候呢，你就例如啊，例如依家高班啊，嗰個幾月十九號要做主任咁，都會同你去嗰練習喎。咁你咪寫教案嗰陣咪咁寫呀。你明知其實大部分時間唔係喎。你咪寫教案啦，你不如將其他嘅活動啊擺做啦咁。咁所以寫咪有啲超嗰啲寫教案嗰啲真實囉。咁其實教寫咩？其實話每個每個活動都唔同嘅，係呀。其實一個真實係實際寫晒成個詳細嘅。咁所以就出到，係呀，所以先單呢就已經寫晒後期啦。係呀，真係。係呀啦，因為每一個都唔同嘅，所以好難好少，係well-planned嘅，係呀，唔會咁出現嘅。不過唔建議，每間學校都有唔同嘅情況，至於，我而家基本，呢啲係，你嘅教小朋友之前準備好就得㗎啦。係啦，係啦，噉你慢慢先試吓數定啦。我覺得冇話對錯嘅，只不過我哋想做啲預備啫，係呀，咁嘅啫。係啦，噉所以而家呢，我哋撳錢嗰啲理念上嘅嗰啲呢，就根據返嗰啲嘢做。噉所以呢，你如果大概知道呢啲技巧嘅，你同我哋商討吓，傾吓細節，整理呢啲，噉你可以用鉛筆寫㗎啦。或者係唔使大寫啦，因為唔知會點。噉呢啲時間，好唔好啊？噉所以你哋睇住就慢慢試吓你哋今年嘅工作先。吓諗吓先，係啦，噉所以呢，K1、K2、K3呢，就主要係自己吓，自己班嘅啫，唔牽涉我哋嘅。但呢，全校嘅係咪？牽涉全部小朋友㗎啦。噉就例如係咪？其實呢，新年假期嗰啲唔使出嘅都睇㗎嘞，唔緊要啦，因為係，因為呢版本已經出咗嘞。係啦，噉呢，就我哋下個月，好似嗰啲，我哋會有新春填色啦，我哋有生日會啦，我哋嗰啲，遲啲有啲親子活動嗰啲畫啦，我哋都出通告畀家長可以做啦。噉呢其實我哋逢每一個月嘅第一個禮拜五，我哋就會生日會嗰啲家長。噉呢，有啲全校性活動例如，開學水果日嗰啲呢，就你哋返，自己校本，睇四至六個禮拜，通常四至六個禮拜做嘅啫。\\n跟著呢，就呀，主任都安排咗啲自己校內嘅啲普通話比賽呀，有一啲嘅布置嘅活動嗱噉樣，噉有啲可能拍戲呀，巡迴去做啲訪問嘅講座，大家要自己報種噉樣。噉呢，當有新家都唔排除㗎，點解呢？因為等家可能總會有啲想唔參與嘅。可能嗰日呢，嗰日嗰日嘅人嘅呀，即係攞咗一個天啫，星期四定星期六呢？\\n我唔記得咗，查返，嗰個叫做全民國家安全教育日呀。係呀，係咪呀？係咪呀？四月十六，全民國家教育日呀。噉呢可能呢，唔唔星期四囉。係啦，噉我哋就，有啲要跟返總部就加返，係，等到時下年再做得好啲。噉呢，呢個表唔唔會嘅，因為你總部嘅啲idea，有啲活動會撞期噉樣呀。係啦，同埋有啲捉佢唔唔活動嘅，例如咩呢？例如高班，例如低班，例如一年班，一年班四月十三，有啲學校例如，因為大家都要安排嘅，喺嗰日喎，佢哋嗰班呀，係呀，星期三，噉就半下噉啫。即係佢哋淨係用個班子，跟著分唔分嘅星期上午時間，係，所以話嘅，我嗰日嘅噉，好，噉呢我哋就唔同嘅活動啦，老師你留意啦，你就睇住呢兩個表，方便呢，你計劃你自己嘅教案呢，同埋帶領小朋友做唔同嘅嘢噉樣呀。噉呢，如果嗰次啦，呢個日子如果冇特別冇特別通知你，你就跟住你往時，你就自己做啦，OK？但是如果呢，真係因為聯校嘅活動啦，或者啲冇辦法一定要遷就你參與嘅話呢，我哋先至再調，希望唔調。\\n吓，如果要調會預早通知你嘅，好冇？\\n好，咁有兩個活動睇下睇下，首先係三月二十二號財社有班社，三月二十二號本身應該係一個英語活動比賽嚟嘅，但係適值就係三月二十一是個學校開幕禮嘅，咁所以我就想睇下佢三月二十二會唔會改為一個開幕禮後嘅 open day，咁所以其實基本上就唔預佢喇。咁當中所以小朋友小幫手佢哋都會問買幫手嘅，就會留喺度再搞多場 open day 畀學生嘅，咁暫時嗰方面都未出聲。\\n比學生嘅。\\n應該自己搞返先。\\n自己搞返先都可以出賣嘅。\\n最主要係自己搞返先。因為呢，我哋自己搞返先，我哋唔會，啊，低級班可能 K1 唔會參與喇。因為可能 K2 K3 多啲嘛。咁佢哋都可能想了解下我哋嗰設施，邊度有啲遊戲啊，玩啦，咁樣。但係順便都畀學生一齊參與囉，希望。咁，同埋呢，我哋因為呢，家長問可唔可以嚟睇小朋友嘅。咁呢，我哋話嘅如果可能有機會喺呢一個呢，陸運會啊，因為五號會就留畀小朋友做發展嘛，就等候嘛。咁我哋好大機會留校舍就會做一個巡迴。因為呢，其實我哋之前試下，因為呢，而家嘛，而家家長呢，呢邊個 camp 嚟，好嘈。\\n삐삐삐\\n其實嗰邊係睇到嘅，但唔知道我哋落個screen得唔得，你睇吓，上次呀，佢哋整咗個screen遮住個摩打嘛，跟著呢，其實所有嗰啲都話連到線，起到全部直接㗎，但呢因為呢，當日呢我哋唔會開嗰個screen㗎，因為我哋有backdrop嘛，所以唔會開，如果嗰邊，如果主嗰個地方唔開screen，其實即係我哋要夾佢喎，因為佢哋全部電子板板，唔係technical，即係要連佢哋邊個system，佢自己嘅system噉樣。當時連到㗎，其實當時你哋較開啲新電視機嘅嘛，因為當時有三個嗰啲電視機嘛，一個係六線，一個係三線，一個係嗰啲機嚟㗎，當時試咗㗎，應該係得嘅，我都試過。你哋唔咦咦吓？個screen喺嗰度播嘅時候，你哋上面啲機仍然有畫面喎，即係試位嘅。\\n我哋睇下出邊撳掣，全校都冇人撳過喎。我撳咗一次出邊撳掣，護士話冇撳過，所以我先想搵啲technician嚟連線嗰...所以姿勢...  我睇係撳咗三...我睇撳咗三四七到三五六㗎... 所以要試下...所以要攞你啲...撳啱位置... 我自己有教過邊個撳... 唔係唔撳要...  唔係唔係... 你哋唔係...叫technician幫你呀，因為要連線呀嘛... 好好好... 叫technician教下我哋呀... 嗯... 咁所以老師都一齊研究下好嘛... 嗯... 因為呢其實點解要撳撳...點解每一個護士都有呀，因為架機... 你哋家下冇做掣，你哋冇做所謂... 冇全校所謂... 即使係講播佢哋冇話呀嘛... 係咪？咁起码有話嘅，有小朋友大量做嗰個畫面，即係你抽類似...剩係姿勢咁樣未見過呀... 即係其他話好似咩姿勢嘅情況...咁所以呢，我哋都係好似之前咁樣，撳撳個數字嘅時候，嗰啲字幫我哋啦...咁我哋喺畫面見到...\\n佢哋而家先至有新嘢喎。\\n咁呢，而家，噉嘅話，佢哋其實再幫我哋，係啦，噉即係過咗嗰 process 嘅啫。但呢，你哋依家新嗰啲實際係新嘅設計嚟㗎嘛，唔係嗰啲設計，嗰啲 post 啦，博客啦，就真係好難，唔知邊個位喎。我哋見過一個畫面。\\n因為佢哋有三個，有三個，有一個鏡頭有三個位置。係呀，噉有唔同嘅速度嘅啫。係啦。噉所以\\n佢幫我哋 set 咗三個位置啫，總之，等於住，好似嗰個 backdrop 嘅嘢呀。噉所以呢，點都叫佢嚟啦。點都叫佢，因為其他先至加咗，唔知先至係嗰 post 嚟，噉一次過問埋啦，係呀，噉亦都，呃，嗰啲就，就因為點解呢？如果我哋有呢個 function 呢，就加咗佢睇囉，因為好多時加咗未必做到，呃，我哋了解吓。\\n삐-\\n因為我哋我哋份嗰guest list其實唔知有冇老師唔喺身乎啦，或者打咗個個guest list上次報啦，噉呢，喺好多個嗰同事嘛，係咪呀？噉我見兩三個同事喎，噉啊，都希望佢哋支持吓呢嘛，噉我哋啲嗰同事嘅仔女呀，例如呀希望啲guest list嘛，噉但自己家長呢就會出喺嗰嗰list度囉，噉所以如果佢做做做做做做唔知做咗啲乜嘢睇唔到嘅，係因為我哋嗰list應該抄唔到咁多人嘅，係啦，因為board member啦，同埋啲家藩呢都有機會已經抄到係去到去到你個嗰處嘅，鏡頭呢有機會，噉呢你嗰處去到李老師嗰處做reception嘅就都唔好多㗎啦，係呀，噉都會試啦，噉但而家希望呢，係我哋呢，啊，至少家藩呢都可以喺呢面場，噉但其他全部嘅希望你清楚啲，睇得清楚囉，噉家長做嗰份心嘅我估，因為見小朋友有表演機會，我估呢，邀請啲呢家長呢，就有機會表演嗰啲囉。\\n即係話啦，咁有一個家長，唯有喺街街嗰圍嘈咁樣呀嘛。咁呀，而家呢做煮飯嗰陣時啲份量呀火喉呀乜嘢之類嗰啲冇咁多經驗啦，咁所以擺好多步驟教你點樣煮。但係呢，我哋舒適布置嘅呢，更加，根本舒適布置其實都係基於份數嘅。份數擺咗一份，一份碟餸一份調味料嗰啲，我哋嗰長線嘅長方形，擺舒適呀嘛。所以呢，大家都識咁做。你有冇派住呀？因為我要布置呀，好明顯呀，係咪呀？咁所以呢，呀，啱啱可以寫呀。因為我哋廚房呀，我哋嘅筆記呀，係呀係呀係呀，咁點解份量要插落做飯？因為佢哋有份數呀嘛，呢啲嘢佢哋要提示人士呀嘛，你都擺唔到舒適布置太多，擺其他嘅嘢，係啦，因為以巴士圍呢，巴士係茶點室呀嘛。係呀，咁可能淨係可能擺好多製作嘅餸都會，就同埋阿公會惹上㗎。所以呢，阿基師同埋借呢個嘅，我哋喺初步設計點樣可以偏啲商業化啲呀，因為喺香港佢哋每數貴。咁啲係囉，係咪呀？係囉。同埋呢，大陸嗰啲，即係而家呢，嗰啲大陸，咁大嘅商場嘅，其實直頭係一個百貨公司呀，跟著又要唔知幾多層樓咁高啫。係咪呀？其實就可能你哋即有頭嘅商場呢，即係偏出嚟嘅嗰，但係要畀商場啲food court咁囉。係呀，咁所以就偏偏呢啲就快啲啲搵商機咁樣呀，即係呢個image呢，即係此終呢，始終呢，始終分嚟㗎。你嗰唔高呀，好多時呢，嗰啲waiting room呢，好多星呢，嘩，其實唔係咁，即係而家呢，而家嘅學嘅嘢多呀，擺靚啲得喇，但係即\\nbeep\\n好啦，其實呢，其實我哋嘅前輩呀，珍惜今朝呢個機會，自己嘅嘢呀，<noise> 好正常㗎，係呀嘛，係喇，爸爸喇嘛，表演者嘛，我哋，我哋爸爸囉，咁你覺得呢，其實我哋嘅，其實我哋主要成個樂隊成個團隊，<noise> 係喇，其實我哋，我哋爸爸佢哋打工呀，打工呀，佢哋打工，係喇，都會珍惜，係喇，其實呢，其實我哋呀，都需要呢，籍嗰陣時我哋嘅，啊，其實主席嘅，因為其實真係好希望大家都開心囉，留下美好嘅回憶喇，咁當然，除咗表演之外，我哋都將，將我哋樂隊入面，將參與嘅，一切活動，發散多啲出去囉，同埋呢，唔止上次嘅嗰啲，我哋今次都有新嘢嘛，好似話拍咗啲影片呀。\\n<noise> \\n삐——\\n即係點表達呢，即係成套製作嗰樣嘢。因為呢個guest room呢，而家啲時機呀，係咪做嗰啲簡易啲嘅 equipment，即係好似啲片，主要兩條，一條可能小朋友嘅開心笑，可能啲植物嗰啲花朵，另一條就係嗰啲小朋友嘅開心嘅互動嘅即興表演啊，呢啲表演而家啲點呀？\\n\\n啱啱嘅，睇第二條片，當時個表演入時呢，都等價百拾呀。呢排啲兩歲幾，啲家長可能想試吓啲能力嘛，而家幾年前嘅啲片嘛，啱啱至少兩條，可以製作成下，嗰啲MV啦呢啲。\\n一條就可能係小朋友學術，表演啊，或者係例子啦，咁等到，到時我哋個guest房就會擺。\\n好，咁你就跟著就去到可能係事例啦。咁大家都對…\\n第二個就係復活節，復活節，服務之家年畫展，本來係四月十二號嘅，變咗四月十四，因為同時呢四月十二號有個同事呀，即係家長中咗肺炎，喺屋企自我隔離咗，所以就轉咗。\\n不過其實呢，即係今次轉咗呢，其實我哋有諗過一啲措施嘅。\\n有諗過，我哋今…一路有老師支援，我哋預備…預備咗消毒用品，所有老師都要負責幫呢啲細路仔預備洗手嘅設施。\\n老師同埋學生。\\n因為我哋係下午活動嘅時候係…\\n因為天花板嘅…\\n咁喺下面玩。\\n去…夾住參觀，因為擺野參觀就得嗰幾分鐘。\\n星期二應該先先科自己屋企媽媽，應該夾咗星期二㗎。\\n其實新新都嚟，應該都嚟。\\n一次過玩晒。本身都安排咗星期二，但因為呢，撞咗人哋學校，同香港節嗰啲比賽，咁所以呢，有站已經去咗嗰啲運動，咁就夾到自己下禮拜六，同埋我都減少喺禮拜六做運動啦，因為好多家長都話禮拜六去玩嘅。\\n我都聽啲家長講話，禮拜六好幾嗰啲比賽嘅規矩。\\n係呀，咁所以呢，同埋呢，最好時間好！\\n最好時間嘛。\\n最好時間好，搞禮拜六，又玩又做。\\n係，最好時間囉，又可以帶住佢哋，一齊去玩呀。\\n咁呀，學校嗰邊，玩㗎嘛。\\n應該都會自己參觀下嗰邊嘢嘅。\\n係，吩咐人。甚至親子吩咐人都喺。啟蒙，啟蒙，啟蒙都喺吩咐人。就正式宣布。但實際唔係囉，實際係你個話佢哋。噉呢就可能同一時間都有話佢哋就可能做其他嘢啦。 係，耶穌誕生。 唔係，唔係呀？錯咗啦，係死後復活三天。係啦。佢為咗我哋每一個，所以喺呢個聖天子嘅時候，就被釘喺十字架上面，攬住世世人嘅罪，就犧牲咗啦。但因為佢係神嘅兒子，所以三天後復活啦，所以佢唔係一個人，佢一個神。 噉呢個係父子嘅真體，所以父子係比起聖靈子更重要嘅，因為我哋嘅教義係來自父子嘅。如果佢冇三天後死後復活呢，我哋成個神字係多餘嘅啦。\\n係咪幾爽呀？<noise>嘩，我覺得真係嘅。所以呢，我哋依依家基督教嘅，即係裡面啊，福祉比聖公會大嘅。因為我哋係唔得夠，因為聖公會佢哋主啊，先發現我哋呢，可以被教㗎，就係可以借教堂，喺我哋嗰度，喺我哋嘅樹仁裡面咁樣。咁所以可大嘅字係咁樣，咁除非你做嗰啲做嗰啲畫家囉。<noise>哎，我覺得呢個字好好笑啊。<noise>好搞笑啫。即係可以做一個，佢哋嗰啲抓馬嗰啲嗰啲导师啊，我唔介意嘅，因為好大壓力㗎可能。即係即係拍吓咁啊，或者搞笑啲嘅拍啊。例如例如我哋啲新手，就例如我哋唔知嗰步伐點，即係可以係同時間係呢個抓馬呢，係係啲人呢，其實聖公會同嗰步伐係點㗎嘛，又或者再深吓，唔會聖公會儀式嗰啲啲技巧呢，因為我哋少人啊，因為我哋係細字一，細字一通常會咁分三個層次咁樣去做呢，因為佢哋好多人嘅時，密密麻麻八十幾一百人呢，佢哋好逼。\\n其實好細嘅嘛，你都去過啦。上次嗰啲都OK，個別節目多啲啫。但所以的確係分囉，但如果人數少少，唔駛嘅，三個時間咁樣。可能兩個時間，點解呢，做兩場Drama都好嘅，即係夾啫。睇完個Drama，跟住就落戶外玩咁，咁我哋人數唔係好多。又或者唔駛其實同時間都得嘅其實。你嘅諗法，即係plan嗰個。同埋考慮下會唔會可以豐富啲呀，或者呢會唔會有梳乎啲呀，玩天匯之類，或者整夜市街咁，都得㗎，唔得㗎？ 多過唔得啫，咁樣。即係可能即係呢夾啱個時間嘅，度好晒，去晒邊個位之後再搞呢個，即係之後做時間嘛，噉唯有而家傾咗先，跟住先至慢慢再諗，希望可以留低多啲記憶囉咁。\\n好，跟著就，好啦，跟著就啲學生有冇啲其他嘅情況？\\n好，咁而家交俾你啦，慢慢慢慢收啲啦我哋。咁跟著就下一個就係嗰個講座，講座嗰欄啊，嗰啲講座啊，啲嗰啲版嘅呢，唔知。\\n兩間嘅，加拿大哥版同埋智新班邊啊，等佢哋去寫四十啦，因為有東華兩個嘅，同埋浸大兩個，已經少咗啦，以往係四個已經Cut咗，所以話你哋要留意係，個個院校只係得兩個可選啫，咁最主要係東華可選呢，K1嘅，一月十九號就會嚟，開始體驗嘅，咁都係三月份先至申請四十嘅。咁與此同時呢，浸大四年級K2嘅，佢哋都係三月二十四號就截止來到申請四十嘅。不過呢個四年級可選呢，佢哋本身有個範疇要兼顧，就藝術表達嘅，咁嗰個範疇兩個同學仔都係藝術表達嘅，咁就應該會三月份會過到嚟申請四十。\\n咁淨係呢兩間院校嘅可嘅，咁尚餘嘅加拿大哥版少咗啦已經，唔知剩。\\n所以所以就唔會，呢個會噉樣。\\n吓，十博坊嘅安排就係噉㗎喇。好，噉就，所以每一刻都有個幫吓記時間。噉就好，實際啲，實際大家啦。\\n冇錯。\\n一句說話都提大家嘅，你都讀過書係咪？\\n噉係唔係即刻，即刻提，都唔係要一次過提啦。啫係，你都讀過書，你都期望十博坊你到嘅時候做到嘅，係咪？你都先代佢，因為你都做十博老師，係咪呀？同埋邊件事呢，都真嘅，你啲好奇怪嘅事情，佢哋講法出來。\\n你冇錯，好奇怪，係咪呀？\\n保持專一。你要，你要精神啲保持專一。\\n啲唔應該出嘅說話唔好出呀。\\n平時冇人望住你，可以輕鬆少少。但其實都唔應該㗎，試過聽到咩小朋友，「阿媽，老師話呢，捽住…」，「阿媽，老師話捽…」其實呢老師捽住，但唔聽老師說話。\\n老師我自己話我捽噉樣呀，媽咪話你捽噉樣喎。\\n我喺佢哋度老師話咩咩咩，我唔知呀其實老師呀要捽住㗎。\\n但係佢哋唔睇老師囉。\\n見到老師喺度，咁樣，跟著佢就叫你走咗去囉。\\n因為，都係，專一少少哋呀，家長，喺小朋友面前，姿勢，姿態呀，聽啲唔聽啲呀。\\n其實個老師，老師時時就叫佢哋，要收拾吓呀，因為佢哋將來要教啲分子呀嘛吓，其實真係，佢睇見你喇。\\n所以呢，希望跟那個能夠教到佢哋老師囉。\\n噉希望你哋大家都教到佢哋啦。\\n係呀，噉跟著又可以分享下，啲呀，手手工嘅嘢囉。\\n摺啲嘢呀，咭紙呀，啲呢啲呀，噉你教佢囉，唔理咩，總之做到嘢，噉OK。\\n如果你夾唔掂啲咩，就冇呢啲嘢囉。\\n至於其他，噉點？\\n太吓啲，就唔洗邊做啦，就可能去咸水煮就，或者整木顏色紙。\\n吓，咸水煮嘅果啲，嗰啲老師可能有留意囉，之前，之前嗰啲囉。\\n對，啱呀，我哋有嗰啲。\\n我哋有，之前，之前嗰啲玩意。\\n可以，老師做。\\n就，等你哋話。\\n老師做呀，呢啲。\\n冇，太多嘅家長囉，老師做，老師做。\\n啱呢啲先，我自己把握。\\n我哋，家長亦都唔係總部囉，呢啲嘢。\\n好，好好好好，留意留意。\\n總之，唔多唔少。\\n老師老師。\\n講吓，不如分享下呀。\\n好呀。\\n睇吓份量。\\n係咪呀？\\n嘢，亦都冇，\\n因為老師，其實呀，呢啲事實老師未必多，可能，嗰設計度度老師。\\n삐——係囉。\\n噉呢啲粉絲團體啊？\\n係囉。\\n但係呢，嗰啲正義俠女嘅，\\n呀呀呀，我哋陣時啊，啱啱畢業嗰陣時，\\n唔係呀，真係，真係，我覺得，我覺，\\n好好好好好，大笑三聲，大笑三聲。\\n吓吓嚇，先前嗱，嗰啲啲嘢，\\n其實，\\n啲乜好講嘅啫而家。\\n噉你就係，\\n實際我哋可以做啲啲嘢，\\n例如，\\n討論吓囉，幫吓囉，吓吓吓，睇吓點樣囉，\\n睇吓點樣囉。\\n都睇過返咁嘛，嗰啲訪問，噉樣嘅啫，嗰啲。\\n啱嘛？\\n哦！早晨！\\n哦！早晨啊！\\n我保持距離呀。\\n係咪真係咁嘅啫？\\n冚真係㗎？\\n好好好好好，真係㗎，嗰啲訪問，\\n多謝。\\n我都有睇。\\n好啦，保持安全距離都係啦，\\n加埋戴口罩，同埋，好嘅文化啦，同埋好嘅習慣啦噉樣。\\n好，跟住呢就，\\n呀，講返之前，咦，其實呢，我想之前share啲先。\\n講返之前。\\n咦，之前。\\n呢個唔係上個星期，唔係，今個星期我哋約咗朋友返，\\n其實，同埋，暗暗實有啲老師嘅，我哋開評好好，呢個開評好好㗎。\\n事實上呢，唔係好多嘅，每人叫三個嘅啫，\\n其實就就，這邊都唔洗返嘛。\\n삐——\\n同你聯絡一下呀，係呀，王老師李老師去咗睇K.G.班，K.G.班都好好㗎，佢哋譚校長都……嗰啲呀，嗰啲呀，你哋之前，我都係做老師嗰啲，咁哋點樣游水，咁啱啱呢，你哋先好試，睇吓你哋鍾唔鍾意游水先。冇啦，好，咁王老師同李老師，你哋分開先，因為佢哋譚校長嗰啲。唔係上午咋，上午咋。K.G.呢，李總共呀，李總共呀。三個月咋嘛，啱啱好！你哋？嗰啲美術嗰啲呀，啱啱好啫，總共㗎，三個。咁呢？兩個總共㗎，三個嗰啲。做實驗就好認真，寫埋啲實驗圖啦。係呀，咁我覺得，即刻個圖，好好，寫得好認真。係啦，嗰呢個係其中一個都好認真。呢個亦之係呀。係呀。第二個呢，就，佢哋呢，嗰啲，特別K.G.呀，好深入嗰個植物，植物嘅講座啦。嗰個呀，嗰個，佢哋能夠，真係，老師，即相對於之前好多實驗，都係，一直都跟住啲講座，所以啲小朋友呢，好快嘅，可以講到出嗰啲講座，同埋係做嘅時候都，即係佢哋，佢哋有張工作紙嘅，咁呢，就，每一part就，跟住嚟做啦咁樣，咁就，係啦，佢哋就寫啲佢哋嘅觀察呀，同埋，即係真係做嘅時候嗰個結果呀。即，最，最，最後呢，就係，係，<noise>係啦，講K1啦，因為K1做個實驗嘅，關於啲彩虹嘅，介紹彩虹顏色，傾下點樣設置個實驗，佢哋好好嘅啫，啊會，因為用顏色去做實驗啦，咁佢哋就會睇啲小朋友啫，啊因為啲全部嗰啲，嗰啲，咁所以呢，就話好好，家買呢個顏色，就，又，啊嗰陣時，都可以喺實驗嘅時候，都可以留意㗎，就係可以同啲小朋友講下，其他方向，其實佢哋都係靠返個主題去做，咁都係跟返我哋嗰本，啊，呢個老師呢，佢哋，個個嘅題目，佢就靠返小朋友做個互動啦，如果彩虹橋呢，就係，本身個故事係去超市買嘢，買完晒返嚟啦，跟住，買得太多嘢，啲嘢食唔晒，所以過期，咁其實都係靠，靠返個主題啦，跟住慢慢哋磋商，傾下點樣，跟住呢個呢，就係，佢哋，都會有，全部都有本數啦，咁其實佢哋都係嗰本數做嘢，揀返，自己主題嘅活動，一路咁，啊，呢個係我哋啱啱都講過，我哋上面都有寫㗎，我都有寫㗎，我都有寫㗎，啊，我，我上面，我上面寫低咗，等陣間，啊，如果，啊有，大家可以跟住我哋做，即係跟返佢哋篇，即係用，邊度有超市，...之後佢會變咩姿勢，咁其實佢冇講你咩工藝啊，裡面嘅工具都冇，你要老師要自己試㗎。\\n係喇，即係可以自己例如你要試吹風機，用嗰爐，用啲乜嘢器材去做試，所以其實佢畀個大綱你，其實你要自己再去做探索。\\n係喇，跟著之後呢，佢老師話佢哋花咗好多時間去做嗰實驗，因為原來有好多佢哋覺得得嘅嘢係唔得。\\n老師之前做咗成年都唔得。\\n係囉，原來佢哋話原來真係唔 work，所以老師要做咗成年先突破到。\\n老師，老師，點解會咁嘅？\\n哦，原來有啲工具好似要包錫佢。\\n嘩，原來...\\n...你哋買唔買？\\n唔知喎。\\n...唔記得喎。\\n佢哋純粹罰你喎。\\n教育展聽晚完㗎。\\n人哋都話...六月到喎。\\n冇。\\n...有冇搞錯呀？唔係喎！真係喎！電油呢㗎，電油呢！唔係喎！唔係喎！其實係呀，係電油嚟㗎。其實佢咪電油囉！係呀！係呀！唔係呀，唔係其實呀！其實咪…你知唔知PC6嘅電油呀？應該係喎！冇…冇聽得好乜㗎，今日都冇落底呀。吓！噉就…真係㗎！PC6？唔係啩？真係？真係？因為我見佢十八蚊㗎，十八蚊㗎！其實我…我哋點知呀？其實都唔係，即係佢有少少…嗰個…我估啦！噉呢，但係呢，佢哋呢，噠噠聲出咗本書，咁呢我就係去十八蚊嗰啲囉，傾吓囉！哦！唔係啩，佢哋？佢哋？其實都有個㗎！삐-----\\n係電子版嘅啫，唔係一本書嚟㗎，你淨係印出嚟啫。係囉。好，咁我發俾你哋啫。一路一路有人撳撳撳撳撳撳撳撳撳撳撳撳，撳撳撳撳撳。 呀，原來嗰陣時，K3嘅小學雞，呀細細個，都買咗啦！買好多架。嘥錢啦。我哋老師喺派呢張工作紙之前呢，其實佢講咗幾樣嘢咗啦。用個 PowerPoint 撳咗，咁老師又講咗個故事嘅內容，咁就call返去今日要做嘅實驗，咁佢哋做嘅實驗呢，有呢個企劃案嘅。K3嘅企劃案呢，就係，我個份比較主要嘅。呀，我問題就係，係唔係呀，因為畀你參考你知道啫。係呀。小朋友用沾上檸檬汁嘅棉花棒喺紙上寫字，你會，你認為呢張紙遇熱之後會有啲咩發現？係啦，所以其實個主題就係講到佢哋聞到個檸檬，個檸檬無用，咁佢哋就攞個檸檬嚟做實驗啦。跟住老師講完之後就會派呢個工作，工作紙畀佢哋啦。咁老師其實每一個框呀邊呀，佢都會重複咁畀個提示，問題。咁令到小朋友呢，其實好清楚我哋而家係要做啲咩。B…\\n跟著佢哋就開始做實驗，然後會觀察咗先嘅，跟住佢哋之後就一齊去第一張枱度做實驗。呢個係佢哋嘅工作紙嚟嘅。咁佢哋就會分組喺嗰角落度擺嗰樽蒸餾水連嗰隻碟。跟著最後呢，佢哋就會寫番佢哋嘅結果，同埋呢個就係佢哋寫番佢哋嘅結果，同埋老師有個真實嘅實驗結果嘅影片畀佢哋睇，咁就對比番，啊，原來最後嘅結論就係會變咗做黑色。呢個K3嘅，K1。K3，跟著就到K1喇。K1呢，佢哋就要第一個嘅活動。\\n噉就係一個用水塘做嘅。\\n\\n整個工作紙冇schedule嘅，係呀。咁其實佢哋就係，水塘雨衣之後，啲顏色係會化開。咁佢哋個目標係想做呢個啦。老師今次就兩個人一組，就一齊去做嗰個實驗嘅。\\n\\n\\n咁佢哋，因為啲水好嘅，所以係老師負責去倒啦，跟住小朋友就認真去望佢哋個實驗結果。咁呢度都有啲工作紙，就係佢哋做出來嘅結果。係呀。咁呢啲想全部擺晒喺度嘅，咁老師如果想望嘅話，可以睇吓。\\n\\n\\n佢哋嗰個過程啫。三個呢個特徵係咩呀？三個嘅特徵。啊你係咪要...你而家講畀我聽。三點嘅啫，合照。\\n係啦，首先佢哋就係所有嘅時間都係配合住佢哋主題嘅，然後佢哋嗰活動出發，跟著再配合主題去諗過時間做啲乜嘢。咁，呢樣嘅啦。得咗呢呀？得咗就係…你都冇回應我問題。哦，我得咗就係我要睇返點樣去考慮發我哋嗰主題，去諗返啲活動，畀小朋友學到嘅…啱啦，呢個寫得咗。喺活動嘅時候可以考慮嗰啲…令到嗰個活動有意義。同小朋友生活嗰…嗰方面有關係嘅。第三個呢，就係個活動除咗係考慮主題之後，重要可能同環保係有相關嘅。咁就…環保呢啲自己記得寫上去。係呀，咁就從中可以帶到環保呢個…正面嘅…正面帶俾小朋友去學啫。\\n咁第三個得著就係原來我哋有一本書，係可以有個大綱去，有啲活動可以做參考。咁原來個個活動係老師要花費一啲時間去自己做唔同嘅實驗，係點樣令到小朋友更容易操作，同埋係真係個實驗會成功嘅。咁，要因應一啲方法。小朋友一定要成功嘅嘛。小朋友唔一定要成功，老師要成功。老師要做preparation，你都覺得係咪呀？冇錯。佢而家自己就話因為老師有講，因為老師試咗好多次㗎，係喇，試咗好多次，有啲咩嘢能夠比小朋友去做到實驗嘅效果嘅。咁但係呢，實驗嗰陣時好多變數，有機會都係試完之後，應該覺得可以睇到一個變化實驗嘅，但係小朋友得唔得呢？都好難講，但係起碼老師成功呀，試咗好多次嘅，即preparation好緊要囉。你覺得係應該咁樣咩？你邊三個重要啲，你覺得最重要係邊樣？第一個就係呢，\\n老師呢，好強調姿勢用途，幫佢哋清晰返成個理念，唔同嘅set。唔知自己做緊呢啲係做緊啲咩，同實踐，例如實踐同生命有關嘅話，除咗套理念主題之外呢，都有個環保嘅元素喺啊。因為啲...重複？\\n頭先...你寫嗰啲，其實老師好都提醒，有啲提醒小朋友，可能冇留意，啲食物老師係要同佢哋體驗，唔好浪費食物，要帶返呢啲正確嘅訊息俾小朋友，佢哋唔係話做完就算，要佢哋知道想點解咁樣做，老師嘅角色好似一個美味，有啲提醒可能miss咗，大家都冇留意呢啲細節，就咁照用之嘛。只不過我哋可能就多咗教返小朋友，唔好浪費啲食物，或者啲食物包裝咗過期。等個小朋友知道呢個message，唔係做完就算，啱唔啱？\\n係呀，啱啱好啱啱講咗一次，其實講咗一次，我明啦，我明啦。其實老師自己...OK OK。應該都你啦。我寫囉。係你嘅先。唔係我。呢啲叫做...係咪衝突？係。咁你哋兩個都可以...其實印象之言，我哋個思維模式，比老師更輕鬆。都輕鬆？唔難嘅，都輕鬆輕鬆輕鬆。大家都聽咗都知啦，知道其實係非常之參考佢哋嘅比喻書籍啊，例子比較淺白啦。呢啲其實寫喺份草稿上面嘅案例方法啫，我哋都知道份草稿上面嘅理念係咩。其實個比喻，其實講得好清楚，你喺邊一個，喺邊一個場合，或者邊一個項目上面可以寫...'"
      ]
     },
     "execution_count": 20,
     "metadata": {},
     "output_type": "execute_result"
    }
   ],
   "source": [
    "gemini_output"
   ]
  },
  {
   "cell_type": "code",
   "execution_count": 21,
   "metadata": {},
   "outputs": [],
   "source": [
    "refined_spoken_text = refine_cantonese(gemini_output, GEMINI_API_KEY)"
   ]
  },
  {
   "cell_type": "code",
   "execution_count": 22,
   "metadata": {},
   "outputs": [
    {
     "data": {
      "text/plain": [
       "'跟著佢哋個表格寫，即係關於上年教師發放嗰陣，好似呢個，一條龍申請。你而家deadline，即係今年deadline，因為一月三十一號嘛。我都唔記得，咁即係今年27號呢啲文件我喇。嗰年嘅一月一號，佢哋假期年年都有㗎。我再補充多次，年年都有呢個申請。係嗰年一月一號至今年嘅一月三十一號之前，你已經完成晒成個course，然後有單有證書，返嚟拎錢。例子，讀，Miss，你未讀呀？讀咗喇。讀咗，攞咗張證書？未攞。有收據？有。張證書？係。辦妥先申請。好，申請咗先。好，申請咗，我可唔可以點樣辦妥，即係發放？因為申請咗嘛，如果唔再申請呢，就點呀？就過咗囉。因為佢下個年度會再計，即係下年度2025年一月一號囉，去到，因為你嘅收據係嗰年之前嘅，咁就申請唔到囉。係啦，你而家申請係最尾喇嘛。因為我下個月就係deadline囉。哦，係咪呀？但係你收據已經係讀書嗰陣時嘅喇。係呀。咁所以呢，就申請呢個日子先，佢計數先計呢個日子㗎。\\n\\n廿八蚊幾。咁平嘅咩？係呀。因為我哋做緊特價呀！吓！係呀！我買咗幾次。係呀，佢哋本身都唔係好嘅筆記，因為同質素有關嘅，但係我哋講錯咗，幾十蚊嗰啲嘢，唔係幾十蚊，係嗰個牌子嗰啲。幾百蚊嗰啲？你好似好叻喎。好呀。除非你做校長，就可以控制到。吓！你咪識嗰啲囉！係呀。其他老師都唔係咁易堅持到呀？係呀，點解？因為你小朋友好似呀老師，我年年都寫啦。係咪做咗又做，不過後尾老師話唔好再做。做返呢啲自己，因為成本咁貴，都係呀！都係咁話啦！最主要係事實囉！呢啲老師唔係好肯指正學生，真係好難教㗎嘛。當有咩情況之下，你控制唔到學生，真係好難，心煩都唔煩到我哋！係呀，以前舊式嗰啲係，而家呢一個年代呀，所以呢我哋教小朋友，咁你就真係㗎，唔係講笑，係要逼。\\n\\n之前嗰啲唔係呢個價錢買嘅。\\n其實個標價係呢個價錢。\\n係喎，佢哋加咗價錢喎。\\n嗰陣時我哋入貨唔係呢個價錢。\\n加咗幾時呀？\\n佢哋呢個星期先加。\\n所以囉，有啲嘢加幾十蚊。\\n都有，都有啲加幾蚊啫。\\n最重要係呢個款而家冇晒啦，就因為而家興。\\n我哋呢邊都冇啦，係呀？\\n你哋嗰邊應該差唔多全部都冇喇而家。\\n冇晒喇。\\n呢幾日呢，我哋呢邊呀，瘋狂咁賣。\\n吓，真係㗎？\\n真係㗎。\\n唔打緊，我哋叫做朋友價咋。\\n\\n咁我…\\n快啲，令到自己成家好，咁個個都係能夠…\\n삐——\\n佢幫到小朋友咁嘛，真係學到咁嘅嘢。係呀，咁所以大家傾吓傾吓。嗯。傾吓傾吓可以。嗯。吓，就搵人過嚟到學校教啦，人數唔夠。而家唔夠，得嗰一二三四五六七八，八個人啫。係呀。唔夠喎。數下自己嗰啲嘢嚟度放，就出到放嘅嘢好快㗎嘛。係呀，咁樣咪好，即係而家即係今年咁樣，咁樣嘅話咪要兩年時間。兩年時間？而家冇呀，即係圖嚟，咁我講。吓，如果唔係咁安排用兩年時間慢慢去啫，呢個係需要處理㗎。咁呢就，睇返錢，咁你哋，唔好再，今年其實都做嗰個，英文處呀。就係，啊，呢個呢，啊，英文教法咁樣。都係十幾人㗎咋喎，咁好囉啫。你話呢，畀啲路啦。我哋幫你諗到，一千蚊啦，吓嘛？夾幾蚊啫。如果真係有呢啲，你哋又多討論，同學校啲教法有關，呢個教師法應該用得到㗎。好冇呀？唔使咗佢，因為點解呀？唔係畀政府㗎。\\n\\n因為十四、十五號嘛，唔用到政府，咁嘅錢啦，係咪呀？咁所以呢，呃，我哋同大家講，呃，Deadline㗎，真正嘅資料俾我哋少，咁跟住呢，我就幫你呢，臨走嘅時候呢，申請咗先，然後呢，佢啲錢攞到嗰陣，我哋就俾返大家啦，好無？但係我哋之前講咗，如果你發現你自己有啲Costs已經申請咗，又讀完，又有單，又有證書，就快啲申請啦，唔好嘥。好，跟住呢，去到報告第五個，咁呢，就保護同網上分享。咁呢，第一個應該唔係成事嘅啫，應該差唔多有人有講嘅。因為總部要call㗎嘛，但係呢，就呢度書上俾咗成件事我哋知到。喺Software畀返teacher嘅。畀讀書嘅。係，老師嘅嘢，用佢哋嘅software。好好好。咁你將啲證書，攞返老師應該啱。攞返老師，跟住就OK。OK。即係老師會記錄。最好就你自己整晒成個數先。好好好。咁呢，因為，我哋之前講咗，我哋呢度好似有個你呀，因為咁樣call你呢度資料之前攞晒嘛。係。咁你話，好無，例如好似我哋先前嗰個。咁呢，嗰啲資料先攞晒就好啦。真正，唔係呀。\\n\\n好呀，係呀，真正係讀嘅嘢都...係喇，古怪古怪。咁即係話呢，出入份啦，好喎。咁如果你話，翻譯呢，你網上正式嘅出入翻譯版本證啦，咁咪做返個核對啫啦。正式PPGT都可以。咁正式就係到呢一個聯校嘅同行世界活動啦。咁點樣報個份呢，因為呢，我哋嘅呢係呢一個四月呢，我哋就會正式呢個呢，同時實習比賽，咁點樣去做呢，同大家講，你要正式，當然啦，我哋全香港過嚟參加嘅，因為我哋只有你參與呢，都比返啲證書畀你嘅。我哋呢，係會喺呢個幾時發生呢，係四月十二號暫定咗啦。喺邊度進行呢，喺呢個油尖旺。\\n上次呢日，自己後台入資料，就會做初賽，因為嗰年老師同我分享過，邊個呀，幼稚園K1班代表，係咪呀？K1、K2、K3嘅，咁呢，其實都比賽啦，亦都國際活動參與啦，家長下面問佢啦，總之同比賽嗰啲全部撳個掣啦，公平公正咁去做啦，跟住就代表學校去參與啦，問其他小朋友家，即係又開心啦，又即係常識好豐富啦，所以大家要同佢哋講多啲常識喎，即係嗰啲咩色㗎，K1唔知紅色啦係咪？咁呢知唔知咩叫紅色呢，唔知咩叫紅色啦係咪？即係呢啲常識嘅知識啦，可能紅色都唔識呢啲嘢喎，又或者咩色嘅橙呀，如果K1真係分辨唔到紅色，咁呢你唔好話佢識唔識，你唔好話佢唔識，可能對於辨別顏色上面，未好嘅即係了解喎，或者可能都關心下先，因為有啲小朋友原來發現呢，佢真係分辨唔到㗎，唔係佢唔學呀，咁如果係咁同媽咪講話咁呢要先幫佢，要去嗰陣時先得。即係幾百個呢啲小朋友，咁所以呢大家呢喺呢兩個月裡面，除咗開班之外呢，就要關心小朋友呢，喺嗰個同事之間呀，熟悉上面呢，要豐富啲。因為呢，下星期三嗰啲嘢啦，咁呢都會，都會問嘅，咁大家你都了解下。咁呢跟住呢，下個月比賽都練習，咁其實發生已經又係呢，嗰啲啦，就喺呢個呢，比賽就六月七號，喺聯校之後，係，咁呢就會一間中學兩，跟中學裡面嗰啲人，再自己組隊參與。跟，咁所以比賽嗰家長，係呀，係呀，咁呢，我哋因為KG四咁就搞掂啦嘛，之前嗰比賽已經跟咗正常題㗎啦。係咪OK呀？因為佢哋\\n\\n\\n係呀，啱呀，好正式喎。你嗰條片可以share㗎，大家可以參考下。咁呢個仔，跑步做到啫，因為佢哋嘅骨，一定都，呀，跑步做到啫。係呀，係呀，跑步做到嘅。喺邊度呀？大概幾耐呀？兩歲。你決定呀，你而家照，你照嗰份呀，份呀。係呀。咁所以你而家斟酌下。係呀。咁其實山水參考下，照你哋嗰份，擺喺嗰邊，嗰啲，幾百字左右。咁呢啲小朋友，做少少準備，可能有啲因為六月嘛。係。咁可能開學之後就可以寫返兩，呀，幾十篇嘢，唔使嗰啲寫。係呀，嗰啲，人哋寫。係呀，係呀。你可以問意見，但幫到你嘅，我都一時時，其實冇乜特別少，吖。係呀。咁冇所謂啦其實。係呀，應該係。我見過咁多個，都吓老師啦。但幫唔到你。係呀。其實佢有道理。因為呢個已經阻塞。跟住呢，佢爆煲嗰啲氣出嘅噴噴聲呢，嘩！清唔清楚呢？有呀，跳線呀，嗰啲跳線。佢閱讀發展呢？你哋有傾過呢？閱讀發展未都到喎，係喎。點樣講呢？發出嚟？發出嚟個聲提醒大家，因為呢，小朋友會緊張，有精神囉，就通常有啲擠壓。咁小朋友個喊到成點呢？我就見到呢啲眉機啦。嗯。返嚟嘅時候呢，多啲處理啦。因為呢，其實係呢個係良好嘅教育理念，個行家都有嘅。我哋依家數據呢，係想度中間提到㗎。其實lok，唔...咩報咩嘢...報咩呀？嗰陣因為咩...諗話...嗰陣時頭腦呀...諗咗...因為諗到中央嘅...嘅到期呀，咁唯有掉晒啲書啦，跟著自己啲費用出啦，自己出個數啦，費事咁嘅溝通啦，同埋先生費事麻煩人，其實呢...我諗將啲卡呢小朋友張卡呢，佢哋自己用嘅，拍卡啦，之後書啦，同埋就 iOS 嗰啲...一張卡...係呀...iOS 就咩呀...iOS 就得，因為上面同佢講咗又冇用到 e 卡，所以 e- 一張都發...你哋老師...啊...咁如果...你哋 iOS 呢...就...唔洗囉...你叫佢好似你咁撳入去就得...好...你唔係就問下問下啫吓...好好好...冇啦冇啦...呢...呢...已經唔係今年發生嘅事，因為 iOS 已經提到三年嘅。\\n\\n三年呀，今年第四年啦。咁所以呢，嗰個幾年？即係第二年。因為之前派咗啦嘛。舊年，係呀，係呀。係呀，所以三年之前嗰陣時呀。所以呢，方便啲呀，咁樣呀。咁所以打開下年呀，下年呢，都會預備個啦，下年呢，我都會提小朋友呢，唔會將個即係學生證呢，掛喺個書包度㗎，因為呢，有時呢，會甩咗去啦，呢啲K2呢，冇唔見啲咭嘅，呢啲細嘅呢，因為佢哋唔會識得縛返缚去嘛。即係咁樣㗎啦，因為佢哋就掛住先嘅，因為呢，成日都要用呀，咁呢，就好麻煩嘅，佢哋到呢，嘅時候，咁佢哋好似冇命嘅，佢哋到呢，陣時啲咭呢，就好麻煩喺邊度，你又發現K2嗰啲插袋呀。你唔見到呀，佢哋全部一返嚟呢，一拍完咭呢，就將佢哋個咭呢，就插喺個袋裡面嘅。佢哋個袋除咗咭之外呢，有寫啲啲細鎖匙呀，或者係細鎖匙扣呀，呢啲細細個仔，佢哋都插㗎。我唔知你哋有冇呢？所以，我哋一講嘅，咁呢，佢哋當佢哋呢，嘅活動嘅時候呢，我哋就會拎個袋仔就攞出嚟玩㗎啦。咁佢哋就，因為佢哋掛頸呀，咁所以呢，佢哋呢，因為我哋都反映過嘅，點解我八達通打開呀？我唔拍碎呀，不過處理有啲唔同。所以呢，呢邊嘅小朋友嗰個八達通是打開㗎，其他嗰啲呀，成日，即係上次買個嗰，但呢，K2從來呢，時，唔知點解時，係唔會咁打開啲㗎，佢會唔見㗎，實際上見㗎，實際上攞咗㗎，知㗎，咁呢，就插咗，冇呀，實際上呢，即係嗰陣唔見㗎，佢哋卡片又唔見㗎。咁所以，我哋唔知點解呀，處理問題有啲唔同㗎，咁我哋了解啦，下年呀，我哋下年都會溫故知新再溫故知新拍比小朋友傳訊息再溫故知新拍，然後呢，就請小朋友掛住咁呢，方便啲，咁呢，因為三年都要用㗎嘛，即係又要圖書呀，又要拍咭呀，又要玩器材呀嘛，咁呢，呢啲管理又好啲，咁到時呢，可能喺圖書館，可能食堂買啲啲插袋呀，佢哋又唔見嘛，有嗰啲跟住掛個褲袋裡面，標示喺邊個小朋友打邊個嗰啲呀，係呀，返嚟呢，就呢，做完哂自己掛呀，方便啲咁樣，咁所以呢，就，祈望啦，唔見呢，機會多啲，唔好少啲，因為呢，度話成日打開都唔見㗎，好叻呀嘛，咁我哋辛苦你哋呀，幫手呀，用個布袋入住先啦，因為其實嗰啲，好污糟呀。\\n\\n삐-嗰陣時我見，我見到啲細廁紙，但係呢，好重。係啦，你幫佢哋點樣令到而家暫時用紙巾卡都用到。因為我哋用，用咗三年喇，其實張卡。係啦，所以呀，我哋上次整嘅第一張，同埋派嘅都係嗰個。係，咁希望我哋好保護自己，幫小朋友喇，保護自己啲嘢，咁緊時唔見啦，好嗎？咁同埋呢，就都係點解，啲電子都共用，一張卡用晒，希望攞住多啲嘅事件。同埋可以family啲小朋友，俾啲自律好啲囉。啊，所以呢，禮券放架之後，請大家夾返做啦。因為呢，個禮盒可能呢，都要同我哋老師呀，咁樣。因為呢，重要有個standard嘅禮物list㗎，大家記得喎。暫時都冇變㗎，咁今年都一樣嘅。咁我哋而家呢禮盒裝呀，入面咩樣？如果唔要親子班喎，不過重點係，都冇分零分，咁你記得喎。佢有分先度㗎。咁你，其實你要俾分佢喇，你好認真呀，有分喇。啲事件你唔發現，冇俾加分喇，咁樣。尤其係跳舞，五十分呀。好多時都唔會呀，親子呀，啊，跟著不對呀，老師罰你寫跳舞五十分，好多唔記得。其實呢，滿分計㗎，咁樣多少時。咁所以呢，就唯有返返呢啲啊，其實禮盒，同埋俾返你啊，俾幾樣玩，有分㗎，咁樣好嗎？咁我哋呢，夾返幫小朋友呢，參與返個，其實半分嘅呢個獎勵計劃喇。好，跟著不過九，咁呢，跟著就係呢，禮盒俾啲禮，就係呢，輔點，呢個都會到時俾大家嘅。我哋今年K20，我呀，我係同場呀。咁呢，其實我都參辦年度同場。咁所以呢，都係同場，咁所以呢，大家儘量做同場呢，就做後台嘅。咁我之前做，P咁所以呢，我哋好開心啦，咁樣好多實習嘅經驗。我哋做嗰啲，嗰啲做。\\n\\n咁樣實習呢，就會多數幫嗰啲講解，就係幫手呢，做呢個queue 啦，帶住個 headset 啦，同上面呢，同啲模特兒溝通啦，咁樣。咁樣嗰陣，啊，實習生幫你哋。如果唔幫你哋，咁點算呀？\\n應該可以錄影。\\n係呀，可以一邊做。\\n可以嘅，啊，咁樣呢，可以錄呢個聲。\\n啊，咁點樣壓啲呢？\\n撳掣囉。\\n掣邊度？\\n係，咁如果呢，你真係唔得呢，你可以 WhatsApp 我哋，WhatsApp 實習生，或者呢，可以直接，啊，直接搵我哋。\\n啊，或者直接呢，可以問多次，跟住呢，就記低佢，跟住呢，WhatsApp 俾你哋嗰啲。\\n下禮拜做後台咩，都喺。不過呢，應該唔閒。今次有兩三倍人呀嘛。兩三倍人？好似真係唔閒喎。今日呢，今日唔知，今日七點半，今日嗰班法師。買嗰啲。買啲。吩咐三倍一次。吩咐三倍一次㗎。今日呢，今日星期四，嘩！今日星期四，好難寫，今日星期四，唔...今晚嗰啲。今晚嗰啲呀。係呀，吩咐三倍一次㗎。係呀，吩咐，有啲雨備。今日。係呀，有啲雨備嘅，我哋準備做好啲啦。今次嘩，嗰晚真係喺邊做呢？實際嘅，呢啲發例，呢啲數字，唔好，做得好。不過呢，唔係好多，實際嘅，呢個位置。我哋今晚可以傾掂嘅。呢啲人呀嘛。我哋可以傾掂，應該唔難嘅。你要幫，睇下可唔可以。\\n\\n\\n咁今年所以特別嘅嘢呢，或者嘢多啲，即係主任老師會安排㗎喇，係咪？咁都係支援吓，即係做到做為周周嘅嘢，因為同學仔嘛，係，咁所以呢，我會通知呀主任，等大家聽，要幫忙嘅時候，如果唔係其他人都都會好似高班定係照顧小朋友，因為都會帶小朋友去，醫生、驗傷、睇醫生嘅，咁。好，跟著就去到K，呃，報告資料，資料吓，其他人士資料，同事，資料我做個安排嘅，大家嘅份。咁呢，你班同事嘅呢。唔係，唔係寫個名呀？唔係呀，唔係，唔使，好啦，係咪呀？唔使寫名。可以，吓吓吓，即係即係，因為我知，我知點嘅啫，所以我先至唔使寫。你班同事嗰啲就得㗎喇。係呀，我寫住K同事咪得囉。唔係，因為嗰班資料、資料機嘛。好好，我整理啲呀，好，咁第二件事，呃，同呃，下次理事，因為呢，我哋網嘅舊時喇，就淨網站。 beep\\n\\n\\n係啦，另一個好似同佢風格都好似，佢冇對錯嘅，不過應用情況啫。咁呢，你話有啲名，所以我話我哋啦，我哋十幾年都冇辦法好似你哋呀，咁叻嘅弟子，呢個叫做寫意囉，係咪呀？\\n咁呢，正正係假期啫，咁所以呢，我哋嘅，呢啲就係寫生寫，呢啲就係搵色啦，搵色嘅意思就係話你嗰啲好似Grade 嘅示範功課。\\n係咪呀？\\n有，兩個，兩個，邊兩個先？\\n呢兩個，因為呀，邊個邊個實際，因為你知，呢啲實際grade 示範嘅。咁呢，呢個grade 我其實冇話，係幾多呀，點解呢？好多其他活動，其實我哋其實，係，係，係嗰啲，十二月或者係一月先知啫，咁所以呢，有啲已經明知會撞嘅。\\n咁而家少少比你哋先呀，係呀，咁我哋同之前都試過㗎喇，係咪呀？咁而家最尾我哋都祈望呀，我哋都希望話二十三個Grace嘅大家呀，即藥師呀，我哋都希望裡面放多啲。係呀，咁所以喺前面先分享大家呀，分享大家就其實呢就穩陣啲先。係呀，第一個呢，就就就之前嘅，之前嘅，係呀，會議，咁因為呢，會議呀，其實呢已經安排咗喇，就呢，你哋假期係要喺做啲功課，先至可以教小朋友，同埋呢要預備啲教材佢哋。係呀，我而家無帶check嘅，咁我預計先，即係喺九月嘅時候，可能我哋帶check究竟點整嘅。同埋呢而家呢，我哋建議呀，除非K1K3，K1K3係同一時間，同一主題呀。K2唔係喎。K2係持續嘅禮拜嘅主題嘅。咁所以呢，我覺得就唔理想。係呀，其實差唔多本會本應該\\nK2 喺下個禮拜呢，唔緊要，填咗表去啦。咁下個禮拜呢，我哋會同一時間一齊開始，一齊完嘅。咁呢，個好處係咩呢？有啲指定嘅活動呀，或者係開始先嘅情況，新嘅個主題時，新嘅嗰部分嘅時候呢，我哋會容易啲處理，家長會容易啲理解咁樣喎。你哋都唔使記住喎，如果我個小朋友K1定係K2呢，咁我就好似啱啱數學先完，美術打後數學咁。我哋一齊開始，一齊完，其實可以嘅。因為其實差唔多嘅內容，我諗。係嗰樣，係嗰部分內容同，但個編排嘅過程應該唔會差好遠，呢個係。所以，我哋下禮拜先至一齊同一番啦，咁樣。咁呢，呢個表第三樣嘢，呢度其他嘢呢，例如係教師評分啦，有啲係例如啦，我哋會出卷呀。如果顯示你嘅，我哋會話俾你聽。如果唔顯示你嘅，你就知道啦。因為有啲人會驚咗份份嘅。我哋知道嘅就打晒落去啦。唔知道嘅，真係唔知，冇辦法啦。我哋知道嘅已經擺晒去嗰家長部分裡面啦。其他活動係咩呢？純家長嘅活動，即係份係家長會參與嘅活動，我哋都擺晒落去啦。你可以發揮所長嘅呀，或者係同你做嘅嘢，或者你家長好想去做嘅。咁呢個唔顯示小朋友嘅，唔係主要，只係提供畀家長咁樣。咁如果真係要寫，先寫你自己手寫個表裡面啦。咁真實唔特別，呢啲，第一、二、三、第四個column呢，係關於小朋友事嘅。\\n\\n同有其他家長，即親子一齊嘅，或者好特別嘅情況，我哋都會加入去嘅，例如開幕禮啦，家訪啦，或者開學禮啦，或者新生活動，親子新生活動啦，或者其他活動啦，我哋都會加晒入呢個親子特別活動入面嘅，顯示返一啲日期要留意嘅。唔使講啦，你自己知㗎喇。好，跟住呢，就呢個活動啦，活動裡面，K1、K2、K3，你見到個日期其實有條線，開始日期係幾時，完咗幾時㗎啦。咁所以你見到K1嘅日期呢，係六號，因為七號，因為七號係假期嘛，所以你會喺六號啦，而K3都係完喺六號。不過點解初初，可能因為假期，都唔知幾時返學呢，係咪呀？\\n\\n所以呢，喺呢呢如果係嘅話，你就聽清楚少少啫，保持返時嘅你明白呢個係咩，不過大約啫。\\n\\n重點係呀，其實三個字都唔係問題，我叫字用手寫嘅呢，即係講無呢個表，個表即係數呀，呢個呢，其實呢，嗰陣時嗰個字同個部，你就寫個字。\\n\\n咁但係重點呢，呢一個活動呢，其實我哋其次擺呢，每次活動呢，你發唔發覺佢好奇怪㗎？\\n例如餐巾紙先啦，例如好似佢哋寫字呀，呢個公函呀，或者呢寫信呀。\\n係呀，你哋都會㗎，Q&A嗰啲呀，點解呀？你寫信呀，餐巾呀、嗰啲先啦，或者係指示先啦，或者係填寫呀，嗰啲人講嘅字，填寫下呢個日期啦，係。\\n\\n所以呢，其實嗰啲嘢，你揀嗰啲活動，其實嗰個label都唔需要嘅，其實嗰個主題，唔係因為嗰個主題而有啲活動，你要去延伸嘛，我期望出呢啲囉，而呢啲活動特別啲嘛，因為點解呀，佢持續呀，出Facebook嘛。咁如果出咗，如果唔係，佢可能活動唔得㗎喎。其實呢個標籤呢，即係話出Facebook呀。咁所以冇呢個標籤呢，例如你去食嘢，去買嘢，我而家寫出嚟，點會出Facebook呢，係咪呀？如果我去計數呢，我點會唔出Facebook啫？咁呢啲其實呢啲可以有呀。你揀點買餸啫嘛。係呀，寫個活動，寫嗰啲，係，全部都係咁。寫嗰四個字啫，唔使得嗰啲呀。係呀。嗰拍嘢有啲唔會㗎。老師，係咪有啲唔會有㗎？係咪？有啲唔會，我唔知點解。\\n\\n我期望呢，呢物質純到呢，就出嘥...其實非你喺學校做筆試囉，即係等嗰個筆試ok就得，咁咪即要打email啦，係咪？呢啲小嘢啦，係咪？\\n\\n係，老師，而家呢，呢個discussion跟返之前...因為佢一攤呢，有啲單元會寫好多嘢...所以就冇辦法計呢個最平均。\\n咁即係K1，K3唔平均？\\n唔係，即係佢可能...都系嗰啲計數數...因為有啲人會多咗啲...即係你講嗰啲多咗呀...\\n咪有囉，呢個冇理佢哋喇，咪去咗喇，因為你哋自己都去晒喇嘛，所以唔攪喇喎，係喇，唔緊要，我唔介意，今日...\\n吓年我會重新規劃過啦。係啦，點解呢？唔會差唔到嘅，係啦，一定差到嘅，咁就好似你話齋，好似Alice咁啱啱，我哋寫個主題，一定差唔多嘛，即係大約可能大家都一樣嘅啦。大約啦，係咪？一個都係三十，一個都係十唔會囉，從來數字都唔會咁。係啦，一定差到，我寫十幾年，點會差唔到？不過今年真係特別，總之你以前寫成點樣嗰，係啦，不過我發現到原來有唔同嘅寫員嘅啫，係呀，我相信你哋當時都係咁寫囉，不過我哋想你重新嗰啲，係啦，呢個你都要返Alice原先一定嘅，大約每一個主題差唔多，係呀，呢個特別多，呢個特別少之類，你放心，係啦，咁呢，呢啲呢，唔使你理啦，咁總之呢，我都希望呀你每一個活動呢，最少有兩個，係呀，數字嘅活動，環住個主題，特色嘅活動。因為例如呀，最初嘅一天，即係拜四，最初一天K2嘛，咁 唔係就係囉，你應該處理啲囉。\\n\\n你明我講咩呀？其實都喺嘅，幾時呀？今日唔出呀？你一定每日每日咁㗎喎，咁樣㗎喎，所以有時唔會咁唔係咩？出街食嘢連寫呀，通常囉，要即刻㗎啫，嗰啲嗰啲，你係咪大師呀？唔係嘛？你明我講咩，其實個比例數嚟㗎啫，等你睇呢啲嗰啲特別嘅論調出唔出咩？跟著先呀，係呢啲睇得多㗎啦，其實呀，跟著去數呢啲準備嘅其實都唔係囉，咁即係呢個嗰啲都唔係，而家就見唔到，所以唔使做，跟著呢啲數字呀，數字有冇令聽，知道講咩，就冇改過，其他冇改過呀，之前改過啫嘛，自己嘢口，其他全部冇改過，全部都喺，所以寫咗啲字，就咁樣分畀佢哋寫㗎啦，知道我哋咩，其實老師呀講，原來可以自己寫啲，佢哋嗰個主題就會出街㗎啦。\\n\\n咁係咪要知？係咪要出通告呀？我哋係咪要知呀？幾時去嗰陣？咁囉。好嗎？咁吓理念呢？老師點樣…老師點樣令人哋記得呢？因為…幫你哋兩個禮拜攞最尾嗰 Deadline，咁如果你再要參嘅時候都唔…一時三刻你哋去，咁你而家收到呢個網上嘅其實可以令定吓你上學所有主題嘅活動嘅，因為…嗰個表…我會將呢個表打個 Share，我都會 Share，我俾大家，嗰陣時呢，我俾大家，都係收定，呢都係吓理念機會，即無論你吓分鐘做得都多都好啦，你吓理念有咩你會完成咩事情嘅學習，同埋 plan 你吓年上學嘅嘢嘛。八成都係嘅，即我唔相信到我記住嘅，即就算我哋有自己人生嘅規劃，可能你唔一定行到啦。咁但我哋都會做，我哋吓年做啲咩嘅情況底下，我都會…\\n\\n做好我哋下年接幾嘢，跟手嘅人都唔會咁迷茫，咁唔認識嘛，係咪？所以呢，呢個老師應該都感受倒，你哋到時你哋唔使驚話跟唔上幾嘢，因為前人已經做晒㗎喇，即前一年嘅人，就係而家你哋學到好，佢已經預備好晒所有幾嘢，所以你哋嘅時候已經接收咗嘛，你明白嗎？即係話，因為你哋跟住時㗎，咁所以我覺得呢一個好好嘅文化，我相信唔會差㗎，係呀，我都感覺都係咁嘅。呢啲老師都好好，我相信，係會預備晒自己嘅手尾啦，整好晒啦，咁等新嘅一年嘅老師接收呢，都好教我哋小朋友㗎，係呀。咁所以呢，如果主要我，我會將呢份表交俾你哋嘅，然後呢，因為呢一份表嘅好處係乜嘢？清楚。我覺得係好快你哋知道有啲乜嘢活動要出現嘅，然後有啲乜嘢正式嘅活動你一定要出通告嘅，等到家長，或者我哋行政嘅人員可以好快幫處行政文件。跟著你哋自己寫教案嘅時候，都知道會有啲 alert 嘅嘢，原來呢，計劃書一定要夾定嘅。\\n\\n咁你係咪知，咁當你寫教案嘅時候呢，你就例如呀，例如依家高班呀，嗰個幾月十九號要做主任咁，都會同你去嗰練習喎。咁你咪寫教案嗰陣咪咁寫呀。你明知其實大部分時間唔係喎。你咪寫教案啦，你不如將其他嘅活動呀擺做啦咁。咁所以寫咪有啲超嗰啲寫教案嗰啲真實囉。咁其實教寫咩？其實話每個每個活動都唔同嘅，係呀。其實一個真實係實際寫晒成個詳細嘅。咁所以就出到，係呀，所以先單呢就已經寫晒後期啦。係呀，真係。係呀啦，因為每一個都唔同嘅，所以好難好少，係well-planned嘅，係呀，唔會咁出現嘅。不過唔建議，每間學校都有唔同嘅情況，至於，我而家基本，呢啲係，你嘅教小朋友之前準備好就得㗎啦。係啦，係啦，咁你慢慢先試吓數定啦。我覺得冇話對錯嘅，只不過我哋想做啲預備啫，係呀，咁嘅啫。係啦，咁所以而家呢，我哋撳錢嗰啲理念上嘅嗰啲呢，就根據返嗰啲嘢做。咁所以呢，你如果大概知道呢啲技巧嘅，你同我哋商討吓，傾吓細節，整理呢啲，咁你可以用鉛筆寫㗎啦。或者係唔使大寫啦，因為唔知會點。咁呢啲時間，好唔好啊？咁所以你哋睇住就慢慢試吓你哋今年嘅工作先。吓諗吓先，係啦，咁所以呢，K1、K2、K3呢，就主要係自己吓，自己班嘅啫，唔牽涉我哋嘅。但呢，全校嘅係咪？牽涉全部小朋友㗎啦。咁就例如係咪？其實呢，新年假期嗰啲唔使出嘅都睇㗎嘞，唔緊要啦，因為係，因為呢版本已經出咗嘞。係啦，咁呢，就我哋下個月，好似嗰啲，我哋會有新春填色啦，我哋有生日會啦，我哋嗰啲，遲啲有啲親子活動嗰啲畫啦，我哋都出通告畀家長可以做啦。咁呢其實我哋逢每一個月嘅第一個禮拜五，我哋就會生日會嗰啲家長。咁呢，有啲全校性活動例如，開學水果日嗰啲呢，就你哋返，自己校本，睇四至六個禮拜，通常四至六個禮拜做嘅啫。\\n\\n\\n跟著呢，就呀，主任都安排咗啲自己校內嘅啲普通話比賽呀，有一啲嘅布置嘅活動嗱咁樣，咁有啲可能拍戲呀，巡迴去做啲訪問嘅講座，大家要自己報種咁樣。咁呢，當有新家都唔排除㗎，點解呢？因為等家可能總會有啲想唔參與嘅。可能嗰日呢，嗰日嘅人嘅呀，即係'"
      ]
     },
     "execution_count": 22,
     "metadata": {},
     "output_type": "execute_result"
    }
   ],
   "source": [
    "refined_spoken_text"
   ]
  },
  {
   "cell_type": "markdown",
   "metadata": {},
   "source": [
    "## Speech (Cantonese) to Text (Written Chinese)\n",
    "Using Gemini 1.5 pro"
   ]
  },
  {
   "cell_type": "code",
   "execution_count": 37,
   "metadata": {},
   "outputs": [],
   "source": [
    "def speech_to_written(message, api_key):\n",
    "    prompt = \"\"\"\n",
    "            Convert the following spoken Cantonese text into standard written Chinese in traditional characters (zh-Hant). Maintain grammatical correctness and coherence while ensuring the meaning is preserved. Use formal written Chinese (書面語) rather than colloquial Cantonese (口語).\n",
    "            \"\"\"\n",
    "    return gemini_prompt_call(message, api_key, prompt)"
   ]
  },
  {
   "cell_type": "code",
   "execution_count": 38,
   "metadata": {},
   "outputs": [],
   "source": [
    "raw_written = speech_to_written(refined_spoken_text, GEMINI_API_KEY)"
   ]
  },
  {
   "cell_type": "code",
   "execution_count": 39,
   "metadata": {},
   "outputs": [
    {
     "data": {
      "text/plain": [
       "'跟著他們的表格寫，即是關於上年教師發放款項的時候，像這個，一條龍申請。你現在的截止日期，即是今年的截止日期，因為是一月三十一日嘛。我都忘記了，那麼即是今年二十七號左右我收到這些文件。當年的 一月一日，他們假期年年都有的。我再補充一次，年年都有這個申請。是當年的 一月一日至今年的 一月三十一日之前，你已經完成整個課程，然後有收據有證書，回來領錢。例子，讀，Miss，你還沒讀嗎？讀完了。讀完了，拿到證書了嗎？還沒拿到。有收據嗎？有。證書呢？有。辦妥了才申請。好，申請了才辦妥。好，申請了，我可不可以怎樣辦妥，即是發放？因為申請了嘛，如果不申請的話，會怎樣？就錯過了。因為它下個年度會再計算，即是下年度2025年一月一日開始，因為你的收據是當年之前的，那就申請不到了。是啊，你現在申請是最後的了。因為我下個月就是截止日期了。哦，是嗎？但是你的收據已經是讀書時候的了。是啊。所以呢，就申請這個日子，它計算就計算這個日子。\\n\\n二十八元多。這麼便宜嗎？是啊。因為我們正在做特價！啊！是啊！我買了幾次。是啊，他們本身就不是很好的筆記，因為與質量有關的，但是我們說錯了，幾十元的那些東西，不是幾十元，是那個牌子的那些。幾百元的那些？你好像很厲害啊。好啊。除非你做校長，就可以控制到。啊！你不就是認識那些人嗎！是啊。其他老師都不是那麼容易堅持的嗎？是啊，為什麼？因為你小朋友像老師一樣，我年年都寫啦。是不是做完又做，不過後來老師說不要再做了。做回這些自己的，因為成本這麼貴，是啊！都是這樣說的！最主要是事實！這些老師不是很肯指正學生，真的很难教的嘛。當有什麼情況下，你控制不了學生，真的很難，煩心都煩不到我們！是啊，以前舊式的那些是，現在這個年代啊，所以呢我們教小朋友，那麼你就真的，不是開玩笑，是要逼。\\n\\n之前的那些不是這個價錢買的。\\n其實標價是這個價錢。\\n是啊，他們加了價錢。\\n那時候我們入貨不是這個價錢。\\n加了什麼時候？\\n他們這個星期才加。\\n所以囉，有些東西加幾十元。\\n也有，也有的加幾元而已。\\n最重要的是這個款式現在沒有了，就因為現在流行。\\n我們這邊也沒有了，是吗？\\n你們那邊應該差不多全部都沒有了現在。\\n沒有了。\\n這幾天呢，我們這邊啊，瘋狂地賣。\\n啊，真的嗎？\\n真的。\\n沒關係，我們算是朋友價。\\n\\n那麼我…\\n快點，令到自己全家好，那麼每個人都能够…\\n삐——\\n他幫到小朋友這麼多，真的學到這樣的東西。是啊，所以大家聊聊。嗯。聊聊可以。嗯。啊，就找人過來學校教啦，人數不夠。現在不夠，只有那一二三四五六七八，八個人而已。是啊。不夠啊。數一下自己的那些東西來放，就能很快放出要放的東西嘛。是啊，這樣就好，即是現在即是今年這樣，這樣的話就要兩年時間。兩年時間？現在沒有啊，即是圖來了，那麼我說。啊，如果不是這樣安排用兩年時間慢慢來，這個是需要處理的。那麼就，看回錢，那麼你們，不要再，今年其實都做那個，英文處啊。就是，啊，這個呢，啊，英文教法這樣。也才十幾個人而已，那麼好啦。你說呢，給點方便啦。我們幫你想到了，一千元啦，是吗？夾幾元而已。如果真的有這些，你們又多討論，與學校的教法有關，這個教師法應該用得到的。好不好？不要浪費它，因為為什麼？不是給政府的。\\n\\n因為十四、十五號嘛，用不到政府的錢啦，是不是？所以呢，呃，我們跟大家說，呃，截止日期了，真正的資料給我們很少，那麼接著呢，我就幫你呢，臨走的時候呢，申請了先，然後呢，那些錢拿到時，我們就給回大家啦，好不好？但是我們之前說了，如果你發現你自己有些費用已經申請了，又讀完了，又有單據，又有證書，就快點申請啦，不要浪費。好，接著呢，到報告第五個，那麼呢，就保護和網上分享。那麼呢，第一個應該不是成功的，應該差不多有人有說的。因為總部要打電話嘛，但是呢，就在這本書上給了整件事我們知道。在軟件給回老師的。給讀書的。是，老師的東西，用他們的軟件。好好好。那麼你將那些證書，拿回老師應該對。拿回老師，接著就OK。OK。即是老師會記錄。最好就你自己先整理好整個數目。好好好。那麼呢，因為，我們之前說了，我們這裡好像有個你啊，因為這樣打電話給你這裡資料之前都拿齊了嘛。是。那麼你說，好不好，例如像我們先前的那个。那麼呢，那些資料先拿齊了就好啦。真正，不是啊。\\n\\n好啊，是啊，真正是讀的東西都...是啊，奇奇怪怪。那麼即是說呢，出入記錄啦，好啊。那麼如果你說，翻譯呢，你在網上正式的出入記錄翻譯版本證啦，那麼就做個核對啦。正式PPGT也可以。那麼正式就是到這個聯校的同行世界活動啦。那麼怎樣報名呢，因為呢，我們的呢是一個四月呢，我們就會正式這個呢，同時實習比賽，那麼怎樣去做呢，跟大家說，你要正式，當然啦，我們全香港過來參加的，因為我們只有你參與呢，都給回一些證書給你的。我們呢，會在這個什麼時候發生呢，是四月十二號暫定了。在哪裡進行呢，在這個油尖旺。上次這天，自己後台輸入資料，就會做初賽，因為那年老師跟我分享過，哪個啊，幼稚園K1班代表，是不是？K1、K2、K3的，那麼呢，其實都比賽啦，也都國際活動參與啦，家長下面問他啦，總之與比賽的那些全部按個鍵啦，公平公正地去做啦，接著就代表學校去參與啦，問其他小朋友家，即是又開心啦，又即是常識很豐富啦，所以大家要跟他們說多點常識啊，即是那些什麼顏色啊，K1不知道紅色啦是不是？那麼呢知不知道什麼叫紅色呢，不知道什麼叫紅色啦是不是？即是這些常識的知識啦，可能紅色都不認識這些東西啊，又或者什麼顏色的橙啊，如果K1真的分辨不了紅色，那麼呢你不要說他認識不認識，你不要說他不認識，可能對於辨別顏色上面，還沒有很好的即是了解啊，或者可能都關心一下先，因為有些小朋友原來發現呢，他真的分辨不了的，不是他不學啊，那麼如果是這樣跟媽媽說的話那麼就要先幫他，要去的時候才行。即是幾百個那些小朋友，所以呢大家呢在這兩個月裡面，除了開班之外呢，就要關心小朋友呢，在那個同事之間啊，熟悉上面呢，要豐富點。因為呢，下星期三的那些東西啦，那麼呢都會，都會問的，那麼大家你都了解一下。那麼呢接著呢，下個月比賽都練習，那麼其實發生已經又是呢，那些啦，就在這個呢，比賽就六月七號，在聯校之後，是，那麼呢就會一間中學兩，跟中學裡面那些人，再自己組隊參與。跟，所以比賽的家長，是啊，是啊，那麼呢，我們因為KG四就搞定了嘛，之前的比賽已經跟了正常題目了。是不是OK啊？因為他們\\n\\n\\n是啊，對啊，好正式啊。你的那條影片可以分享的，大家可以參考一下。那麼這個兒子，跑步可以做到，因為他們的骨骼，一定都，啊，跑步可以做到。是啊，是啊，跑步可以做到的。在哪裡啊？大概多久啊？兩歲。你決定啊，你現在照，你照那份啊，份啊。是啊。所以你現在斟酌一下。是啊。那麼其實山水參考一下，照你們的那份，放在那邊，那些，幾百字左右。那麼這些小朋友，做少少準備，可能有些因為六月嘛。是。那麼可能開學之後就可以寫回兩，啊，幾十篇文章，不用那些寫。是啊，那些，人家寫。是啊，是啊。你可以問意見，但幫到你的，我都一時時，其實沒什麼特別少，啊。是啊。那麼無所謂啦其實。是啊，應該是。我見過這麼多個，都吓老師啦。但幫不到你。是啊。其實他有道理。因為這個已經阻塞。接著呢，它爆開的那些氣出來的噴噴聲呢，嘩！清不清楚呢？有啊，跳線啊，那些跳線。他閱讀發展呢？你們有聊過嗎？閱讀發展還沒到啊，是啊。怎樣說呢？發出來？發出來的聲音提醒大家，因為呢，小朋友會緊張，有精神囉，就通常有些擠壓。那麼小朋友哭成怎樣呢？我就見到這些眉機啦。嗯。回來的時候呢，多點處理啦。因為呢，其實是這個是良好的教育理念，同行都有的。我們現在數據呢，是想在中間提到的。其實lok，不...什麼報什麼...報什麼啊？那時候因為什麼...想說...那時候頭腦啊...想了...因為想到中央的...的到期啊，那麼唯有丟掉所有書啦，跟著自己的費用出啦，自己出個數目啦，免得這樣的溝通啦，而且先生免得麻煩人，其實呢...我想將那些卡呢小朋友的卡呢，他們自己用的，拍卡啦，之後書啦，而且就 iOS 那些...一張卡...是啊...iOS 就什麼啊...iOS 就行了，因為上面跟他說了又沒用到 e 卡，所以 e- 一張都發...你們老師...啊...那麼如果...你們 iOS 呢...就...不用囉...你叫他像你這樣按進去就行了...好...你不是就問問而已嗎...好好好...沒了沒了...這...這...已經不是今年發生的事，因為 iOS 已經提到三年的。\\n\\n三年啊，今年第四年啦。那麼所以呢，那個幾年？即是第二年。因為之前派發了嘛。去年，是啊，是啊。是啊，所以三年之前的時候啊。所以呢，方便點啊，這樣啊。所以打開明年啊，明年呢，都會準備個啦，明年呢，我都會提醒小朋友呢，不會將那個即是學生證呢，掛在書包上的，因為呢，有時呢，會掉去了啦，那些K2呢，沒有不見那些卡的，那些小的呢，因為他們不會懂得綁回去嘛。即是這樣啦，因為他們就掛著先的，因為呢，經常都要用啊，那麼呢，就很麻煩的，他們到呢，的時候，那麼他們好像沒命似的，他們到呢，時候那些卡呢，就很麻煩在哪裡，你又發現K2的那些插口袋啊。你看不到啊，他們全部一回來呢，一拍完卡呢，就將他們的卡呢，就插在口袋裡面的。他們的口袋除了卡之外呢，有寫些小鎖匙啊，或者是小鎖匙扣啊，這些小小的，他們都插的。我不知道你們有沒有呢？所以，我們一說的，那麼呢，他們當他們呢，的活動的時候呢，我們就會拿個袋子就拿出來玩的了。那麼他們就，因為他們掛頸啊，所以呢，他們呢，因為我們都反映過的，為什麼我八達通打開啊？我不拍碎啊，不過處理有些不同。所以呢，這邊的小朋友的那個八達通是打開的，其他的那些啊，經常，即是上次買的那個，但是呢，K2從來呢，時，不知道為什麼時，是不會這樣打開的，他會不見的，實際上見的，實際上拿了的，知道的，那麼呢，就插了，沒有啊，實際上呢，即是那時候不見的，他們卡片又不見的。所以，我們不知道為什麼啊，處理問題有些不同的，那麼我們了解啦，明年啊，我們明年都會溫故知新再溫故知新拍給小朋友傳訊息再溫故知新拍，然後呢，就請小朋友掛著那麼呢，方便點，那麼呢，因為三年都要用嘛，即是又要圖書啊，又要拍卡啊，又要玩器材嘛，那麼呢，這些管理也好點，那麼到時呢，可能在圖書館，可能食堂買些插口袋啊，他們又不見嘛，有那些跟著掛在褲袋裡面，標示在哪個小朋友打哪個的那些啊，是啊，回來呢，就呢，做完都自己掛啊，方便點這樣，所以呢，就，祈望啦，不見呢，機會多點，不要少點，因為呢，這裡說經常打開都不見的，很厲害嘛，那麼我們辛苦你們啊，幫忙啊，用個布袋入住先啦，因為其實那些，很髒啊。\\n\\n삐-那時候我看，我看到那些小廁紙，但是呢，很重。是啊，你幫他們怎樣令到現在暫時用紙巾卡都用到。因為我們用，用了三年了，其實那張卡。是啊，所以啊，我們上次做的第一張，和派發的都是那個。是，那麼希望我們好好保護自己，幫小朋友啦，保護自己的東西，那麼緊時不見啦，好嗎？那麼而且呢，就都是為什麼，那些電子都共用，一張卡用完，希望拿著更多的事情。而且可以family點小朋友，給點自律好點囉。啊，所以呢，禮券放架子之後，請大家夾回去做啦。因為呢，那個禮盒可能呢，都要跟我們老師啊，這樣。因為呢，重要有個標準的禮物清單的，大家記得啊。暫時都沒有變的，那麼今年都一樣的。那麼我們現在呢禮盒裝啊，裡面什麼樣？如果不要親子班啊，不過重點是，都沒有分零分，那麼你記得啊。他有分先度的。那麼你，其實你要給分他了，你好認真啊，有分了。那些事件你沒發現，沒有給加分了，這樣。尤其是跳舞，五十分啊。很多時候都不會啊，親子啊，啊，跟著不對啊，老師罰你寫跳舞五十分，很多忘記了。其實呢，滿分計算的，這樣很多時候。所以呢，就唯有回到這些啊，其實禮盒，而且給回你啊，給幾樣玩，有分的，這樣好嗎？那麼我們呢，夾回去幫小朋友呢，參與回個，其實半個的這個獎勵計劃了。好，跟著不過九，那麼呢，跟著就是呢，禮盒給點禮物，就是呢，輔助點，這個都會到時給大家的。我們今年K20，我啊，我是同場啊。那麼呢，其實我都參辦年度同場。所以呢，都是同場，所以呢，大家儘量做同場呢，就做後台的。那麼我之前做，P所以呢，我們很開心啦，這樣很多實習的經驗。我們做的那些，那些做。\\n\\n這樣實習呢，就會多數幫那些講解，就是幫忙呢，做這個排隊啦，帶著耳機啦，跟上面呢，跟那些模特兒溝通啦，這樣。這樣的時候，啊，實習生幫你們。如果不幫你們，那麼怎麼辦啊？\\n應該可以錄影。\\n是啊，可以一邊做。\\n可以的，啊，這樣呢，可以錄這個聲音。\\n啊，那麼怎樣壓這些呢？\\n按鍵囉。\\n鍵在哪裡？\\n是，那麼如果呢，你真的不行呢，你可以 WhatsApp 我們，WhatsApp 實習生，或者呢，可以直接，啊，直接找我們。\\n啊，或者直接呢，可以再問一次，接著呢，就記下它，接著呢，WhatsApp 給你們那些。\\n下禮拜做後台嗎，都在。不過呢，應該不空閒。這次有兩三倍人啊嘛。兩三倍人？好像真的不空閒啊。今天呢，今天不知道，今天七點半，今天那班法師。買那些。買些。吩咐三倍一次。吩咐三倍一次的。今天呢，今天星期四，嘩！今天星期四，很難寫，今天星期四，不...今晚的那些。今晚的那些啊。是啊，吩咐三倍一次的。是啊，吩咐，有些雨備。今天。是啊，有些雨備的，我們準備做好點啦。這次嘩，那晚真的在哪裡做呢？實際的，這些發例，這些數字，不好，做得很好。不過呢，不是很多，實際的，這個位置。我們今晚可以談妥的。這些人啊嘛。我們可以談妥，應該不難的。你要幫，看看可不可以。\\n\\n\\n那麼今年所以特別的東西呢，或者東西多點，即是主任老師會安排的了，是不是？那麼都是支援一下，即是做到作為每周的東西，因為同學仔嘛，是，所以呢，我會通知啊主任，讓大家聽，要幫忙的時候，如果不是其他人都都會好像高班還是照顧小朋友，因為都會帶小朋友去，醫生、驗傷、看醫生的，那麼。好，跟著就到K，呃，報告資料，資料吓，其他人資料，同事，資料我做個安排的，大家的份。那麼呢，你班同事的這個。不是，不是寫名字嗎？不是啊，不是，不用，好了，是不是？不用寫名字。可以，吓吓吓，即是即是，因為我知道，我知道怎樣的，所以我才不用寫。你班同事的那些就行了。是啊，我寫著K同事就行了。不是，因為那班資料、資料機嘛。好好，我整理那些啊，好，那麼第二件事，呃，跟呃，下次理事，因為呢，我們網的舊時啦，就只有網站。 beep\\n\\n\\n是啊，另一個好像跟它風格都很像，它沒有對錯的，不過應用情況而已。那麼呢，你說有些名字，所以我說我們啦，我們十幾年都沒有辦法像你們啊，這麼厲害的弟子，這個叫做寫意囉，是不是？\\n那麼呢，正正是假期，所以呢，我們的，這些就是寫生寫，這些就是找顏色啦，找顏色的意思就是說你那些好像Grade 的示範功課。\\n是不是？\\n有，兩個，兩個，哪兩個先？\\n這兩個，因為啊，哪個哪個實際，因為你知道，這些實際grade 示範的。那麼呢，這個grade 我其實沒有說，是多少啊，為什麼呢？很多其他活動，其實我們其實，是，是，是那些，十二月或者是一月才知道，所以呢，有些已經明知會撞的。\\n那麼現在少少給你們先啊，是啊，那麼我們跟之前都試過的了，是不是？那麼現在最後我們都祈望啊，我們都希望說二十三個Grace的大家啊，即藥師啊，我們都希望裡面放多點。是啊，所以在前面先分享大家啊，分享大家就其實呢就穩陣點先。是啊，第一個呢，就就就之前的，之前的，是啊，會議，那麼因為呢，會議啊，其實呢已經安排好了，就呢，你們假期是要在做些功課，才可以教小朋友，而且呢要準備些教材給他們。是啊，我現在沒有帶check的，那麼我預計先，即是在九月份的時候，可能我們帶check究竟怎樣做的。而且呢現在呢，我們建議啊，除非K1K3，K1K3是同一時間，同一主題啊。K2不是啊。K2是持續的禮拜的主題的。所以呢，我覺得就不理想。是啊，其實差不多本會本應該\\nK2 在下個禮拜呢，沒關係，填了表格去啦。那麼下個禮拜呢，我們會同一時間一起開始，一起完的。那麼呢，好處是什麼呢？有些指定的活動啊，或者是一開始的情況，新的那個主題時，新的那部分的時候呢，我們會容易點處理，家長會容易點理解這樣啊。你們都不用記住啊，如果我的小朋友K1還是K2呢，那麼我就好像剛剛數學先完，美術在後數學這樣。我們一起開始，一起完，其實可以的。因為其實差不多的內容，我想。是那樣，是那部分內容同，但編排的過程應該不會差很遠，這個是。所以，我們下禮拜才一起同一遍啦，這樣。那麼呢，這個表格第三樣東西，這裡其他東西呢，例如是教師評分啦，有些是例如啦，我們會出卷啊。如果顯示你的，我們會告訴你。如果不顯示你的，你就知道啦。因為有些人會驚了那份的。我們知道的都打進去了。不知道的，真的不知道，沒有辦法啦。我們知道的已經放在那個家長部分裡面了。其他活動是什麼呢？純家長的活動，即是那份是家長會參與的活動，我們都放在裡面了。你可以發揮所長的啊，或者是跟你做的東西，或者你家長很想做的。那麼這個不顯示小朋友的，不是主要的，只是提供給家長這樣。那麼如果真的要寫，先寫你自己手寫的表格裡面啦。那麼真實不特別，這些，第一、二、三、第四個欄位呢，是關於小朋友事的。\\n\\n跟有其他家長，即親子一起的，或者很特別的情況，我們都會加入去的，例如開幕禮啦，家訪啦，或者開學禮啦，或者新生活動，親子新生活動啦，或者其他活動啦，我們都會加進這個親子特別活動裡面的，顯示回一些日期要注意的。不用說啦，你自己知道的。好，接著呢，就這個活動啦，活動裡面，K1、K2、K3，你看到日期其實有條線，開始日期是什麼時候，完了什麼時候的。所以你看到K1的日期呢，是六號，因為七號，因為七號是假期嘛，所以你會在六號啦，而K3也是完在六號。不過為什麼初初，可能因為假期，都不知道什麼時候開學呢，是不是？\\n\\n所以呢，在這呢如果是的話，你就聽清楚少少，保持回時的你明白這個是什麼，不過大約。\\n\\n重點是呀，其實三個字都不是問題，我叫字用手寫的這個，即是說沒有這個表格，表格即是數呀，這個呢，其實呢，那時候那個字跟那個部，你就寫那個字。\\n\\n那麼但重點呢，這一個活動呢，其實我們其次放這個，每次活動呢，你發不發覺它很奇怪的？\\n例如餐巾紙先啦，例如好像他們寫字呀，這個公函呀，或者呢寫信呀。\\n是啊，你們都會的，Q&A的那些呀，為什麼呀？你寫信呀，餐巾呀、那些先啦，或者是指示先啦，或者是填寫呀，那些人說的字，填寫一下這個日期啦，是。\\n\\n所以呢，其實那些東西，你選的那些活動，其實那個標籤都不需要的，其實那個主題，不是因為那個主題而有些活動，你要去延伸嘛，我期望出這些囉，而這些活動特別點嘛，因為為什麼呀，它持續呀，出Facebook嘛。那麼如果出了，如果不是，它可能活動不行的啊。其實這個標籤呢，即是說出Facebook呀。所以沒有這個標籤呢，例如你去吃東西，去買東西，我現在寫出來，怎麼會出Facebook呢，是不是？如果我去結帳呢，我怎麼會不出Facebook？那麼這些其實這些可以有呀。你選怎麼買菜嘛。是啊，寫個活動，寫那些，是，全部都是這樣。寫那四個字，不用得那些呀。是啊。那拍東西有些不會的。老師，是不是有些不會有的？是不是？有些不會，我不知道為什麼。\\n\\n我期望呢，這物質純到呢，就出完...其實非你在學校做筆試囉，即是等那個筆試ok就行了，那麼就即要發電郵啦，是不是？這些小事啦，是不是？\\n\\n是，老師，現在呢，這個討論跟回之前...因為它一攤呢，有些單元會寫很多東西...所以就沒有辦法計算這個最平均。\\n那麼即是K1，K3不平均？\\n不是，即是它可能...都是那些計算數...因為有些人會多了些...即是妳說的那些多了呀...\\n就有囉，這個沒有理他們了，就去掉了，因為你們自己都去完了嘛，所以不搞了啊，是啊，沒關係，我不介意，今天...\\n明年我會重新規劃過啦。是啊，為什麼呢？不會差很多的，是啊，一定差很多的，那麼就好像妳說的，好像Alice那樣剛剛，我們寫個主題，一定差不多嘛，即是大概可能大家都一樣的啦。大約啦，是不是？一個都是三十，一個都是十不會囉，從來數字都不會這樣。是啊，一定差很多，我寫十幾年，怎麼會差很多？不過今年真的特別，總之你以前寫成怎樣的，是啊，不過我發現到原來有不同的寫員的，是啊，我相信你們當時都是這樣寫囉，不過我們想你重新那些，是啊，這個妳都要回Alice原先一定的，大約每一個主題差不多，是啊，這個特別多，這個特別少之類，妳放心，是啊，那麼呢，這些呢，不用妳理啦，那麼總之呢，我都希望呀妳每一個活動呢，最少有兩個，是啊，數字的活動，環繞那個主題，特色的活動。因為例如呀，最初的一天，即是星期四，最初一天K2嘛，那麼 不是就是囉，妳應該處理些囉。\\n\\n妳明白我說什麼嗎？其實都在的，什麼時候呀？今天不出嗎？妳一定每天每天這樣的啊，這樣的啊，所以有時不會這樣不是嗎？出去吃東西連寫呀，通常囉，要立刻的，那些那些，妳是不是大師呀？不是嘛？妳明白我說什麼，其實那個比例數來的，等妳看這些那些特別的論調出不出嗎？跟著先呀，是這些看得多的啦，其實呀，跟著去數這些準備的其實都不是囉，那麼即是這個那些都不是，現在就看不見，所以不用做，跟著這些數字呀，數字有沒有令聽，知道說什麼，就沒有改過，其他沒有改過呀，之前改過嘛，自己的東西口，其他全部沒有改過，全部都在，所以寫了那些字，就這樣分給他們寫的了，知道我們什麼，其實老師呀說，原來可以自己寫些，他們的那個主題就會出街的了。\\n\\n那麼是不是要知道？是不是要出通告呀？我們是不是要知道呀？什麼時候去的時候？那麼囉。好嗎？那麼吓理念呢？老師怎樣…老師怎樣令人家記得呢？因為…幫你們兩個禮拜拿最後的 截止日期，那麼如果你再要參的時候都不…一時三刻你們去，那麼你現在收到這個網上的其實可以令定吓你上學所有主題的活動的，因為…那個表格…我會將這個表格打個 分享，我也會 分享，我給大家，那時候呢，我給大家，都是收定，這都是吓理念機會，即無論你吓分鐘做得都多都好啦，你吓理念有什麼你會完成什麼事情的學習，而且 plan 你吓年上學的東西嘛。八成都是的，即我不相信到我記得的，即就算我們有自己人生的規劃，可能你不一定行到啦。那麼但我們都會做，我們吓年做些什麼的情況底下，我都會…\\n\\n做好我們明年接幾東西，跟著的人都不會那麼迷茫，那麼不認識嘛，是不是？所以呢，這個老師應該都感受到，你們到時你們不用怕說跟不上幾東西，因為前人已經做完了，即前一年的人，就是現在你們學到好，他已經準備好所有幾東西，所以你們的時候已經接收了嘛，你明白嗎？即是說，因為你們跟著時的，所以我覺得這一個很好的文化，我相信不會差的，是啊，我都感覺是這樣的。這些老師都很好，我相信，是會準備好自己的手尾啦，做好完了啦，那麼等新的一年的老師接收呢，都好教我們小朋友的，是啊。所以呢，如果主要我，我會將這份表格交給你們的，然後呢，因為這一份表格的好處是什麼？清楚。我覺得是很快你們知道有些什麼活動要出現的，然後有些什麼正式的活動你一定要出通告的，等到家長，或者我們行政的人員可以很快幫處理行政文件。跟著你們自己寫教案的時候，都知道會有些 alert 的東西，原來呢，計劃書一定要夾定的。\\n\\n那麼你是不是知道，那麼當你寫教案的時候呢，你就例如呀，例如現在高班呀，那個幾月十九號要做主任那麼，都會跟你去那練習啊。那麼你寫教案的時候就這樣寫呀。你明明知道其實大部分時間不是啊。你寫教案啦，你不如將其他的活動呀放進去做啦那麼。那麼所以寫就有些超那些寫教案的那些真實囉。那麼其實教寫什麼？其實說每個每個活動都不同的，是啊。其實一個真實是實際寫完整個詳細的。那麼所以就出到，是啊，所以先單這個就已經寫完後期啦。是啊，真的。是啊啦，因為每一個都不同的，所以很難很少，是well-planned的，是啊，不會這樣出現的。不過不建議，每間學校都有不同的情況，至於，我現在基本，這些是，你的教小朋友之前準備好就行了。是啊，是啊，那麼你慢慢先試試數定啦。我覺得沒有說對錯的，只不過我們想做些準備，是啊，這樣的。是啊，所以現在呢，我們按錢的那些理念上的那些呢，就根據回那些東西做。所以呢，你如果大概知道這些技巧的，你跟我們商討一下，聊聊細節，整理這些，那麼你可以用鉛筆寫的。或者是不需大寫啦，因為不知道會怎樣。那麼這些時間，好不好啊？所以你們看著就慢慢試試你們今年的工作先。吓想想先，是啊，所以呢，K1、K2、K3呢，就主要是自己吓，自己班的，不牽涉我們的。但是呢，全校的是不是？牽涉全部小朋友的啦。那麼就例如是不是？其實呢，新年假期那些不用出的都看的了，沒關係啦，因為是，因為這個版本已經出了了。是啊，那麼呢，就我們下個月，好像那些，我們會有新春填色啦，我們有生日會啦，我們那些，遲些有些親子活動那些畫啦，我們都出通告給家長可以做啦。那麼呢其實我們逢每一個月的第一個禮拜五，我們就會生日會那些家長。那麼呢，有些全校性活動例如，開學水果日那些呢，就你們回，自己校本，看四至六個禮拜，通常四至六個禮拜做的。\\n\\n\\n跟著呢，就呀，主任都安排了點自己校內的點普通話比賽呀，有一些的佈置的活動嗱這樣，那麼有些可能拍戲呀，巡迴去做點訪問的講座，大家要自己報名這樣。那麼呢，當有新家都不排除的，為什麼呢？因為等家可能總會有些不想參與的。可能那天呢，那天的人的呀，即是\\n\\n\\nThis translation aims for accuracy and formality in written Chinese.  It avoids Cantonese colloquialisms and prioritizes clarity.  The \"삐——\" represents unintelligible speech and is left as is.  The text retains the somewhat disjointed nature of the original spoken language, reflecting the flow of a conversation with its digressions and repetitions.\\n'"
      ]
     },
     "execution_count": 39,
     "metadata": {},
     "output_type": "execute_result"
    }
   ],
   "source": [
    "raw_written"
   ]
  },
  {
   "cell_type": "markdown",
   "metadata": {},
   "source": [
    "## Refine Written Chinese (smoother sentence)\n",
    "Using Gemini 1.5 pro"
   ]
  },
  {
   "cell_type": "code",
   "execution_count": null,
   "metadata": {},
   "outputs": [],
   "source": [
    "def refine_writte_text(message, api_key):\n",
    "    prompt = \"\"\"\n",
    "            Please refine the following Chinese text by making the sentence structure smoother and more coherent. \n",
    "            Reduce excessive punctuation, clarify ambiguous parts, and ensure natural readability while preserving the original meaning.\n",
    "            Output in traditional Chinese characters (zh-Hant).\n",
    "            \"\"\"\n",
    "    return gemini_prompt_call(message, api_key, prompt, temperature=1)"
   ]
  },
  {
   "cell_type": "code",
   "execution_count": 41,
   "metadata": {},
   "outputs": [],
   "source": [
    "refined_written = refine_writte_text(raw_written, GEMINI_API_KEY)"
   ]
  },
  {
   "cell_type": "code",
   "execution_count": 42,
   "metadata": {},
   "outputs": [
    {
     "data": {
      "text/plain": [
       "'根据去年的教师款项发放表格，流程就像这样，一条龙申请。现在的截止日期是今年的1月31日。我差不多忘了，大概今年的1月27号左右我收到了这些文件。他们每年1月1日都有假期。我再强调一次，每年都有这个申请。你需要在去年的1月1日至今年的1月31日之间完成整个课程，并持有收据和证书，才能回来领取款项。例如，（对某人说）“小姐，你读完了吗？” “读完了。” “拿到证书了吗？” “还没。” “有收据吗？” “有。” “证书呢？” “有。”  要办妥了才能申请。好，申请了才算办妥。好，申请了之后，我该如何办理发放款项呢？因为已经申请了，如果不申请会怎么样？就会错过。因为它下个年度会重新计算，也就是从2025年1月1日开始，因为你的收据是之前的，那就申请不到了。是的，你现在申请是最后的机会了。因为我下个月就是截止日期了。哦，是吗？但是你的收据已经是读书时候的了。是的。所以，申请的日期就是计算的日期。\\n\\n\\n二十八元多。这么便宜吗？是的。因为我们正在做特价！啊！是的！我买了好几次了。是的，它们本身质量不是很好，因为跟质量有关，但是我们说错了，几十元的那些东西，不是指几十元的，是指那个牌子的。几百元的那些？你好像很懂行啊。还好。除非你做校长，才可以控制。啊！你不就是认识那些人吗！是的。其他老师都不是那么容易坚持的吗？是的，为什么？因为你像老师一样对待小朋友，我每年都写。是不是做完又做，不过后来老师说不要再做了。做回自己的，因为成本太高，是的！都是这样说的！最主要是事实！这些老师不是很肯指正学生，真的很难教。当有些情况下，你控制不了学生，真的很棘手，烦都烦不到我们！是的，以前旧式的那些是，现在这个年代啊，所以我们教小朋友，真的不是开玩笑，是要逼的。\\n\\n\\n之前的那些不是这个价钱买的。\\n其实标价就是这个价钱。\\n是的，他们涨价了。\\n我们那时候进货不是这个价钱。\\n什么时候涨的？\\n他们这个星期才涨。\\n所以，有些东西涨了几十元。\\n也有的只涨了几元。\\n最重要的是这个款式现在没有了，就因为现在流行。\\n我们这边也没有了，是吗？\\n你们那边现在应该差不多全部都没有了。\\n没有了。\\n这几天，我们这边卖疯了。\\n啊，真的吗？\\n真的。\\n没关系，我们算你朋友价。\\n\\n\\n那么我…\\n快点，让全家都好，那么每个人都能…\\n삐——\\n他帮了小朋友这么多，真的学到东西了。是的，所以大家聊聊。嗯。聊聊可以。嗯。啊，就找人来学校教，人数不够。现在不够，只有八个人。是的。不够啊。把自己的东西整理好，就能很快找到要用的东西。是的，这样就好，也就是今年这样，这样的话就要两年时间。两年时间？现在没有啊，就是图来了，然后我说。啊，如果不是这样安排用两年时间慢慢来，这个是需要处理的。那就，看回钱，那么你们，不要再，今年其实都做那个，英文处。就是，啊，这个呢，英文教法。也才十几个人，那么好。你说呢，给点方便。我们帮你想到了，一千元，是吗？每人摊几元而已。如果真的有这些，你们可以多讨论，与学校的教法有关，这个教师法应该用得到的。好不好？不要浪费它，因为这不是给政府的。\\n\\n\\n因为14、15号嘛，用不到政府的钱，是不是？所以，我们跟大家说，截止日期到了，我们收到的真实资料很少，那么接下来，我就帮你，在你离开的时候，先申请了，然后，等钱到账了，我们就发给大家，好不好？但是我们之前说了，如果你发现自己有些费用已经申请了，又读完了，又有单据，又有证书，就快点申请，不要浪费。好，接下来，到报告第五个，关于保护和网上分享。那么，第一个应该不算成功，应该差不多有人说过了。因为总部要打电话嘛，但是，这本书上把整件事都告诉我们了。在软件里返还给老师的。给学生的。是，老师的东西，用他们的软件。好好好。那么你把那些证书拿给老师应该就行了。拿给老师，接下来就OK。OK。就是老师会记录。最好你自己先整理好整个数目。好好好。那么，因为我们之前说过，我们这里好像有个你啊，因为这样打电话给你之前资料都拿齐了嘛。是。那么你说，好不好，例如像我们先前的那个。那么，那些资料先拿齐了就好。真的，不是啊。\\n\\n\\n好啊，是啊，真的是读的东西都…是啊，奇奇怪怪。那么就是说，出入记录，好啊。那么如果你说，翻译，你在网上正式的出入记录翻译版本证，那么就做个核对。正式PPGT也可以。那么正式就是到这个联校的同行世界活动。那么怎么报名呢？因为，我们的呢是四月，我们就会正式这个，同时进行实习比赛，那么怎么做呢？跟大家说，你要正式，当然，我们全香港都有人过来参加，因为即使只有你参与，我们也会给你证书。我们会在什么时候举行呢？暂定4月12号。在哪里进行呢？在油尖旺。上次这天，自己后台输入资料，就会进行初赛，因为那年老师跟我分享过，哪个幼儿园K1班代表，是不是？K1、K2、K3的，那么，其实都比赛，也都参与国际活动，家长在下面问他，总之与比赛的那些全部按个键，公平公正地进行，接着就代表学校去参与，问其他小朋友，又开心，又增长见识，所以大家要跟他们多说点常识，就是那些什么颜色啊，K1不知道红色，是不是？知不知道什么叫红色呢？不知道什么叫红色，是不是？就是这些常识，可能红色都不认识，又或者什么颜色的橙，如果K1真的分辨不了红色，那么你不要说他不认识，可能对于辨别颜色方面，还没有很好的理解，或者可以先关心一下，因为有些小朋友真的分辨不了，不是他不学，那么如果是这样跟妈妈说的话，就要先帮他，要去的时候才行。就是几百个小朋友，所以大家在这两个月里面，除了开班之外，就要关心小朋友，在同事之间，熟悉程度上，要丰富点。因为，下星期三的那些东西，都会问的，那么大家都要了解一下。那么接下来，下个月比赛要练习，那么其实发生已经又是，那些，就在这个，比赛是6月7号，在联校之后，是，那么就会一间中学两，跟中学里面那些人，再自己组队参与。跟，所以比赛的家长，是啊，是啊，那么，我们因为KG四就搞定了嘛，之前的比赛已经按照正常题目进行了。是不是OK啊？因为他们…\\n\\n\\n是啊，对啊，好正式啊。你的那条影片可以分享的，大家可以参考一下。那么这个儿子，跑步可以做到，因为他们的骨骼，一定都，啊，跑步可以做到。是啊，是啊，跑步可以做到的。在哪里啊？大概多久啊？两岁。你决定啊，你照那份。是啊。所以你斟酌一下。是啊。那么其实参考一下，照你们的\\n\\n\\n那份，放在那边，那些，几百字左右。那么这些小朋友，做少少准备，可能有些因为六月嘛。是。那么可能开学之后就可以写回几十篇文章，不用那些写。是啊，那些，人家写。是啊，是啊。你可以征求意见，但能帮到你的，我都一时时，其实没什么特别少，啊。是啊。那么无所谓啦其实。是啊，应该是。我见过这么多，都吓老师。但帮不到你。是啊。其实他有道理。因为这个已经阻塞。接着，它爆开的气喷出来的声音，哗！清不清楚呢？有啊，跳线，那些跳线。他阅读发展呢？你们聊过吗？阅读发展还没到，是啊。怎么说呢？发出来？发出来的声音提醒大家，因为，小朋友会紧张，有精神，就通常有些挤压。那么小朋友哭成怎样呢？我就见到这些眉机。嗯。回来的时候，多处理一下。因为，其实是良好的教育理念，同行都有的。我们现在数据，是想在中间提到的。其实，不…什么报什么…报什么啊？那时候因为什么…想说…那时候头脑啊…想了…因为想到中央的…到期啊，那么只好丢掉所有书，跟着自己的费用出，自己出一个数目，免得这样的沟通，而且先生免得麻烦人，其实…我想将那些卡，小朋友的卡，他们自己用的，拍卡，之后书，而且就 iOS 那些…一张卡…是啊…iOS 就什么啊…iOS 就行了，因为上面跟他说了又没用到 e 卡，所以 e- 一张都发…你们老师…啊…那么如果…你们 iOS 呢…就…不用了…你叫他像你这样按进去就行了…好…你不是就问问而已吗…好好好…没了没了…这…这…已经不是今年发生的事，因为 iOS 已经提到三年了。\\n\\n\\n三年啊，今年第四年了。那么所以呢，那个几年？就是第二年。因为之前派发了嘛。去年，是啊，是啊。是啊，所以三年之前的时候啊。所以，方便点，这样。所以打开明年，明年，都会准备个，明年，我都会提醒小朋友，不要将学生证挂在书包上，因为，有时会掉，那些K2，没有不见那些卡的，那些小的，因为他们不会懂得绑回去嘛。就是这样，因为他们就挂着先，因为，经常都要用，那么，就很麻烦，他们到的时候，那么他们好像没命似的，他们到的时候那些卡，就很麻烦，在哪里，你又发现K2的那些插口袋。你看不到啊，他们全部一回，一拍完卡，就把他们的卡插在口袋里面。他们的口袋除了卡之外，还有小钥匙，或者小钥匙扣，这些小小的，他们都插。我不知道你们有没有。所以，我们一说，那么，他们当他们，的活动的时候，我们就会拿个袋子就拿出来玩的了。那么他们就，因为他们挂颈，所以，他们，因为我们都反映过的，为什么我八达通打开？我不拍碎？不过处理方式有些不同。所以，这边的小朋友的八达通是打开的，其他的那些，经常，就是上次买的那个，但是，K2从来，时，不知道为什么时，是不会这样打开的，他会不见的，实际上见的，实际上拿了的，知道的，那么，就插了，没有啊，实际上，就是那时候不见的，他们卡片又不见的。所以，我们不知道为什么，处理问题的方式有些不同，那么我们了解了，明年，我们明年都会温故知新再温故知新拍给小朋友传讯息再温故知新拍，然后，就请小朋友挂着，那么，方便点，那么，因为三年都要用嘛，又要图书，又要拍卡，又要玩器材，那么，这些管理也好点，那么到时，可能在图书馆，可能食堂买些插口袋，他们又不見，有那些跟着挂在裤袋里面的，标示是哪个小朋友的那些，是啊，回来，就，做完都自己挂，方便点这样，所以，就，祈望，不见的，机会少点，不要多点，因为，这里说经常打开都不见的，很厉害嘛，那么我们辛苦你们，帮忙，用个布袋装住先，因为其实那些，很脏。\\n\\n\\n삐-那时候我看，我看到那些小厕纸，但是，很重。是啊，你帮他们想办法，让他们现在暂时用纸巾卡也能用。因为我们用了三年了，其实那张卡。是啊，所以，我们上次做的第一张，和派发的都是那个。是，那么希望我们好好保护自己，帮小朋友，保护自己的东西，那么就不会不见了，好么？那么而且，就都是为什么，那些电子都共用，一张卡用完，希望拿来做更多的事情。而且可以培养小朋友的自律性。啊，所以，礼券放架子之后，请大家夹回去。因为，那个礼盒可能，都要跟我们老师，这样。因为，重要有个标准的礼物清单，大家记得。暂时都没有变的，那么今年都一样的。那么我们现在礼盒装，里面什么样？如果不要亲子班，不过重点是，都没有分零分，那么你记得。它有分先后的。那么你，其实你要给他分了，你好认真啊，有分了。那些事件你没发现，没有给加分，这样。尤其是跳舞，五十分。很多时候都不会，亲子，跟着不对，老师罚你写跳舞五十分，很多都忘记了。其实，是满分计算的，这样很多时候。所以，就只好回到这些，其实礼盒，而且给你，给几样玩，有分的，这样好吗？那么我们，夹回去帮小朋友，参与回个，其实半\\n\\n\\n个的这个奖励计划。好，跟着不过九，那么，跟着就是，礼盒给点礼物，就是，辅助点，这个都会到时给大家的。我们今年K20，我，我是同场。那么，其实我都参办年度同场。所以，都是同场，所以，大家尽量做同场，就做后台的。那么我之前做，P所以，我们很开心，这样很多实习的经验。我们做的那些，那些做。\\n\\n\\n这样实习，就会多数帮那些讲解，就是帮忙，做这个排队，带着耳机，跟上面，跟那些模特儿沟通，这样。这样的时候，实习生帮你们。如果不帮你们，那么怎么办？\\n应该可以录像。\\n是啊，可以一边做。\\n可以的，这样，可以录声音。\\n啊，那么怎么压这些呢？\\n按键。\\n键在哪里？\\n是，那么如果，你真的不行，你可以 WhatsApp 我们，WhatsApp 实习生，或者，可以直接，直接找我们。\\n啊，或者直接，可以再问一次，接着，就记下它，接着，WhatsApp 给你们那些。\\n下礼拜做后台吗？都在。不过，应该不空闲。这次有两三倍人。两三倍人？好像真的不空闲啊。今天，今天不知道，今天七点半，今天那班法师。买那些。买些。吩咐三倍一次。吩咐三倍一次的。今天，今天星期四，哗！今天星期四，很难写，今天星期四，不…今晚的那些。今晚的那些。是啊，吩咐三倍一次的。是啊，吩咐，有些雨备。今天。是啊，有些雨备的，我们准备做好点。这次哗，那晚真的在哪里做呢？实际的，这些案例，这些数字，不好，做得很好。不过，不是很多，实际的，这个位置。我们今晚可以谈妥的。这些人嘛。我们可以谈妥，应该不难的。你要帮，看看可不可以。\\n\\n\\n那么今年所以特别的东西，或者东西多点，就是主任老师会安排的，是不是？那么都是支援一下，就是做到作为每周的东西，因为同学们嘛，是，所以，我会通知主任，让大家听，要帮忙的时候，如果不是其他人都都会好像高班还是照顾小朋友，因为都会带小朋友去，医生、验伤、看医生的，那么。好，跟着就到K，报告资料，资料，其他人资料，同事，资料我做个安排，大家的份。那么，你班同事的这个。不是，不是写名字吗？不是，不是，不用，好了，是不是？不用写名字。可以，就是就是，因为我知道，我知道怎样的，所以我才不用写。你班同事的那些就行了。是啊，我写着K同事就行了。不是，因为那班资料、资料机嘛。好好，我整理那些，好，那么第二件事，跟，下次理事，因为，我们网的旧时，就只有网站。 beep\\n\\n\\n是啊，另一个好像跟它风格都很像，它没有对错，只是应用情况不同而已。那么，你说有些名字，所以我才说我们，我们十几年都没有办法像你们，这么厉害的弟子，这个叫做写意，是不是？\\n那么，正值假期，所以，我们的，这些就是写生，这些就是找颜色，找颜色的意思就是说你那些像Grade 的示范功课。\\n是不是？\\n有，两个，两个，哪两个先？\\n这两个，因为，哪個哪個實際，因为你知道，这些实际grade 示范的。那么，这个grade 我其实没有说，是多少，为什么呢？很多其他活动，其实我们，是，是，是那些，十二月或者是一月才知道，所以，有些已经明知会撞的。\\n那么现在给你们一些先，是啊，那么我们跟之前都试过，是不是？那么现在最后我们都祈望，我们都希望说二十三个Grace的大家，药师，我们都希望里面放多点。是啊，所以在前面先分享大家，分享大家就其实就稳妥点先。是啊，第一个，就就就之前的，之前的，是啊，会议，那么因为，会议，其实，已经安排好了，就是，你们假期是要做些功课，才可以教小朋友，而且要准备些教材给他们。是啊，我现在没有带check的，那么我预计先，就是在九月份的时候，可能我们带check究竟怎么做。而且现在，我们建议，除非K1K3，K1K3是同一时间，同一主题。K2不是。K2是持续的每周主题。所以，我觉得不理想。是啊，其实差不多本会本应该\\nK2 在下个礼拜，没关系，填了表格去。那么下个礼拜，我们会同一时间一起开始，一起完。那么，好处是什么呢？有些指定的活动，或者是一开始的情况，新的主题时，新的那部分的时候，我们会容易点处理，家长会容易点理解。你们都不用记住，如果我的小朋友K1还是K2，那么我就好像刚刚数学先完，美术在后数学这样。我们一起开始，一起完，其实可以的。因为其实差不多的内容，我想。是那样，是那部分内容相同，但编排的过程应该不会差很远，这个是。所以，我们下礼拜才一起同一遍，这样。那么，这个表格第三样东西，这里其他东西，例如是教师评分，有些是例如，我们会出卷。如果显示你的，我们会告诉你。如果不显示你的，你就知道。因为有些人会担心那份的。我们知道的都打进去了。不知道的，真的不知道，没有办法。我们知道的已经放在那个家长部分里面了。其他活动是什么呢？纯家长的活动，就是那份是家长会参与的活动，我们都放在里面了。你可以发挥所长的，或者是跟你做的东西，或者你家长很想做的。那么这个不显示小朋友的，不是主要的，只是提供给家长。那么如果真的要写，先写你自己手写的表格里面。那么其实不特别，这些，第一、二、三、第四个栏位，是关于小朋友事的。\\n\\n\\n跟有其他家长，即亲子一起的，或者很特别的情况，我们都会加入去的，例如开幕礼、家访、开学礼、新生活动、亲子新生活动、或者其他活动，我们都会加进这个亲子特别活动里面，显示回一些日期要注意的。不用说，你自己知道的。好，接着，就这个活动，活动里面，K1、K2、K3，你看到日期其实有条线，开始日期是什么时候，结束日期是什么时候。所以你看到K1的日期，是6号，因为7号是假期，所以你会在6号，而K3也是结束在6号。不过为什么初初，可能因为假期，都不知道什么时候开学，是不是？\\n\\n\\n所以，在这个，如果是的话，你就听清楚一点，保持你明白这个是什么，不过大约。\\n\\n\\n重点是，其实三个字都不是问题，我叫字用手写的这个，就是说没有这个表格，表格就是数，这个，其实，那时候那个字跟那个部，你就写那个字。\\n\\n\\n那么但重点，这一个活动，其实我们其次放这个，每次活动，你有没有发觉它很奇怪的？\\n例如餐巾纸先，例如好像他们写字，这个公函，或者写信。\\n是啊，你们都会的，Q&A的那些，为什么？你写信，餐巾，那些先，或者是指示先，或者是填写，那些人说的字，填写一下这个日期，是。\\n\\n\\n所以，其实那些东西，你选的那些活动，其实那个标签都不需要的，其实那个主题，不是因为那个主题而有些活动，你要去延伸嘛，我期望出这些，而这些活动特别点嘛，因为为什么，它持续，出Facebook嘛。那么如果出了，如果不是，它可能活动不行的。其实这个标签，就是说出Facebook。所以没有这个标签，例如你去吃东西，去买东西，我现\\n\\n\\n在写出来，怎么会出Facebook呢，是不是？如果我去结账，我怎么会不出Facebook？那么这些其实这些可以有。你选怎么买菜嘛。是啊，写个活动，写那些，是，全部都是这样。写那四个字，不用那些。是啊。那拍东西有些不会的。老师，是不是有些不会有的？是不是？有些不会，我不知道为什么。\\n\\n\\n我期望，这物质纯到，就出完…其实非你在学校做笔试，就是等那个笔试ok就行了，那么就就要发电邮，是不是？这些小事，是不是？\\n\\n\\n是，老师，现在，这个讨论跟回之前…因为它一摊，有些单元会写很多东西…所以就没有办法计算这个最平均。\\n那么就是K1，K3不平均？\\n不是，就是它可能…都是那些计算数…因为有些人会多了些…就是妳说的那些多了…\\n就有，这个没有理他们了，就去掉了，因为你们自己都去完了嘛，所以不搞了，是啊，没关系，我不介意，今天…\\n明年我会重新规划过。是啊，为什么呢？不会差很多的，是啊，一定差很多的，那么就好像妳说的，好像Alice那样刚刚，我们写个主题，一定差不多嘛，就是大概可能大家都一样的。大约，是不是？一个都是三十，一个都是十不会，从来数字都不会这样。是啊，一定差很多，我写十几年，怎么会差很多？不过今年真的特别，总之你以前写成怎样的，是啊，不过我发现到原来有不同的写员的，是啊，我相信你们当时都是这样写，不过我们想你重新那些，是啊，这个妳都要回Alice原先一定的，大约每一个主题差不多，是啊，这个特别多，这个特别少之类的，妳放心，是啊，那么，这些，不用妳理，那么总之，我都希望，妳每一个活动，最少有两个，是啊，数字的活动，环绕那个主题，特色的活动。因为例如，最初的一天，就是星期四，最初一天K2嘛，那么不就是，妳应该处理些。\\n\\n\\n妳明白我说什么吗？其实都在的，什么时候？今天不出吗？妳一定每天每天这样的，这样的，所以有时不会这样不是吗？出去吃东西连写，通常，要立刻的，那些那些，妳是不是大师？不是嘛？妳明白我说什么，其实那个比例数来的，等妳看这些那些特别的论调出不出吗？跟着先，是这些看得多的，其实，跟着去数这些准备的其实都不是，那么就是这个那些都不是，现在就看不见，所以不用做，跟着这些数字，数字有没有令人听，知道说什么，就没有改过，其他没有改过，之前改过嘛，自己的东西，其他全部没有改过，全部都在，所以写了那些字，就这样分给他们写的，知道我们什么，其实老师说，原来可以自己写些，他们的那个主题就会出街的。\\n\\n\\n那么是不是要知道？是不是要出通告？我们是不是要知道？什么时候去的时候？那么。好吗？那么理念呢？老师怎样…老师怎样令人家记得呢？因为…帮你们两个礼拜拿最后的截止日期，那么如果你再要参加的时候都不…一时三刻你们去，那么你现\\n\\n\\n在收到这个网上的其实可以令定你上学所有主题的活动的，因为…那个表格…我会将这个表格分享，我也会分享，我给大家，那时候，我给大家，都是收定，这都是理念机会，即使你每分钟做得再多都好，你理念有什么你会完成什么事情的学习，而且计划你下一年上学的东西嘛。八成都是的，我不相信我会记得的，即使我们有自己人生的规划，可能你不一定行到。那么但我们都会做，我们下一年做些什么的情况下，我都会…\\n\\n\\n做好我们明年接的东西，跟着的人就不会那么迷茫，那么不认识嘛，是不是？所以，这个老师应该都感受到，你们到时你们不用怕说跟不上，因为前人已经做完了，就是前一年的人，就是现在你们学到好，他已准备好了所有东西，所以你们的时候已经接收了嘛，你明白吗？就是说，因为你们跟着时，所以我觉得这是一个很好的文化，我相信不会差的，是啊，我都感觉是这样的。这些老师都很好，我相信，是会准备好自己的手尾，做好完了，那么等新一年的老师接收，都好教我们小朋友的，是啊。所以，如果主要我，我会将这份表格交给你们的，然后，因为这一份表格的好处是什么？清楚。我觉得是很快你们知道有些什么活动要出现的，然后有些什么正式的活动你一定要出通告的，等到家长，或者我们行政的人员可以很快帮处理行政文件。跟着你们自己写教案的时候，都知道会有些 alert 的东西，原来，计划书一定要夹定的。\\n\\n\\n那么你是不是知道，那么当你写教案的时候，你就例如，例如现在高班，那个几月十九号要做主任那么，都会跟你去那练习。那么你写教案的时候就这样写。你明明知道其实大部分时间不是。你写教案，你不如将其他的活动放进去做。那么所以写就有些超那些写教案的那些真实。那么其实教写什么？其实说每个活动都不同的，是啊。其实一个真实是实际写完整详细的。那么所以就出到，是啊，所以先单这个就写完后期。是啊，真的。是啊，因为每一个都不同的，所以很难很少，是well-planned的，是啊，不会这样出现的。不过不建议，每间学校都有不同的情况，至于，我现\\n\\n\\n在基本，这些是，你教小朋友之前准备就行了。是啊，是啊，那么你慢慢先试试数定。我觉得没有对错，只不过我们想做些准备，是啊，这样的。是啊，所以现在，我们按钱的那些理念上的那些，就根据那些东西做。所以，你如果大概知道这些技巧的，你跟我们商讨一下，聊聊细节，整理这些，那么你可以用铅笔写的。或者是不需大写，因为不知道会怎样。那么这些时间，好不好？所以你们看着就慢慢试试你们今年的工作先。想想先，是啊，所以，K1、K2、K3，就主要是自己，自己班的，不牵涉我们的。但是，全校的是不是？牵涉全部小朋友的。那么就例如是不是？其实，新年假期那些不用出的都看了，没关系，因为是，因为这个版本已经出了。是啊，那么，就我们下个月，好像那些，我们会有新春填色，我们有生日会，我们那些，迟些有些亲子活动那些画，我们都出通告给家长可以做。那么其实我们逢每月的第一个星期五，我们就会生日会那些家长。那么，有些全校性活动例如，开学水果日那些，就你们回，自己校本，看四至六个星期，通常四至六个星期做的。\\n\\n\\n跟着，就，主任都安排了点自己校内的普通话比赛，有一些布置的活动，这样，那么有些可能拍戏，巡回去做点访问的讲座，大家要自己报名。那么，当有新家都不排除的，为什么呢？因为等家可能总会有不想参与的。可能那天，那天的人的，就是…\\n'"
      ]
     },
     "execution_count": 42,
     "metadata": {},
     "output_type": "execute_result"
    }
   ],
   "source": [
    "refined_written"
   ]
  },
  {
   "cell_type": "markdown",
   "metadata": {},
   "source": [
    "## Summarize using Gemini 1.5 Pro"
   ]
  },
  {
   "cell_type": "code",
   "execution_count": 43,
   "metadata": {},
   "outputs": [],
   "source": [
    "def summarize_refined_written(message, api_key, sum_lvl):\n",
    "    prompt = f\"\"\"Summarize the given Chinese text in Traditional Chinese (zh) at summarization level {sum_lvl}, where 1 is the most concise and 5 is the most detailed, and 0 is in bullet points with sectioned format. Retain key information and context while ensuring clarity, coherence, and fluency.\"\"\"\n",
    "    return gemini_prompt_call(message, api_key, prompt)"
   ]
  },
  {
   "cell_type": "code",
   "execution_count": 44,
   "metadata": {},
   "outputs": [],
   "source": [
    "def summarize_refined_written(message, api_key, sum_lvl, bullet_points=False):\n",
    "    if bullet_points:\n",
    "        prompt = f\"\"\"Summarize the given Chinese text and output in Traditional Chinese (zh) markdown format with bullet points and sectioned format. Use detail level {sum_lvl}, where 1 is the most concise and 5 is the most detailed. Retain key information and context while ensuring clarity, coherence, and fluency.\"\"\"\n",
    "    else:\n",
    "        prompt = f\"\"\"Summarize the given Chinese text and output in Traditional Chinese (zh) markdown format at summarization level {sum_lvl}, where 1 is the most concise and 5 is the most detailed. Retain key information and context while ensuring clarity, coherence, and fluency.\"\"\"\n",
    "    \n",
    "    return gemini_prompt_call(message, api_key, prompt)"
   ]
  },
  {
   "cell_type": "code",
   "execution_count": 45,
   "metadata": {},
   "outputs": [],
   "source": [
    "# Test\n",
    "summarized_text = summarize_refined_written(refined_written, GEMINI_API_KEY, sum_lvl=2, bullet_points=True)"
   ]
  },
  {
   "cell_type": "code",
   "execution_count": 46,
   "metadata": {},
   "outputs": [
    {
     "name": "stdout",
     "output_type": "stream",
     "text": [
      "## 教師款項申請與發放\n",
      "\n",
      "* **申請流程與截止日期:**  款項申請流程簡便，截止日期為今年1月31日。文件約在1月27日左右收到。\n",
      "* **申請資格:** 需在去年1月1日至今年1月31日期間完成指定課程，並持有收據和證書。\n",
      "* **逾期後果:**  若逾期未申請，款項將作廢，因下個年度(2025年1月1日開始)會重新計算。目前是最後申請機會。\n",
      "* **申請與發放:**  申請後即可辦理發放款項。\n",
      "\n",
      "\n",
      "## 教學挑戰與特價商品\n",
      "\n",
      "* **教學困境:**  現今學生難以管教，老師難以堅持像以往一樣的教學方式，成本也高。學生指正不易，控制困難。\n",
      "* **特價商品:**  某商品正在特價，雖然品質一般，但價格便宜。進貨價與標價不同，最近才漲價，部分款式已售罄。將以朋友價出售。\n",
      "\n",
      "\n",
      "## 學校活動與經費\n",
      "\n",
      "* **招生不足:**  學校課程招生不足，目前只有八人，需想辦法增加人數。\n",
      "* **經費運用:**  討論如何運用經費，例如英文教學法培訓，每人分攤費用約一千元。建議多討論與學校教法和教師法相關的運用方式，避免浪費。\n",
      "* **資料提交:**  截止日期已到，收到的真實資料很少。已申請的費用、已完成的課程，以及相關單據和證書，請盡快提交申請。\n",
      "\n",
      "\n",
      "## 網上分享與保護、聯校活動\n",
      "\n",
      "* **網上分享:**  第一個報告關於保護和網上分享，不算成功。軟體會將老師的資料返還給老師和學生。將證書交給老師記錄，並自行整理數目。\n",
      "* **聯校活動:**  聯校同行世界活動，需要正式的出入記錄翻譯版本或PPGT。四月將舉辦全港性的实习比赛，即使只有一人參與也會頒發證書。暫定4月12日在油尖旺舉行。\n",
      "\n",
      "\n",
      "## 幼兒比賽與教學準備\n",
      "\n",
      "* **幼兒比賽:**  K1、K2、K3都參與國際比賽，比賽日期為6月7日，在聯校活動之後。KG四已搞定，之前的比賽已按正常題目進行。\n",
      "* **教學準備:**  影片可供參考，例如兩歲幼兒跑步的影片。準備教材，例如幾百字的文章，可在開學後撰寫。\n",
      "\n",
      "\n",
      "## 教學平台與家長溝通\n",
      "\n",
      "* **教學平台:**  討論iOS平台的使用，以及電子卡的使用情況。已使用三年，今年是第四年。\n",
      "* **學生證管理:**  提醒學生不要將學生證掛在書包上，容易遺失。K2學生常將卡片插在口袋，建議使用布袋裝卡片。\n",
      "* **家長溝通:**  處理眉機問題，以及良好的教育理念。\n",
      "\n",
      "\n",
      "## 課程規劃與教案撰寫\n",
      "\n",
      "* **課程規劃:**  K1、K2、K3課程規劃，K2是持續的每周主題，其他年級則是同一時間開始和結束同一主題。好處是方便處理指定活動和新主題，家長也更容易理解。\n",
      "* **教案撰寫:**  教案撰寫需包含真實的教學活動，例如高班主任的練習。建議將其他活動也加入教案，使教案更貼近實際教學情況。\n",
      "\n",
      "\n",
      "## 學校活動與行政安排\n",
      "\n",
      "* **學校活動:**  新年假期活動、新春填色、生日會、親子活動等，需發出通知給家長。每月第一個星期五舉辦生日會。全校性活動例如水果日，需參考校本規劃。\n",
      "* **行政安排:**  主任安排普通話比賽、布置活動、拍戲、訪問講座等，需自行報名。新家庭的參與安排也需考慮。\n",
      "\n",
      "\n",
      "## 其他\n",
      "\n",
      "*  討論寫意和寫生的區別，以及Grade示範功課。\n",
      "*  會議已安排好，假期需準備功課和教材。\n",
      "*  討論教師評分和出卷事宜。\n",
      "*  家長活動的安排和規劃。\n",
      "*  討論活動標籤和Facebook的關係。\n",
      "*  K1和K3的計算數不平均問題。\n",
      "*  活動數量和特色的要求。\n",
      "*  理念分享和下一年工作的規劃。\n",
      "\n",
      "\n",
      "This summary aims for detail level 2, balancing conciseness with necessary context.  It uses bullet points and sections for clarity and easy navigation.  It retains key information and presents it in a coherent and fluent manner in Traditional Chinese.\n",
      "\n"
     ]
    }
   ],
   "source": [
    "print(summarized_text)"
   ]
  },
  {
   "cell_type": "code",
   "execution_count": 47,
   "metadata": {},
   "outputs": [
    {
     "name": "stdout",
     "output_type": "stream",
     "text": [
      "Markdown file saved successfully.\n"
     ]
    }
   ],
   "source": [
    "# Save as .md file\n",
    "with open(f\"text_output/{file_name}_summary.md\", \"w\") as file:\n",
    "    file.write(summarized_text)\n",
    "\n",
    "print(\"Markdown file saved successfully.\")"
   ]
  },
  {
   "cell_type": "code",
   "execution_count": 49,
   "metadata": {},
   "outputs": [
    {
     "data": {
      "text/markdown": [
       "## 教師款項申請與發放\n",
       "\n",
       "* **申請流程與截止日期:**  款項申請流程簡便，截止日期為今年1月31日。文件約在1月27日左右收到。\n",
       "* **申請資格:** 需在去年1月1日至今年1月31日期間完成指定課程，並持有收據和證書。\n",
       "* **逾期後果:**  若逾期未申請，款項將作廢，因下個年度(2025年1月1日開始)會重新計算。目前是最後申請機會。\n",
       "* **申請與發放:**  申請後即可辦理發放款項。\n",
       "\n",
       "\n",
       "## 教學挑戰與特價商品\n",
       "\n",
       "* **教學困境:**  現今學生難以管教，老師難以堅持像以往一樣的教學方式，成本也高。學生指正不易，控制困難。\n",
       "* **特價商品:**  某商品正在特價，雖然品質一般，但價格便宜。進貨價與標價不同，最近才漲價，部分款式已售罄。將以朋友價出售。\n",
       "\n",
       "\n",
       "## 學校活動與經費\n",
       "\n",
       "* **招生不足:**  學校課程招生不足，目前只有八人，需想辦法增加人數。\n",
       "* **經費運用:**  討論如何運用經費，例如英文教學法培訓，每人分攤費用約一千元。建議多討論與學校教法和教師法相關的運用方式，避免浪費。\n",
       "* **資料提交:**  截止日期已到，收到的真實資料很少。已申請的費用、已完成的課程，以及相關單據和證書，請盡快提交申請。\n",
       "\n",
       "\n",
       "## 網上分享與保護、聯校活動\n",
       "\n",
       "* **網上分享:**  第一個報告關於保護和網上分享，不算成功。軟體會將老師的資料返還給老師和學生。將證書交給老師記錄，並自行整理數目。\n",
       "* **聯校活動:**  聯校同行世界活動，需要正式的出入記錄翻譯版本或PPGT。四月將舉辦全港性的实习比赛，即使只有一人參與也會頒發證書。暫定4月12日在油尖旺舉行。\n",
       "\n",
       "\n",
       "## 幼兒比賽與教學準備\n",
       "\n",
       "* **幼兒比賽:**  K1、K2、K3都參與國際比賽，比賽日期為6月7日，在聯校活動之後。KG四已搞定，之前的比賽已按正常題目進行。\n",
       "* **教學準備:**  影片可供參考，例如兩歲幼兒跑步的影片。準備教材，例如幾百字的文章，可在開學後撰寫。\n",
       "\n",
       "\n",
       "## 教學平台與家長溝通\n",
       "\n",
       "* **教學平台:**  討論iOS平台的使用，以及電子卡的使用情況。已使用三年，今年是第四年。\n",
       "* **學生證管理:**  提醒學生不要將學生證掛在書包上，容易遺失。K2學生常將卡片插在口袋，建議使用布袋裝卡片。\n",
       "* **家長溝通:**  處理眉機問題，以及良好的教育理念。\n",
       "\n",
       "\n",
       "## 課程規劃與教案撰寫\n",
       "\n",
       "* **課程規劃:**  K1、K2、K3課程規劃，K2是持續的每周主題，其他年級則是同一時間開始和結束同一主題。好處是方便處理指定活動和新主題，家長也更容易理解。\n",
       "* **教案撰寫:**  教案撰寫需包含真實的教學活動，例如高班主任的練習。建議將其他活動也加入教案，使教案更貼近實際教學情況。\n",
       "\n",
       "\n",
       "## 學校活動與行政安排\n",
       "\n",
       "* **學校活動:**  新年假期活動、新春填色、生日會、親子活動等，需發出通知給家長。每月第一個星期五舉辦生日會。全校性活動例如水果日，需參考校本規劃。\n",
       "* **行政安排:**  主任安排普通話比賽、布置活動、拍戲、訪問講座等，需自行報名。新家庭的參與安排也需考慮。\n",
       "\n",
       "\n",
       "## 其他\n",
       "\n",
       "*  討論寫意和寫生的區別，以及Grade示範功課。\n",
       "*  會議已安排好，假期需準備功課和教材。\n",
       "*  討論教師評分和出卷事宜。\n",
       "*  家長活動的安排和規劃。\n",
       "*  討論活動標籤和Facebook的關係。\n",
       "*  K1和K3的計算數不平均問題。\n",
       "*  活動數量和特色的要求。\n",
       "*  理念分享和下一年工作的規劃。\n",
       "\n",
       "\n",
       "This summary aims for detail level 2, balancing conciseness with necessary context.  It uses bullet points and sections for clarity and easy navigation.  It retains key information and presents it in a coherent and fluent manner in Traditional Chinese.\n"
      ],
      "text/plain": [
       "<IPython.core.display.Markdown object>"
      ]
     },
     "metadata": {},
     "output_type": "display_data"
    }
   ],
   "source": [
    "from IPython.display import display, Markdown\n",
    "\n",
    "with open(f\"text_output/{file_name}_summary.md\", \"r\") as file:\n",
    "    content = file.read()\n",
    "\n",
    "display(Markdown(content))"
   ]
  },
  {
   "cell_type": "code",
   "execution_count": null,
   "metadata": {},
   "outputs": [],
   "source": []
  }
 ],
 "metadata": {
  "kernelspec": {
   "display_name": ".venv",
   "language": "python",
   "name": "python3"
  },
  "language_info": {
   "codemirror_mode": {
    "name": "ipython",
    "version": 3
   },
   "file_extension": ".py",
   "mimetype": "text/x-python",
   "name": "python",
   "nbconvert_exporter": "python",
   "pygments_lexer": "ipython3",
   "version": "3.12.9"
  }
 },
 "nbformat": 4,
 "nbformat_minor": 2
}
